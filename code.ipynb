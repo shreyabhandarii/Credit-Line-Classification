{
  "nbformat": 4,
  "nbformat_minor": 0,
  "metadata": {
    "colab": {
      "name": "Amex.ipynb",
      "provenance": [],
      "collapsed_sections": [],
      "machine_shape": "hm",
      "include_colab_link": true
    },
    "kernelspec": {
      "name": "python3",
      "display_name": "Python 3"
    }
  },
  "cells": [
    {
      "cell_type": "markdown",
      "metadata": {
        "id": "view-in-github",
        "colab_type": "text"
      },
      "source": [
        "<a href=\"https://colab.research.google.com/github/shreyabhandarii/Credit-Line-Classification/blob/master/Amex.ipynb\" target=\"_parent\"><img src=\"https://colab.research.google.com/assets/colab-badge.svg\" alt=\"Open In Colab\"/></a>"
      ]
    },
    {
      "cell_type": "code",
      "metadata": {
        "id": "ttSeaaV7Zrr0",
        "colab_type": "code",
        "colab": {}
      },
      "source": [
        "import pandas as pd"
      ],
      "execution_count": 0,
      "outputs": []
    },
    {
      "cell_type": "code",
      "metadata": {
        "id": "EoSq7MzGVu-Y",
        "colab_type": "code",
        "outputId": "68d2cc59-7c6a-46c6-da4b-3c4b11ce02fb",
        "colab": {
          "base_uri": "https://localhost:8080/",
          "height": 118
        }
      },
      "source": [
        "from google.colab import drive \n",
        "drive.mount('/content/gdrive')"
      ],
      "execution_count": 8,
      "outputs": [
        {
          "output_type": "stream",
          "text": [
            "Go to this URL in a browser: https://accounts.google.com/o/oauth2/auth?client_id=947318989803-6bn6qk8qdgf4n4g3pfee6491hc0brc4i.apps.googleusercontent.com&redirect_uri=urn%3Aietf%3Awg%3Aoauth%3A2.0%3Aoob&scope=email%20https%3A%2F%2Fwww.googleapis.com%2Fauth%2Fdocs.test%20https%3A%2F%2Fwww.googleapis.com%2Fauth%2Fdrive%20https%3A%2F%2Fwww.googleapis.com%2Fauth%2Fdrive.photos.readonly%20https%3A%2F%2Fwww.googleapis.com%2Fauth%2Fpeopleapi.readonly&response_type=code\n",
            "\n",
            "Enter your authorization code:\n",
            "··········\n",
            "Mounted at /content/gdrive\n"
          ],
          "name": "stdout"
        }
      ]
    },
    {
      "cell_type": "code",
      "metadata": {
        "id": "Uoe77aEFl2V0",
        "colab_type": "code",
        "colab": {}
      },
      "source": [
        "id=pd.read_excel('/content/gdrive/My Drive/data/Amex/Data_Dictionary.xlsx')"
      ],
      "execution_count": 0,
      "outputs": []
    },
    {
      "cell_type": "code",
      "metadata": {
        "id": "BLZuj2BwmsGo",
        "colab_type": "code",
        "colab": {}
      },
      "source": [
        "id.head(2)"
      ],
      "execution_count": 0,
      "outputs": []
    },
    {
      "cell_type": "code",
      "metadata": {
        "id": "UdaBKQ-6piiF",
        "colab_type": "code",
        "colab": {}
      },
      "source": [
        "# names=id['Unnamed: 0']+id['Variable Name']\n",
        "id['names']=id['Unnamed: 0'].str.cat(id['Variable Name'] , sep='-')"
      ],
      "execution_count": 0,
      "outputs": []
    },
    {
      "cell_type": "code",
      "metadata": {
        "id": "9-F-_J5Rr2fK",
        "colab_type": "code",
        "colab": {}
      },
      "source": [
        "id['names']"
      ],
      "execution_count": 0,
      "outputs": []
    },
    {
      "cell_type": "code",
      "metadata": {
        "id": "sOkWBzSamxQY",
        "colab_type": "code",
        "outputId": "800f7a47-9c46-48d9-e244-360e2eca82f6",
        "colab": {
          "base_uri": "https://localhost:8080/",
          "height": 70
        }
      },
      "source": [
        "# names=list(id['Variable Name'])\n",
        "\n",
        "names=list(id['names'])[0:21]\n",
        "names1=list(id['names'])[0:20]\n",
        "print(names)\n",
        "print(names1)"
      ],
      "execution_count": 176,
      "outputs": [
        {
          "output_type": "stream",
          "text": [
            "['VAR1-ID', 'VAR2-FICO', 'VAR3-Business Revenue', 'VAR4-TSR', 'VAR5-Last 6M Avg Util', 'VAR6-Income', 'VAR7-Last 6M Avg Remit', 'VAR8-Last 6M Avg Bal', 'VAR9-Internal Revolve', 'VAR10-Lending AR% in last 6M', 'VAR11-ExternalBalance', 'VAR12-Months in Business', 'VAR13-preferred_spend_line', 'VAR14-total_cards', 'VAR15-preferred_bal_line', 'VAR16-preavgremit1_3_all', 'VAR17-External_rev_rate', 'VAR18-Supplementary Cards', 'VAR19-isChargeCust', 'VAR20-CMV', 'VAR21-Assigned Line']\n",
            "['VAR1-ID', 'VAR2-FICO', 'VAR3-Business Revenue', 'VAR4-TSR', 'VAR5-Last 6M Avg Util', 'VAR6-Income', 'VAR7-Last 6M Avg Remit', 'VAR8-Last 6M Avg Bal', 'VAR9-Internal Revolve', 'VAR10-Lending AR% in last 6M', 'VAR11-ExternalBalance', 'VAR12-Months in Business', 'VAR13-preferred_spend_line', 'VAR14-total_cards', 'VAR15-preferred_bal_line', 'VAR16-preavgremit1_3_all', 'VAR17-External_rev_rate', 'VAR18-Supplementary Cards', 'VAR19-isChargeCust', 'VAR20-CMV']\n"
          ],
          "name": "stdout"
        }
      ]
    },
    {
      "cell_type": "code",
      "metadata": {
        "id": "UtU4GcyiZKgQ",
        "colab_type": "code",
        "colab": {}
      },
      "source": [
        "train=pd.read_csv('/content/gdrive/My Drive/data/Amex/development_dataset.csv', names=names, skiprows=1)"
      ],
      "execution_count": 0,
      "outputs": []
    },
    {
      "cell_type": "code",
      "metadata": {
        "id": "QzRCq5IX9Pvs",
        "colab_type": "code",
        "colab": {}
      },
      "source": [
        "lead=pd.read_csv('/content/gdrive/My Drive/data/Amex/leaderboard_dataset.csv', names=names1, skiprows=1 )"
      ],
      "execution_count": 0,
      "outputs": []
    },
    {
      "cell_type": "code",
      "metadata": {
        "id": "7HxEOuY59wkJ",
        "colab_type": "code",
        "colab": {
          "base_uri": "https://localhost:8080/",
          "height": 202
        },
        "outputId": "0f27ddf6-b1ef-47ce-a232-97871ecfed92"
      },
      "source": [
        "lead.head(3)"
      ],
      "execution_count": 131,
      "outputs": [
        {
          "output_type": "execute_result",
          "data": {
            "text/html": [
              "<div>\n",
              "<style scoped>\n",
              "    .dataframe tbody tr th:only-of-type {\n",
              "        vertical-align: middle;\n",
              "    }\n",
              "\n",
              "    .dataframe tbody tr th {\n",
              "        vertical-align: top;\n",
              "    }\n",
              "\n",
              "    .dataframe thead th {\n",
              "        text-align: right;\n",
              "    }\n",
              "</style>\n",
              "<table border=\"1\" class=\"dataframe\">\n",
              "  <thead>\n",
              "    <tr style=\"text-align: right;\">\n",
              "      <th></th>\n",
              "      <th>VAR1-ID</th>\n",
              "      <th>VAR2-FICO</th>\n",
              "      <th>VAR3-Business Revenue</th>\n",
              "      <th>VAR4-TSR</th>\n",
              "      <th>VAR5-Last 6M Avg Util</th>\n",
              "      <th>VAR6-Income</th>\n",
              "      <th>VAR7-Last 6M Avg Remit</th>\n",
              "      <th>VAR8-Last 6M Avg Bal</th>\n",
              "      <th>VAR9-Internal Revolve</th>\n",
              "      <th>VAR10-Lending AR% in last 6M</th>\n",
              "      <th>VAR11-ExternalBalance</th>\n",
              "      <th>VAR12-Months in Business</th>\n",
              "      <th>VAR13-preferred_spend_line</th>\n",
              "      <th>VAR14-total_cards</th>\n",
              "      <th>VAR15-preferred_bal_line</th>\n",
              "      <th>VAR16-preavgremit1_3_all</th>\n",
              "      <th>VAR17-External_rev_rate</th>\n",
              "      <th>VAR18-Supplementary Cards</th>\n",
              "      <th>VAR19-isChargeCust</th>\n",
              "      <th>VAR20-CMV</th>\n",
              "      <th>VAR21-Assigned Line</th>\n",
              "    </tr>\n",
              "  </thead>\n",
              "  <tbody>\n",
              "    <tr>\n",
              "      <th>0</th>\n",
              "      <td>1</td>\n",
              "      <td>878.823529</td>\n",
              "      <td>0.833333</td>\n",
              "      <td>821.428571</td>\n",
              "      <td>620.835806</td>\n",
              "      <td>5.181818</td>\n",
              "      <td>0.833974</td>\n",
              "      <td>197.500187</td>\n",
              "      <td>NaN</td>\n",
              "      <td>58.632548</td>\n",
              "      <td>9.433609</td>\n",
              "      <td>40.033361</td>\n",
              "      <td>10.000000</td>\n",
              "      <td>2</td>\n",
              "      <td>10.0</td>\n",
              "      <td>1.212784</td>\n",
              "      <td>1000.00</td>\n",
              "      <td>1</td>\n",
              "      <td>0</td>\n",
              "      <td>48.099828</td>\n",
              "      <td>NaN</td>\n",
              "    </tr>\n",
              "    <tr>\n",
              "      <th>1</th>\n",
              "      <td>2</td>\n",
              "      <td>891.764706</td>\n",
              "      <td>0.138889</td>\n",
              "      <td>357.142857</td>\n",
              "      <td>614.092215</td>\n",
              "      <td>3.909091</td>\n",
              "      <td>0.595187</td>\n",
              "      <td>197.016843</td>\n",
              "      <td>253.896073</td>\n",
              "      <td>58.632548</td>\n",
              "      <td>10.144612</td>\n",
              "      <td>NaN</td>\n",
              "      <td>5.666667</td>\n",
              "      <td>1</td>\n",
              "      <td>7.6</td>\n",
              "      <td>1.004907</td>\n",
              "      <td>992.55</td>\n",
              "      <td>0</td>\n",
              "      <td>0</td>\n",
              "      <td>104.018933</td>\n",
              "      <td>NaN</td>\n",
              "    </tr>\n",
              "    <tr>\n",
              "      <th>2</th>\n",
              "      <td>3</td>\n",
              "      <td>955.294118</td>\n",
              "      <td>0.055556</td>\n",
              "      <td>NaN</td>\n",
              "      <td>611.574748</td>\n",
              "      <td>6.363636</td>\n",
              "      <td>0.918652</td>\n",
              "      <td>197.660051</td>\n",
              "      <td>22.086661</td>\n",
              "      <td>NaN</td>\n",
              "      <td>0.583494</td>\n",
              "      <td>NaN</td>\n",
              "      <td>6.000000</td>\n",
              "      <td>1</td>\n",
              "      <td>6.0</td>\n",
              "      <td>1.157115</td>\n",
              "      <td>NaN</td>\n",
              "      <td>1</td>\n",
              "      <td>1</td>\n",
              "      <td>120.586919</td>\n",
              "      <td>NaN</td>\n",
              "    </tr>\n",
              "  </tbody>\n",
              "</table>\n",
              "</div>"
            ],
            "text/plain": [
              "   VAR1-ID   VAR2-FICO  ...   VAR20-CMV  VAR21-Assigned Line\n",
              "0        1  878.823529  ...   48.099828                  NaN\n",
              "1        2  891.764706  ...  104.018933                  NaN\n",
              "2        3  955.294118  ...  120.586919                  NaN\n",
              "\n",
              "[3 rows x 21 columns]"
            ]
          },
          "metadata": {
            "tags": []
          },
          "execution_count": 131
        }
      ]
    },
    {
      "cell_type": "code",
      "metadata": {
        "id": "hL_hXpMf74g0",
        "colab_type": "code",
        "colab": {}
      },
      "source": [
        "predict=pd.read_csv('/content/gdrive/My Drive/data/Amex/Evaluation_dataset.csv', names=names1, skiprows=1)"
      ],
      "execution_count": 0,
      "outputs": []
    },
    {
      "cell_type": "code",
      "metadata": {
        "id": "lzOFhXQzZnnk",
        "colab_type": "code",
        "outputId": "58a9f1b8-cdf4-48fd-9b67-1a6741c652c1",
        "colab": {
          "base_uri": "https://localhost:8080/",
          "height": 260
        }
      },
      "source": [
        "train.head()"
      ],
      "execution_count": 100,
      "outputs": [
        {
          "output_type": "execute_result",
          "data": {
            "text/html": [
              "<div>\n",
              "<style scoped>\n",
              "    .dataframe tbody tr th:only-of-type {\n",
              "        vertical-align: middle;\n",
              "    }\n",
              "\n",
              "    .dataframe tbody tr th {\n",
              "        vertical-align: top;\n",
              "    }\n",
              "\n",
              "    .dataframe thead th {\n",
              "        text-align: right;\n",
              "    }\n",
              "</style>\n",
              "<table border=\"1\" class=\"dataframe\">\n",
              "  <thead>\n",
              "    <tr style=\"text-align: right;\">\n",
              "      <th></th>\n",
              "      <th>VAR1-ID</th>\n",
              "      <th>VAR2-FICO</th>\n",
              "      <th>VAR3-Business Revenue</th>\n",
              "      <th>VAR4-TSR</th>\n",
              "      <th>VAR5-Last 6M Avg Util</th>\n",
              "      <th>VAR6-Income</th>\n",
              "      <th>VAR7-Last 6M Avg Remit</th>\n",
              "      <th>VAR8-Last 6M Avg Bal</th>\n",
              "      <th>VAR9-Internal Revolve</th>\n",
              "      <th>VAR10-Lending AR% in last 6M</th>\n",
              "      <th>VAR11-ExternalBalance</th>\n",
              "      <th>VAR12-Months in Business</th>\n",
              "      <th>VAR13-preferred_spend_line</th>\n",
              "      <th>VAR14-total_cards</th>\n",
              "      <th>VAR15-preferred_bal_line</th>\n",
              "      <th>VAR16-preavgremit1_3_all</th>\n",
              "      <th>VAR17-External_rev_rate</th>\n",
              "      <th>VAR18-Supplementary Cards</th>\n",
              "      <th>VAR19-isChargeCust</th>\n",
              "      <th>VAR20-CMV</th>\n",
              "      <th>VAR21-Assigned Line</th>\n",
              "    </tr>\n",
              "  </thead>\n",
              "  <tbody>\n",
              "    <tr>\n",
              "      <th>0</th>\n",
              "      <td>VAR1</td>\n",
              "      <td>VAR2</td>\n",
              "      <td>VAR3</td>\n",
              "      <td>VAR4</td>\n",
              "      <td>VAR5</td>\n",
              "      <td>VAR6</td>\n",
              "      <td>VAR7</td>\n",
              "      <td>VAR8</td>\n",
              "      <td>VAR9</td>\n",
              "      <td>VAR10</td>\n",
              "      <td>VAR11</td>\n",
              "      <td>VAR12</td>\n",
              "      <td>VAR13</td>\n",
              "      <td>VAR14</td>\n",
              "      <td>VAR15</td>\n",
              "      <td>VAR16</td>\n",
              "      <td>VAR17</td>\n",
              "      <td>VAR18</td>\n",
              "      <td>VAR19</td>\n",
              "      <td>VAR20</td>\n",
              "      <td>VAR21</td>\n",
              "    </tr>\n",
              "    <tr>\n",
              "      <th>1</th>\n",
              "      <td>1</td>\n",
              "      <td>828.2352941</td>\n",
              "      <td>0.138888889</td>\n",
              "      <td>321.4285714</td>\n",
              "      <td>625.9110063</td>\n",
              "      <td>1.818181818</td>\n",
              "      <td>1.081550023</td>\n",
              "      <td>198.1134691</td>\n",
              "      <td>NaN</td>\n",
              "      <td>58.63254762</td>\n",
              "      <td>0.279273086</td>\n",
              "      <td>100.0834028</td>\n",
              "      <td>1</td>\n",
              "      <td>1</td>\n",
              "      <td>1</td>\n",
              "      <td>1.540593983</td>\n",
              "      <td>NaN</td>\n",
              "      <td>1</td>\n",
              "      <td>0</td>\n",
              "      <td>100.1049914</td>\n",
              "      <td>Low</td>\n",
              "    </tr>\n",
              "    <tr>\n",
              "      <th>2</th>\n",
              "      <td>2</td>\n",
              "      <td>911.7647059</td>\n",
              "      <td>0.027777778</td>\n",
              "      <td>NaN</td>\n",
              "      <td>611.5747476</td>\n",
              "      <td>8.181818182</td>\n",
              "      <td>1.344478804</td>\n",
              "      <td>198.6000199</td>\n",
              "      <td>22.08666116</td>\n",
              "      <td>NaN</td>\n",
              "      <td>NaN</td>\n",
              "      <td>15.01251043</td>\n",
              "      <td>NaN</td>\n",
              "      <td>1</td>\n",
              "      <td>NaN</td>\n",
              "      <td>1.614613197</td>\n",
              "      <td>NaN</td>\n",
              "      <td>0</td>\n",
              "      <td>1</td>\n",
              "      <td>146.6540448</td>\n",
              "      <td>High</td>\n",
              "    </tr>\n",
              "    <tr>\n",
              "      <th>3</th>\n",
              "      <td>3</td>\n",
              "      <td>962.3529412</td>\n",
              "      <td>0.833333333</td>\n",
              "      <td>35.71428571</td>\n",
              "      <td>615.8253809</td>\n",
              "      <td>8.181818182</td>\n",
              "      <td>0.720795853</td>\n",
              "      <td>197.267767</td>\n",
              "      <td>NaN</td>\n",
              "      <td>58.63254762</td>\n",
              "      <td>0.453212403</td>\n",
              "      <td>210.175146</td>\n",
              "      <td>10</td>\n",
              "      <td>1</td>\n",
              "      <td>10</td>\n",
              "      <td>1.044598924</td>\n",
              "      <td>NaN</td>\n",
              "      <td>0</td>\n",
              "      <td>0</td>\n",
              "      <td>98.24956971</td>\n",
              "      <td>Medium</td>\n",
              "    </tr>\n",
              "    <tr>\n",
              "      <th>4</th>\n",
              "      <td>4</td>\n",
              "      <td>892.9411765</td>\n",
              "      <td>NaN</td>\n",
              "      <td>NaN</td>\n",
              "      <td>638.0764309</td>\n",
              "      <td>9.090909091</td>\n",
              "      <td>0.82021807</td>\n",
              "      <td>197.3557437</td>\n",
              "      <td>4.363431026</td>\n",
              "      <td>58.63254762</td>\n",
              "      <td>NaN</td>\n",
              "      <td>NaN</td>\n",
              "      <td>NaN</td>\n",
              "      <td>1</td>\n",
              "      <td>NaN</td>\n",
              "      <td>1.145729215</td>\n",
              "      <td>NaN</td>\n",
              "      <td>1</td>\n",
              "      <td>0</td>\n",
              "      <td>140.8623064</td>\n",
              "      <td>Low</td>\n",
              "    </tr>\n",
              "  </tbody>\n",
              "</table>\n",
              "</div>"
            ],
            "text/plain": [
              "  VAR1-ID    VAR2-FICO  ...    VAR20-CMV VAR21-Assigned Line\n",
              "0    VAR1         VAR2  ...        VAR20               VAR21\n",
              "1       1  828.2352941  ...  100.1049914                 Low\n",
              "2       2  911.7647059  ...  146.6540448                High\n",
              "3       3  962.3529412  ...  98.24956971              Medium\n",
              "4       4  892.9411765  ...  140.8623064                 Low\n",
              "\n",
              "[5 rows x 21 columns]"
            ]
          },
          "metadata": {
            "tags": []
          },
          "execution_count": 100
        }
      ]
    },
    {
      "cell_type": "code",
      "metadata": {
        "id": "VkUJEBTaaMW-",
        "colab_type": "code",
        "outputId": "6fca4ca3-414d-42e8-940a-578f66fba7d1",
        "colab": {
          "base_uri": "https://localhost:8080/",
          "height": 440
        }
      },
      "source": [
        "train.info()"
      ],
      "execution_count": 22,
      "outputs": [
        {
          "output_type": "stream",
          "text": [
            "<class 'pandas.core.frame.DataFrame'>\n",
            "RangeIndex: 34000 entries, 0 to 33999\n",
            "Data columns (total 21 columns):\n",
            "VAR1-ID                         34000 non-null int64\n",
            "VAR2-FICO                       33039 non-null float64\n",
            "VAR3-Business Revenue           30615 non-null float64\n",
            "VAR4-TSR                        21506 non-null float64\n",
            "VAR5-Last 6M Avg Util           33999 non-null float64\n",
            "VAR6-Income                     30505 non-null float64\n",
            "VAR7-Last 6M Avg Remit          33165 non-null float64\n",
            "VAR8-Last 6M Avg Bal            33165 non-null float64\n",
            "VAR9-Internal Revolve           18183 non-null float64\n",
            "VAR10-Lending AR% in last 6M    29450 non-null float64\n",
            "VAR11-ExternalBalance           26435 non-null float64\n",
            "VAR12-Months in Business        23498 non-null float64\n",
            "VAR13-preferred_spend_line      25478 non-null float64\n",
            "VAR14-total_cards               34000 non-null object\n",
            "VAR15-preferred_bal_line        25976 non-null float64\n",
            "VAR16-preavgremit1_3_all        33134 non-null float64\n",
            "VAR17-External_rev_rate         11806 non-null float64\n",
            "VAR18-Supplementary Cards       34000 non-null int64\n",
            "VAR19-isChargeCust              34000 non-null int64\n",
            "VAR20-CMV                       34000 non-null float64\n",
            "VAR21-Assigned Line             34000 non-null object\n",
            "dtypes: float64(16), int64(3), object(2)\n",
            "memory usage: 5.4+ MB\n"
          ],
          "name": "stdout"
        }
      ]
    },
    {
      "cell_type": "code",
      "metadata": {
        "id": "CzD4EJoKi_Dv",
        "colab_type": "code",
        "outputId": "3d3c42d0-60a2-4104-a79e-38c44bd11946",
        "colab": {
          "base_uri": "https://localhost:8080/",
          "height": 330
        }
      },
      "source": [
        "train.describe()"
      ],
      "execution_count": 23,
      "outputs": [
        {
          "output_type": "execute_result",
          "data": {
            "text/html": [
              "<div>\n",
              "<style scoped>\n",
              "    .dataframe tbody tr th:only-of-type {\n",
              "        vertical-align: middle;\n",
              "    }\n",
              "\n",
              "    .dataframe tbody tr th {\n",
              "        vertical-align: top;\n",
              "    }\n",
              "\n",
              "    .dataframe thead th {\n",
              "        text-align: right;\n",
              "    }\n",
              "</style>\n",
              "<table border=\"1\" class=\"dataframe\">\n",
              "  <thead>\n",
              "    <tr style=\"text-align: right;\">\n",
              "      <th></th>\n",
              "      <th>VAR1-ID</th>\n",
              "      <th>VAR2-FICO</th>\n",
              "      <th>VAR3-Business Revenue</th>\n",
              "      <th>VAR4-TSR</th>\n",
              "      <th>VAR5-Last 6M Avg Util</th>\n",
              "      <th>VAR6-Income</th>\n",
              "      <th>VAR7-Last 6M Avg Remit</th>\n",
              "      <th>VAR8-Last 6M Avg Bal</th>\n",
              "      <th>VAR9-Internal Revolve</th>\n",
              "      <th>VAR10-Lending AR% in last 6M</th>\n",
              "      <th>VAR11-ExternalBalance</th>\n",
              "      <th>VAR12-Months in Business</th>\n",
              "      <th>VAR13-preferred_spend_line</th>\n",
              "      <th>VAR15-preferred_bal_line</th>\n",
              "      <th>VAR16-preavgremit1_3_all</th>\n",
              "      <th>VAR17-External_rev_rate</th>\n",
              "      <th>VAR18-Supplementary Cards</th>\n",
              "      <th>VAR19-isChargeCust</th>\n",
              "      <th>VAR20-CMV</th>\n",
              "    </tr>\n",
              "  </thead>\n",
              "  <tbody>\n",
              "    <tr>\n",
              "      <th>count</th>\n",
              "      <td>34000.000000</td>\n",
              "      <td>33039.000000</td>\n",
              "      <td>30615.000000</td>\n",
              "      <td>21506.000000</td>\n",
              "      <td>33999.000000</td>\n",
              "      <td>30505.000000</td>\n",
              "      <td>33165.000000</td>\n",
              "      <td>33165.000000</td>\n",
              "      <td>18183.000000</td>\n",
              "      <td>29450.000000</td>\n",
              "      <td>26435.000000</td>\n",
              "      <td>23498.000000</td>\n",
              "      <td>25478.000000</td>\n",
              "      <td>25976.000000</td>\n",
              "      <td>33134.000000</td>\n",
              "      <td>11806.000000</td>\n",
              "      <td>34000.000000</td>\n",
              "      <td>34000.000000</td>\n",
              "      <td>34000.000000</td>\n",
              "    </tr>\n",
              "    <tr>\n",
              "      <th>mean</th>\n",
              "      <td>17000.500000</td>\n",
              "      <td>917.391603</td>\n",
              "      <td>1.119596</td>\n",
              "      <td>248.076201</td>\n",
              "      <td>631.571391</td>\n",
              "      <td>15.290028</td>\n",
              "      <td>2.055295</td>\n",
              "      <td>200.007169</td>\n",
              "      <td>53.988554</td>\n",
              "      <td>56.497320</td>\n",
              "      <td>5.429062</td>\n",
              "      <td>117.283667</td>\n",
              "      <td>11.679589</td>\n",
              "      <td>12.453257</td>\n",
              "      <td>2.092006</td>\n",
              "      <td>821.281092</td>\n",
              "      <td>0.400029</td>\n",
              "      <td>0.298059</td>\n",
              "      <td>161.355950</td>\n",
              "    </tr>\n",
              "    <tr>\n",
              "      <th>std</th>\n",
              "      <td>9815.098913</td>\n",
              "      <td>50.222389</td>\n",
              "      <td>12.714724</td>\n",
              "      <td>241.167723</td>\n",
              "      <td>30.863288</td>\n",
              "      <td>29.123815</td>\n",
              "      <td>8.960891</td>\n",
              "      <td>11.282223</td>\n",
              "      <td>84.573655</td>\n",
              "      <td>6.861058</td>\n",
              "      <td>11.433905</td>\n",
              "      <td>120.628594</td>\n",
              "      <td>11.063966</td>\n",
              "      <td>12.084965</td>\n",
              "      <td>8.051804</td>\n",
              "      <td>262.338240</td>\n",
              "      <td>0.684850</td>\n",
              "      <td>0.457412</td>\n",
              "      <td>123.231136</td>\n",
              "    </tr>\n",
              "    <tr>\n",
              "      <th>min</th>\n",
              "      <td>1.000000</td>\n",
              "      <td>730.588235</td>\n",
              "      <td>0.001333</td>\n",
              "      <td>18.928571</td>\n",
              "      <td>347.053355</td>\n",
              "      <td>0.005000</td>\n",
              "      <td>0.353228</td>\n",
              "      <td>0.000000</td>\n",
              "      <td>0.004278</td>\n",
              "      <td>13.028620</td>\n",
              "      <td>0.000693</td>\n",
              "      <td>0.834028</td>\n",
              "      <td>0.082667</td>\n",
              "      <td>0.133333</td>\n",
              "      <td>0.959315</td>\n",
              "      <td>0.130000</td>\n",
              "      <td>0.000000</td>\n",
              "      <td>0.000000</td>\n",
              "      <td>0.000000</td>\n",
              "    </tr>\n",
              "    <tr>\n",
              "      <th>25%</th>\n",
              "      <td>8500.750000</td>\n",
              "      <td>882.352941</td>\n",
              "      <td>0.083333</td>\n",
              "      <td>71.428571</td>\n",
              "      <td>611.691167</td>\n",
              "      <td>6.636364</td>\n",
              "      <td>0.691201</td>\n",
              "      <td>197.196716</td>\n",
              "      <td>8.784613</td>\n",
              "      <td>57.458373</td>\n",
              "      <td>0.638239</td>\n",
              "      <td>15.012510</td>\n",
              "      <td>5.666667</td>\n",
              "      <td>6.666667</td>\n",
              "      <td>1.040125</td>\n",
              "      <td>732.662500</td>\n",
              "      <td>0.000000</td>\n",
              "      <td>0.000000</td>\n",
              "      <td>104.385542</td>\n",
              "    </tr>\n",
              "    <tr>\n",
              "      <th>50%</th>\n",
              "      <td>17000.500000</td>\n",
              "      <td>924.705882</td>\n",
              "      <td>0.166667</td>\n",
              "      <td>142.857143</td>\n",
              "      <td>619.802909</td>\n",
              "      <td>10.000000</td>\n",
              "      <td>0.998093</td>\n",
              "      <td>197.912501</td>\n",
              "      <td>22.086661</td>\n",
              "      <td>58.632548</td>\n",
              "      <td>2.098360</td>\n",
              "      <td>80.066722</td>\n",
              "      <td>10.000000</td>\n",
              "      <td>10.000000</td>\n",
              "      <td>1.262747</td>\n",
              "      <td>965.345000</td>\n",
              "      <td>0.000000</td>\n",
              "      <td>0.000000</td>\n",
              "      <td>117.493115</td>\n",
              "    </tr>\n",
              "    <tr>\n",
              "      <th>75%</th>\n",
              "      <td>25500.250000</td>\n",
              "      <td>956.470588</td>\n",
              "      <td>0.555556</td>\n",
              "      <td>357.142857</td>\n",
              "      <td>637.450565</td>\n",
              "      <td>18.181818</td>\n",
              "      <td>1.735250</td>\n",
              "      <td>199.687427</td>\n",
              "      <td>58.559811</td>\n",
              "      <td>58.632548</td>\n",
              "      <td>6.043179</td>\n",
              "      <td>193.494579</td>\n",
              "      <td>15.333333</td>\n",
              "      <td>16.400000</td>\n",
              "      <td>1.827486</td>\n",
              "      <td>1000.000000</td>\n",
              "      <td>1.000000</td>\n",
              "      <td>1.000000</td>\n",
              "      <td>159.446213</td>\n",
              "    </tr>\n",
              "    <tr>\n",
              "      <th>max</th>\n",
              "      <td>34000.000000</td>\n",
              "      <td>1000.000000</td>\n",
              "      <td>1000.000000</td>\n",
              "      <td>1000.000000</td>\n",
              "      <td>1000.000000</td>\n",
              "      <td>909.090818</td>\n",
              "      <td>681.582083</td>\n",
              "      <td>1000.000000</td>\n",
              "      <td>993.061289</td>\n",
              "      <td>1000.000000</td>\n",
              "      <td>824.334457</td>\n",
              "      <td>1000.000000</td>\n",
              "      <td>775.000000</td>\n",
              "      <td>775.000000</td>\n",
              "      <td>1000.000000</td>\n",
              "      <td>1000.000000</td>\n",
              "      <td>14.000000</td>\n",
              "      <td>1.000000</td>\n",
              "      <td>1000.000000</td>\n",
              "    </tr>\n",
              "  </tbody>\n",
              "</table>\n",
              "</div>"
            ],
            "text/plain": [
              "            VAR1-ID     VAR2-FICO  ...  VAR19-isChargeCust     VAR20-CMV\n",
              "count  34000.000000  33039.000000  ...        34000.000000  34000.000000\n",
              "mean   17000.500000    917.391603  ...            0.298059    161.355950\n",
              "std     9815.098913     50.222389  ...            0.457412    123.231136\n",
              "min        1.000000    730.588235  ...            0.000000      0.000000\n",
              "25%     8500.750000    882.352941  ...            0.000000    104.385542\n",
              "50%    17000.500000    924.705882  ...            0.000000    117.493115\n",
              "75%    25500.250000    956.470588  ...            1.000000    159.446213\n",
              "max    34000.000000   1000.000000  ...            1.000000   1000.000000\n",
              "\n",
              "[8 rows x 19 columns]"
            ]
          },
          "metadata": {
            "tags": []
          },
          "execution_count": 23
        }
      ]
    },
    {
      "cell_type": "code",
      "metadata": {
        "id": "3hq_rn3WjBoj",
        "colab_type": "code",
        "colab": {}
      },
      "source": [
        "from scipy.stats import mode\n"
      ],
      "execution_count": 0,
      "outputs": []
    },
    {
      "cell_type": "code",
      "metadata": {
        "id": "00ggZIw7A2UK",
        "colab_type": "code",
        "colab": {}
      },
      "source": [
        "mode(train)"
      ],
      "execution_count": 0,
      "outputs": []
    },
    {
      "cell_type": "code",
      "metadata": {
        "id": "8IqhI5R5XtXP",
        "colab_type": "code",
        "colab": {
          "base_uri": "https://localhost:8080/",
          "height": 33
        },
        "outputId": "d7aa0a40-c26b-48cf-8c71-7896fb79367b"
      },
      "source": [
        "any(train['VAR1-ID'].duplicated())"
      ],
      "execution_count": 25,
      "outputs": [
        {
          "output_type": "execute_result",
          "data": {
            "text/plain": [
              "False"
            ]
          },
          "metadata": {
            "tags": []
          },
          "execution_count": 25
        }
      ]
    },
    {
      "cell_type": "code",
      "metadata": {
        "id": "TZZk-MgmjERd",
        "colab_type": "code",
        "outputId": "bcdaee17-383c-47b9-cc38-aa544503a4fb",
        "colab": {
          "base_uri": "https://localhost:8080/",
          "height": 375
        }
      },
      "source": [
        "train.isnull().sum().sort_values(ascending=False) #amount of NaNs per column"
      ],
      "execution_count": 26,
      "outputs": [
        {
          "output_type": "execute_result",
          "data": {
            "text/plain": [
              "VAR17-External_rev_rate         22194\n",
              "VAR9-Internal Revolve           15817\n",
              "VAR4-TSR                        12494\n",
              "VAR12-Months in Business        10502\n",
              "VAR13-preferred_spend_line       8522\n",
              "VAR15-preferred_bal_line         8024\n",
              "VAR11-ExternalBalance            7565\n",
              "VAR10-Lending AR% in last 6M     4550\n",
              "VAR6-Income                      3495\n",
              "VAR3-Business Revenue            3385\n",
              "VAR2-FICO                         961\n",
              "VAR16-preavgremit1_3_all          866\n",
              "VAR8-Last 6M Avg Bal              835\n",
              "VAR7-Last 6M Avg Remit            835\n",
              "VAR5-Last 6M Avg Util               1\n",
              "VAR21-Assigned Line                 0\n",
              "VAR20-CMV                           0\n",
              "VAR14-total_cards                   0\n",
              "VAR18-Supplementary Cards           0\n",
              "VAR19-isChargeCust                  0\n",
              "VAR1-ID                             0\n",
              "dtype: int64"
            ]
          },
          "metadata": {
            "tags": []
          },
          "execution_count": 26
        }
      ]
    },
    {
      "cell_type": "code",
      "metadata": {
        "id": "s94drCwplILo",
        "colab_type": "code",
        "colab": {
          "base_uri": "https://localhost:8080/",
          "height": 375
        },
        "outputId": "b8900117-095a-4efd-a1ac-3570b5d9b3e0"
      },
      "source": [
        "train.isnull().mean().round(4).sort_values(ascending=False) * 100 #amount of NaNs per column"
      ],
      "execution_count": 27,
      "outputs": [
        {
          "output_type": "execute_result",
          "data": {
            "text/plain": [
              "VAR17-External_rev_rate         65.28\n",
              "VAR9-Internal Revolve           46.52\n",
              "VAR4-TSR                        36.75\n",
              "VAR12-Months in Business        30.89\n",
              "VAR13-preferred_spend_line      25.06\n",
              "VAR15-preferred_bal_line        23.60\n",
              "VAR11-ExternalBalance           22.25\n",
              "VAR10-Lending AR% in last 6M    13.38\n",
              "VAR6-Income                     10.28\n",
              "VAR3-Business Revenue            9.96\n",
              "VAR2-FICO                        2.83\n",
              "VAR16-preavgremit1_3_all         2.55\n",
              "VAR8-Last 6M Avg Bal             2.46\n",
              "VAR7-Last 6M Avg Remit           2.46\n",
              "VAR5-Last 6M Avg Util            0.00\n",
              "VAR21-Assigned Line              0.00\n",
              "VAR20-CMV                        0.00\n",
              "VAR14-total_cards                0.00\n",
              "VAR18-Supplementary Cards        0.00\n",
              "VAR19-isChargeCust               0.00\n",
              "VAR1-ID                          0.00\n",
              "dtype: float64"
            ]
          },
          "metadata": {
            "tags": []
          },
          "execution_count": 27
        }
      ]
    },
    {
      "cell_type": "code",
      "metadata": {
        "id": "wUkldIP5i79C",
        "colab_type": "code",
        "outputId": "f403bfff-ebb2-4ee1-8dcb-4d9fdcc38612",
        "colab": {
          "base_uri": "https://localhost:8080/",
          "height": 245
        }
      },
      "source": [
        "train.isnull().sum(axis=1).value_counts()#sum number of NaNs per row and then calculate number of rows with no NaNs, 1 NaN, 2 NaNs and so on"
      ],
      "execution_count": 28,
      "outputs": [
        {
          "output_type": "execute_result",
          "data": {
            "text/plain": [
              "2     8404\n",
              "1     7125\n",
              "3     5747\n",
              "4     3003\n",
              "5     2882\n",
              "6     2429\n",
              "0     2059\n",
              "7     1378\n",
              "8      649\n",
              "9      225\n",
              "10      77\n",
              "11      21\n",
              "12       1\n",
              "dtype: int64"
            ]
          },
          "metadata": {
            "tags": []
          },
          "execution_count": 28
        }
      ]
    },
    {
      "cell_type": "code",
      "metadata": {
        "id": "sLnGNrGQjZbU",
        "colab_type": "code",
        "colab": {}
      },
      "source": [
        "import missingno as msno "
      ],
      "execution_count": 0,
      "outputs": []
    },
    {
      "cell_type": "code",
      "metadata": {
        "id": "x7ETwXLljbLz",
        "colab_type": "code",
        "colab": {
          "base_uri": "https://localhost:8080/",
          "height": 780
        },
        "outputId": "915b06ba-710a-4fd2-db07-0bd070f17634"
      },
      "source": [
        "msno.matrix(train, figsize=(12,10));"
      ],
      "execution_count": 30,
      "outputs": [
        {
          "output_type": "display_data",
          "data": {
            "image/png": "[encoded data removed]",
            "text/plain": [
              "<Figure size 864x720 with 2 Axes>"
            ]
          },
          "metadata": {
            "tags": []
          }
        }
      ]
    },
    {
      "cell_type": "markdown",
      "metadata": {
        "id": "ALHvXW5RmHWn",
        "colab_type": "text"
      },
      "source": [
        "Using this matrix you can very quickly find the pattern of missingness in the dataset. In our example, the columns V8 and V7 have a similar pattern of missing values while V17 shows a different pattern."
      ]
    },
    {
      "cell_type": "code",
      "metadata": {
        "id": "Ab7ZZvNsjupC",
        "colab_type": "code",
        "colab": {
          "base_uri": "https://localhost:8080/",
          "height": 783
        },
        "outputId": "2134b103-9e40-4272-bc4d-4f03ddcd1180"
      },
      "source": [
        "msno.bar(train, figsize=(10,9), color ='pink')"
      ],
      "execution_count": 34,
      "outputs": [
        {
          "output_type": "execute_result",
          "data": {
            "text/plain": [
              "<matplotlib.axes._subplots.AxesSubplot at 0x7f71fd140e10>"
            ]
          },
          "metadata": {
            "tags": []
          },
          "execution_count": 34
        },
        {
          "output_type": "display_data",
          "data": {
            "image/png": "[encoded data removed]",
            "text/plain": [
              "<Figure size 720x648 with 3 Axes>"
            ]
          },
          "metadata": {
            "tags": []
          }
        }
      ]
    },
    {
      "cell_type": "markdown",
      "metadata": {
        "id": "ur1pUXvRk7US",
        "colab_type": "text"
      },
      "source": [
        "This bar chart gives you an idea about how many missing values are there in each column. In our example, V17 and V9 contain the most number of missing values followed by UCZAA."
      ]
    },
    {
      "cell_type": "code",
      "metadata": {
        "id": "plTRiApxZeZ9",
        "colab_type": "code",
        "colab": {}
      },
      "source": [
        "import matplotlib.pyplot as plt"
      ],
      "execution_count": 0,
      "outputs": []
    },
    {
      "cell_type": "code",
      "metadata": {
        "id": "kl5Wm74fj6JL",
        "colab_type": "code",
        "colab": {
          "base_uri": "https://localhost:8080/",
          "height": 880
        },
        "outputId": "747f184b-c772-4621-9c5b-85b25e107cf2"
      },
      "source": [
        "msno.heatmap(train, figsize=(12,12), cmap = plt.cm.RdBu);"
      ],
      "execution_count": 38,
      "outputs": [
        {
          "output_type": "display_data",
          "data": {
            "image/png": "[encoded data removed]",
            "text/plain": [
              "<Figure size 864x864 with 2 Axes>"
            ]
          },
          "metadata": {
            "tags": []
          }
        }
      ]
    },
    {
      "cell_type": "markdown",
      "metadata": {
        "id": "w24rR6D0kkvK",
        "colab_type": "text"
      },
      "source": [
        "Heatmap shows the correlation of missingness between every 2 columns. In our example, the correlation between V8 and V7 is 1 which means if one of them is present then the other one must be present.\n",
        "\n",
        "A value near -1 means if one variable appears then the other variable is very likely to be missing.\n",
        "A value near 0 means there is no dependence between the occurrence of missing values of two variables.\n",
        "A value near 1 means if one variable appears then the other variable is very likely to be present."
      ]
    },
    {
      "cell_type": "code",
      "metadata": {
        "id": "pewXJ7BLlpd6",
        "colab_type": "code",
        "colab": {}
      },
      "source": [
        "# df.loc[:, ['col1', 'col2']].isnull().sum(axis=1).value_counts()#no. of NaNs in rows but in specific columns only"
      ],
      "execution_count": 0,
      "outputs": []
    },
    {
      "cell_type": "code",
      "metadata": {
        "id": "0L4-itrthY2v",
        "colab_type": "code",
        "colab": {}
      },
      "source": [
        "#train['VAR21-Assigned Line'].hist()"
      ],
      "execution_count": 0,
      "outputs": []
    },
    {
      "cell_type": "code",
      "metadata": {
        "id": "GMEDRFVpTy7D",
        "colab_type": "code",
        "colab": {
          "base_uri": "https://localhost:8080/",
          "height": 82
        },
        "outputId": "c9aa87a1-974a-434d-be91-3c586eab2a3f"
      },
      "source": [
        "train['VAR21-Assigned Line'].value_counts()"
      ],
      "execution_count": 22,
      "outputs": [
        {
          "output_type": "execute_result",
          "data": {
            "text/plain": [
              "Medium    18172\n",
              "Low       12081\n",
              "High       3747\n",
              "Name: VAR21-Assigned Line, dtype: int64"
            ]
          },
          "metadata": {
            "tags": []
          },
          "execution_count": 22
        }
      ]
    },
    {
      "cell_type": "code",
      "metadata": {
        "id": "iChDU_IvtOX9",
        "colab_type": "code",
        "colab": {}
      },
      "source": [
        "hi=train.groupby('VAR21-Assigned Line').size()/len(train)*100"
      ],
      "execution_count": 0,
      "outputs": []
    },
    {
      "cell_type": "code",
      "metadata": {
        "id": "3MIgqaJdYQQP",
        "colab_type": "code",
        "colab": {
          "base_uri": "https://localhost:8080/",
          "height": 98
        },
        "outputId": "d0057650-52af-4fc0-f248-8e82a656a7d9"
      },
      "source": [
        "hid=pd.DataFrame(hi)\n",
        "print(hid)"
      ],
      "execution_count": 42,
      "outputs": [
        {
          "output_type": "stream",
          "text": [
            "                             0\n",
            "VAR21-Assigned Line           \n",
            "High                 11.020588\n",
            "Low                  35.532353\n",
            "Medium               53.447059\n"
          ],
          "name": "stdout"
        }
      ]
    },
    {
      "cell_type": "code",
      "metadata": {
        "id": "t4rxtdiwYndW",
        "colab_type": "code",
        "colab": {
          "base_uri": "https://localhost:8080/",
          "height": 268
        },
        "outputId": "21003bf2-9c43-43d6-98d2-6326691b5323"
      },
      "source": [
        "plt.plot(hid);"
      ],
      "execution_count": 43,
      "outputs": [
        {
          "output_type": "display_data",
          "data": {
            "image/png": "[encoded data removed]",
            "text/plain": [
              "<Figure size 432x288 with 1 Axes>"
            ]
          },
          "metadata": {
            "tags": []
          }
        }
      ]
    },
    {
      "cell_type": "code",
      "metadata": {
        "id": "ISmVl_RHZsgf",
        "colab_type": "code",
        "colab": {
          "base_uri": "https://localhost:8080/",
          "height": 312
        },
        "outputId": "d2be846f-89a6-41c2-a292-78ed8e754068"
      },
      "source": [
        "hid.plot(kind='bar', legend=False);"
      ],
      "execution_count": 44,
      "outputs": [
        {
          "output_type": "display_data",
          "data": {
            "image/png": "[encoded data removed]",
            "text/plain": [
              "<Figure size 432x288 with 1 Axes>"
            ]
          },
          "metadata": {
            "tags": []
          }
        }
      ]
    },
    {
      "cell_type": "code",
      "metadata": {
        "id": "RarJCKejtIQV",
        "colab_type": "code",
        "colab": {
          "base_uri": "https://localhost:8080/",
          "height": 268
        },
        "outputId": "49f6ebfb-e3fd-4dbc-8423-fc43a7fc01e8"
      },
      "source": [
        "train['VAR4-TSR'].hist();"
      ],
      "execution_count": 45,
      "outputs": [
        {
          "output_type": "display_data",
          "data": {
            "image/png": "[encoded data removed]",
            "text/plain": [
              "<Figure size 432x288 with 1 Axes>"
            ]
          },
          "metadata": {
            "tags": []
          }
        }
      ]
    },
    {
      "cell_type": "code",
      "metadata": {
        "id": "bEJmpHLSlBQe",
        "colab_type": "code",
        "outputId": "d07dc50b-96ed-455a-f703-ebc634603308",
        "colab": {
          "base_uri": "https://localhost:8080/",
          "height": 268
        }
      },
      "source": [
        "train.boxplot(column='VAR3-Business Revenue');"
      ],
      "execution_count": 49,
      "outputs": [
        {
          "output_type": "display_data",
          "data": {
            "image/png": "[encoded data removed]",
            "text/plain": [
              "<Figure size 432x288 with 1 Axes>"
            ]
          },
          "metadata": {
            "tags": []
          }
        }
      ]
    },
    {
      "cell_type": "code",
      "metadata": {
        "id": "JITTHqSsl8qD",
        "colab_type": "code",
        "outputId": "e6d90d7d-1c32-457e-de59-d7d38e4ecf2d",
        "colab": {
          "base_uri": "https://localhost:8080/",
          "height": 268
        }
      },
      "source": [
        "train.boxplot(column='VAR5-Last 6M Avg Util');"
      ],
      "execution_count": 50,
      "outputs": [
        {
          "output_type": "display_data",
          "data": {
            "image/png": "[encoded data removed]",
            "text/plain": [
              "<Figure size 432x288 with 1 Axes>"
            ]
          },
          "metadata": {
            "tags": []
          }
        }
      ]
    },
    {
      "cell_type": "code",
      "metadata": {
        "id": "fJjdzy5LpxOF",
        "colab_type": "code",
        "colab": {}
      },
      "source": [
        "import seaborn as sns"
      ],
      "execution_count": 0,
      "outputs": []
    },
    {
      "cell_type": "code",
      "metadata": {
        "id": "W0WZQcDipimA",
        "colab_type": "code",
        "outputId": "8a7a2d76-9799-4b33-d9d3-9aa26189701c",
        "colab": {
          "base_uri": "https://localhost:8080/",
          "height": 1000
        }
      },
      "source": [
        "colormap = plt.cm.RdBu\n",
        "data=train.corr().round(2)\n",
        "plt.figure(figsize=(32,14))\n",
        "plt.title('Pearson Correlation of Features', y=1.05, size=15)\n",
        "sns.heatmap(data,linewidths=0.1,vmax=1.0, \n",
        "            square=True, cmap=colormap, linecolor='white', annot=True);"
      ],
      "execution_count": 53,
      "outputs": [
        {
          "output_type": "display_data",
          "data": {
            "image/png": "[encoded data removed]",
            "text/plain": [
              "<Figure size 2304x1008 with 2 Axes>"
            ]
          },
          "metadata": {
            "tags": []
          }
        }
      ]
    },
    {
      "cell_type": "code",
      "metadata": {
        "id": "3uU7qSVaZ_Ww",
        "colab_type": "code",
        "colab": {
          "base_uri": "https://localhost:8080/",
          "height": 180
        },
        "outputId": "0eb96406-f266-4372-e9da-720fe05d74df"
      },
      "source": [
        "train.columns"
      ],
      "execution_count": 48,
      "outputs": [
        {
          "output_type": "execute_result",
          "data": {
            "text/plain": [
              "Index(['VAR1-ID', 'VAR2-FICO', 'VAR3-Business Revenue', 'VAR4-TSR',\n",
              "       'VAR5-Last 6M Avg Util', 'VAR6-Income', 'VAR7-Last 6M Avg Remit',\n",
              "       'VAR8-Last 6M Avg Bal', 'VAR9-Internal Revolve',\n",
              "       'VAR10-Lending AR% in last 6M', 'VAR11-ExternalBalance',\n",
              "       'VAR12-Months in Business', 'VAR13-preferred_spend_line',\n",
              "       'VAR14-total_cards', 'VAR15-preferred_bal_line',\n",
              "       'VAR16-preavgremit1_3_all', 'VAR17-External_rev_rate',\n",
              "       'VAR18-Supplementary Cards', 'VAR19-isChargeCust', 'VAR20-CMV',\n",
              "       'VAR21-Assigned Line'],\n",
              "      dtype='object')"
            ]
          },
          "metadata": {
            "tags": []
          },
          "execution_count": 48
        }
      ]
    },
    {
      "cell_type": "code",
      "metadata": {
        "id": "EBSDpc8X5p4N",
        "colab_type": "code",
        "outputId": "129d217d-2e65-4b49-8bc8-e29767548829",
        "colab": {
          "base_uri": "https://localhost:8080/",
          "height": 33
        }
      },
      "source": [
        "train['VAR21-Assigned Line'].dtypes"
      ],
      "execution_count": 58,
      "outputs": [
        {
          "output_type": "execute_result",
          "data": {
            "text/plain": [
              "dtype('O')"
            ]
          },
          "metadata": {
            "tags": []
          },
          "execution_count": 58
        }
      ]
    },
    {
      "cell_type": "code",
      "metadata": {
        "id": "gQL7OXIi5-iS",
        "colab_type": "code",
        "colab": {}
      },
      "source": [
        "Train=train.copy()"
      ],
      "execution_count": 0,
      "outputs": []
    },
    {
      "cell_type": "code",
      "metadata": {
        "id": "59phcWlh5nuV",
        "colab_type": "code",
        "colab": {}
      },
      "source": [
        "Train[\"VAR21-Assigned Line\"] = train[\"VAR21-Assigned Line\"].astype('category')"
      ],
      "execution_count": 0,
      "outputs": []
    },
    {
      "cell_type": "code",
      "metadata": {
        "id": "qr24WR246K5A",
        "colab_type": "code",
        "colab": {}
      },
      "source": [
        "Train[\"VAR21-Assigned Line\"] = Train[\"VAR21-Assigned Line\"].cat.codes"
      ],
      "execution_count": 0,
      "outputs": []
    },
    {
      "cell_type": "code",
      "metadata": {
        "id": "iS0kbEkHCl5_",
        "colab_type": "code",
        "outputId": "0cc8a069-6846-4e2f-db61-c71e1e35c3d4",
        "colab": {
          "base_uri": "https://localhost:8080/",
          "height": 82
        }
      },
      "source": [
        "Train[\"VAR21-Assigned Line\"].value_counts()"
      ],
      "execution_count": 139,
      "outputs": [
        {
          "output_type": "execute_result",
          "data": {
            "text/plain": [
              "2    18172\n",
              "1    12081\n",
              "0     3747\n",
              "Name: VAR21-Assigned Line, dtype: int64"
            ]
          },
          "metadata": {
            "tags": []
          },
          "execution_count": 139
        }
      ]
    },
    {
      "cell_type": "code",
      "metadata": {
        "id": "ujAxzsX6X8Tk",
        "colab_type": "code",
        "colab": {}
      },
      "source": [
        "Y=Train[\"VAR21-Assigned Line\"]"
      ],
      "execution_count": 0,
      "outputs": []
    },
    {
      "cell_type": "code",
      "metadata": {
        "id": "L1LHT6J57Tbu",
        "colab_type": "code",
        "colab": {}
      },
      "source": [
        "# Train.drop(columns='VAR14-total_cards',inplace=True, axis=1)"
      ],
      "execution_count": 0,
      "outputs": []
    },
    {
      "cell_type": "code",
      "metadata": {
        "id": "FN622WkmHuvA",
        "colab_type": "code",
        "colab": {}
      },
      "source": [
        "Train.replace({'VAR14-total_cards': {'.': 1}}, inplace=True)"
      ],
      "execution_count": 0,
      "outputs": []
    },
    {
      "cell_type": "code",
      "metadata": {
        "id": "ojQ19-DjqAgt",
        "colab_type": "code",
        "outputId": "7b6c81b4-a53b-47f7-d9cb-f5b37b326cc7",
        "colab": {
          "base_uri": "https://localhost:8080/",
          "height": 1000
        }
      },
      "source": [
        "from fancyimpute import KNN \n",
        "#fancy impute removes column names.\n",
        "train_cols = list(Train)\n",
        "\n",
        "# Use 5 nearest rows which have a feature to fill in each row's missing features\n",
        "train1 = pd.DataFrame(KNN(k=5).fit_transform(Train))\n",
        "train1.columns = train_cols"
      ],
      "execution_count": 142,
      "outputs": [
        {
          "output_type": "stream",
          "text": [
            "/usr/local/lib/python3.6/dist-packages/sklearn/externals/six.py:31: DeprecationWarning: The module is deprecated in version 0.21 and will be removed in version 0.23 since we've dropped support for Python 2.7. Please rely on the official version of six (https://pypi.org/project/six/).\n",
            "  \"(https://pypi.org/project/six/).\", DeprecationWarning)\n",
            "Using TensorFlow backend.\n"
          ],
          "name": "stderr"
        },
        {
          "output_type": "stream",
          "text": [
            "Imputing row 1/34000 with 2 missing, elapsed time: 322.369\n",
            "Imputing row 101/34000 with 1 missing, elapsed time: 322.452\n",
            "Imputing row 201/34000 with 2 missing, elapsed time: 322.538\n",
            "Imputing row 301/34000 with 2 missing, elapsed time: 322.622\n",
            "Imputing row 401/34000 with 6 missing, elapsed time: 322.705\n",
            "Imputing row 501/34000 with 2 missing, elapsed time: 322.792\n",
            "Imputing row 601/34000 with 3 missing, elapsed time: 322.872\n",
            "Imputing row 701/34000 with 3 missing, elapsed time: 322.957\n",
            "Imputing row 801/34000 with 2 missing, elapsed time: 323.048\n",
            "Imputing row 901/34000 with 0 missing, elapsed time: 323.127\n",
            "Imputing row 1001/34000 with 1 missing, elapsed time: 323.211\n",
            "Imputing row 1101/34000 with 2 missing, elapsed time: 323.288\n",
            "Imputing row 1201/34000 with 2 missing, elapsed time: 323.380\n",
            "Imputing row 1301/34000 with 4 missing, elapsed time: 323.457\n",
            "Imputing row 1401/34000 with 4 missing, elapsed time: 323.535\n",
            "Imputing row 1501/34000 with 4 missing, elapsed time: 323.616\n",
            "Imputing row 1601/34000 with 2 missing, elapsed time: 323.707\n",
            "Imputing row 1701/34000 with 4 missing, elapsed time: 323.794\n",
            "Imputing row 1801/34000 with 2 missing, elapsed time: 323.891\n",
            "Imputing row 1901/34000 with 1 missing, elapsed time: 323.978\n",
            "Imputing row 2001/34000 with 7 missing, elapsed time: 324.058\n",
            "Imputing row 2101/34000 with 2 missing, elapsed time: 324.145\n",
            "Imputing row 2201/34000 with 4 missing, elapsed time: 324.225\n",
            "Imputing row 2301/34000 with 2 missing, elapsed time: 324.305\n",
            "Imputing row 2401/34000 with 1 missing, elapsed time: 324.390\n",
            "Imputing row 2501/34000 with 2 missing, elapsed time: 324.464\n",
            "Imputing row 2601/34000 with 3 missing, elapsed time: 324.541\n",
            "Imputing row 2701/34000 with 3 missing, elapsed time: 324.634\n",
            "Imputing row 2801/34000 with 2 missing, elapsed time: 324.720\n",
            "Imputing row 2901/34000 with 3 missing, elapsed time: 324.806\n",
            "Imputing row 3001/34000 with 1 missing, elapsed time: 324.892\n",
            "Imputing row 3101/34000 with 0 missing, elapsed time: 324.974\n",
            "Imputing row 3201/34000 with 0 missing, elapsed time: 325.058\n",
            "Imputing row 3301/34000 with 3 missing, elapsed time: 325.138\n",
            "Imputing row 3401/34000 with 1 missing, elapsed time: 325.231\n",
            "Imputing row 3501/34000 with 3 missing, elapsed time: 325.311\n",
            "Imputing row 3601/34000 with 2 missing, elapsed time: 325.395\n",
            "Imputing row 3701/34000 with 6 missing, elapsed time: 325.471\n",
            "Imputing row 3801/34000 with 0 missing, elapsed time: 325.547\n",
            "Imputing row 3901/34000 with 5 missing, elapsed time: 325.624\n",
            "Imputing row 4001/34000 with 3 missing, elapsed time: 325.707\n",
            "Imputing row 4101/34000 with 0 missing, elapsed time: 325.785\n",
            "Imputing row 4201/34000 with 1 missing, elapsed time: 325.868\n",
            "Imputing row 4301/34000 with 6 missing, elapsed time: 325.953\n",
            "Imputing row 4401/34000 with 1 missing, elapsed time: 326.044\n",
            "Imputing row 4501/34000 with 3 missing, elapsed time: 326.129\n",
            "Imputing row 4601/34000 with 8 missing, elapsed time: 326.222\n",
            "Imputing row 4701/34000 with 2 missing, elapsed time: 326.305\n",
            "Imputing row 4801/34000 with 4 missing, elapsed time: 326.390\n",
            "Imputing row 4901/34000 with 4 missing, elapsed time: 326.467\n",
            "Imputing row 5001/34000 with 1 missing, elapsed time: 326.557\n",
            "Imputing row 5101/34000 with 1 missing, elapsed time: 326.640\n",
            "Imputing row 5201/34000 with 8 missing, elapsed time: 326.722\n",
            "Imputing row 5301/34000 with 2 missing, elapsed time: 326.809\n",
            "Imputing row 5401/34000 with 4 missing, elapsed time: 326.885\n",
            "Imputing row 5501/34000 with 1 missing, elapsed time: 326.974\n",
            "Imputing row 5601/34000 with 6 missing, elapsed time: 327.061\n",
            "Imputing row 5701/34000 with 5 missing, elapsed time: 327.153\n",
            "Imputing row 5801/34000 with 4 missing, elapsed time: 327.239\n",
            "Imputing row 5901/34000 with 1 missing, elapsed time: 327.312\n",
            "Imputing row 6001/34000 with 4 missing, elapsed time: 327.395\n",
            "Imputing row 6101/34000 with 3 missing, elapsed time: 327.483\n",
            "Imputing row 6201/34000 with 1 missing, elapsed time: 327.568\n",
            "Imputing row 6301/34000 with 4 missing, elapsed time: 327.649\n",
            "Imputing row 6401/34000 with 3 missing, elapsed time: 327.723\n",
            "Imputing row 6501/34000 with 2 missing, elapsed time: 327.807\n",
            "Imputing row 6601/34000 with 3 missing, elapsed time: 327.881\n",
            "Imputing row 6701/34000 with 3 missing, elapsed time: 327.968\n",
            "Imputing row 6801/34000 with 1 missing, elapsed time: 328.047\n",
            "Imputing row 6901/34000 with 1 missing, elapsed time: 328.133\n",
            "Imputing row 7001/34000 with 1 missing, elapsed time: 328.212\n",
            "Imputing row 7101/34000 with 3 missing, elapsed time: 328.302\n",
            "Imputing row 7201/34000 with 1 missing, elapsed time: 328.390\n",
            "Imputing row 7301/34000 with 1 missing, elapsed time: 328.465\n",
            "Imputing row 7401/34000 with 0 missing, elapsed time: 328.546\n",
            "Imputing row 7501/34000 with 1 missing, elapsed time: 328.633\n",
            "Imputing row 7601/34000 with 1 missing, elapsed time: 328.719\n",
            "Imputing row 7701/34000 with 2 missing, elapsed time: 328.798\n",
            "Imputing row 7801/34000 with 1 missing, elapsed time: 328.884\n",
            "Imputing row 7901/34000 with 3 missing, elapsed time: 328.975\n",
            "Imputing row 8001/34000 with 2 missing, elapsed time: 329.074\n",
            "Imputing row 8101/34000 with 0 missing, elapsed time: 329.154\n",
            "Imputing row 8201/34000 with 0 missing, elapsed time: 329.237\n",
            "Imputing row 8301/34000 with 2 missing, elapsed time: 329.326\n",
            "Imputing row 8401/34000 with 1 missing, elapsed time: 329.419\n",
            "Imputing row 8501/34000 with 3 missing, elapsed time: 329.493\n",
            "Imputing row 8601/34000 with 1 missing, elapsed time: 329.579\n",
            "Imputing row 8701/34000 with 1 missing, elapsed time: 329.666\n",
            "Imputing row 8801/34000 with 1 missing, elapsed time: 329.751\n",
            "Imputing row 8901/34000 with 1 missing, elapsed time: 329.848\n",
            "Imputing row 9001/34000 with 1 missing, elapsed time: 329.923\n",
            "Imputing row 9101/34000 with 2 missing, elapsed time: 330.008\n",
            "Imputing row 9201/34000 with 3 missing, elapsed time: 330.089\n",
            "Imputing row 9301/34000 with 3 missing, elapsed time: 330.188\n",
            "Imputing row 9401/34000 with 2 missing, elapsed time: 330.271\n",
            "Imputing row 9501/34000 with 1 missing, elapsed time: 330.369\n",
            "Imputing row 9601/34000 with 1 missing, elapsed time: 330.448\n",
            "Imputing row 9701/34000 with 5 missing, elapsed time: 330.525\n",
            "Imputing row 9801/34000 with 2 missing, elapsed time: 330.599\n",
            "Imputing row 9901/34000 with 7 missing, elapsed time: 330.675\n",
            "Imputing row 10001/34000 with 4 missing, elapsed time: 330.756\n",
            "Imputing row 10101/34000 with 2 missing, elapsed time: 330.840\n",
            "Imputing row 10201/34000 with 4 missing, elapsed time: 330.927\n",
            "Imputing row 10301/34000 with 6 missing, elapsed time: 331.008\n",
            "Imputing row 10401/34000 with 0 missing, elapsed time: 331.095\n",
            "Imputing row 10501/34000 with 0 missing, elapsed time: 331.178\n",
            "Imputing row 10601/34000 with 2 missing, elapsed time: 331.253\n",
            "Imputing row 10701/34000 with 2 missing, elapsed time: 331.343\n",
            "Imputing row 10801/34000 with 3 missing, elapsed time: 331.428\n",
            "Imputing row 10901/34000 with 1 missing, elapsed time: 331.511\n",
            "Imputing row 11001/34000 with 4 missing, elapsed time: 331.598\n",
            "Imputing row 11101/34000 with 2 missing, elapsed time: 331.682\n",
            "Imputing row 11201/34000 with 2 missing, elapsed time: 331.771\n",
            "Imputing row 11301/34000 with 2 missing, elapsed time: 331.850\n",
            "Imputing row 11401/34000 with 5 missing, elapsed time: 331.927\n",
            "Imputing row 11501/34000 with 3 missing, elapsed time: 332.008\n",
            "Imputing row 11601/34000 with 6 missing, elapsed time: 332.087\n",
            "Imputing row 11701/34000 with 5 missing, elapsed time: 332.185\n",
            "Imputing row 11801/34000 with 3 missing, elapsed time: 332.273\n",
            "Imputing row 11901/34000 with 1 missing, elapsed time: 332.348\n",
            "Imputing row 12001/34000 with 7 missing, elapsed time: 332.430\n",
            "Imputing row 12101/34000 with 2 missing, elapsed time: 332.517\n",
            "Imputing row 12201/34000 with 6 missing, elapsed time: 332.598\n",
            "Imputing row 12301/34000 with 3 missing, elapsed time: 332.686\n",
            "Imputing row 12401/34000 with 7 missing, elapsed time: 332.779\n",
            "Imputing row 12501/34000 with 5 missing, elapsed time: 332.866\n",
            "Imputing row 12601/34000 with 1 missing, elapsed time: 332.945\n",
            "Imputing row 12701/34000 with 2 missing, elapsed time: 333.028\n",
            "Imputing row 12801/34000 with 2 missing, elapsed time: 333.112\n",
            "Imputing row 12901/34000 with 2 missing, elapsed time: 333.203\n",
            "Imputing row 13001/34000 with 0 missing, elapsed time: 333.286\n",
            "Imputing row 13101/34000 with 10 missing, elapsed time: 333.375\n",
            "Imputing row 13201/34000 with 1 missing, elapsed time: 333.461\n",
            "Imputing row 13301/34000 with 3 missing, elapsed time: 333.550\n",
            "Imputing row 13401/34000 with 5 missing, elapsed time: 333.636\n",
            "Imputing row 13501/34000 with 3 missing, elapsed time: 333.731\n",
            "Imputing row 13601/34000 with 4 missing, elapsed time: 333.815\n",
            "Imputing row 13701/34000 with 2 missing, elapsed time: 333.901\n",
            "Imputing row 13801/34000 with 5 missing, elapsed time: 333.986\n",
            "Imputing row 13901/34000 with 2 missing, elapsed time: 334.062\n",
            "Imputing row 14001/34000 with 2 missing, elapsed time: 334.140\n",
            "Imputing row 14101/34000 with 3 missing, elapsed time: 334.220\n",
            "Imputing row 14201/34000 with 1 missing, elapsed time: 334.307\n",
            "Imputing row 14301/34000 with 0 missing, elapsed time: 334.394\n",
            "Imputing row 14401/34000 with 5 missing, elapsed time: 334.473\n",
            "Imputing row 14501/34000 with 1 missing, elapsed time: 334.553\n",
            "Imputing row 14601/34000 with 1 missing, elapsed time: 334.646\n",
            "Imputing row 14701/34000 with 5 missing, elapsed time: 334.730\n",
            "Imputing row 14801/34000 with 1 missing, elapsed time: 334.812\n",
            "Imputing row 14901/34000 with 3 missing, elapsed time: 334.893\n",
            "Imputing row 15001/34000 with 6 missing, elapsed time: 334.975\n",
            "Imputing row 15101/34000 with 2 missing, elapsed time: 335.059\n",
            "Imputing row 15201/34000 with 1 missing, elapsed time: 335.146\n",
            "Imputing row 15301/34000 with 0 missing, elapsed time: 335.221\n",
            "Imputing row 15401/34000 with 5 missing, elapsed time: 335.306\n",
            "Imputing row 15501/34000 with 7 missing, elapsed time: 335.387\n",
            "Imputing row 15601/34000 with 2 missing, elapsed time: 335.469\n",
            "Imputing row 15701/34000 with 2 missing, elapsed time: 335.550\n",
            "Imputing row 15801/34000 with 1 missing, elapsed time: 335.639\n",
            "Imputing row 15901/34000 with 7 missing, elapsed time: 335.721\n",
            "Imputing row 16001/34000 with 3 missing, elapsed time: 335.803\n",
            "Imputing row 16101/34000 with 8 missing, elapsed time: 335.886\n",
            "Imputing row 16201/34000 with 0 missing, elapsed time: 335.966\n",
            "Imputing row 16301/34000 with 3 missing, elapsed time: 336.057\n",
            "Imputing row 16401/34000 with 4 missing, elapsed time: 336.143\n",
            "Imputing row 16501/34000 with 7 missing, elapsed time: 336.230\n",
            "Imputing row 16601/34000 with 1 missing, elapsed time: 336.312\n",
            "Imputing row 16701/34000 with 5 missing, elapsed time: 336.397\n",
            "Imputing row 16801/34000 with 2 missing, elapsed time: 336.489\n",
            "Imputing row 16901/34000 with 6 missing, elapsed time: 336.573\n",
            "Imputing row 17001/34000 with 2 missing, elapsed time: 336.657\n",
            "Imputing row 17101/34000 with 4 missing, elapsed time: 336.745\n",
            "Imputing row 17201/34000 with 6 missing, elapsed time: 336.831\n",
            "Imputing row 17301/34000 with 1 missing, elapsed time: 336.908\n",
            "Imputing row 17401/34000 with 0 missing, elapsed time: 336.990\n",
            "Imputing row 17501/34000 with 5 missing, elapsed time: 337.071\n",
            "Imputing row 17601/34000 with 3 missing, elapsed time: 337.146\n",
            "Imputing row 17701/34000 with 2 missing, elapsed time: 337.231\n",
            "Imputing row 17801/34000 with 2 missing, elapsed time: 337.315\n",
            "Imputing row 17901/34000 with 3 missing, elapsed time: 337.392\n",
            "Imputing row 18001/34000 with 2 missing, elapsed time: 337.480\n",
            "Imputing row 18101/34000 with 2 missing, elapsed time: 337.559\n",
            "Imputing row 18201/34000 with 5 missing, elapsed time: 337.630\n",
            "Imputing row 18301/34000 with 6 missing, elapsed time: 337.714\n",
            "Imputing row 18401/34000 with 5 missing, elapsed time: 337.791\n",
            "Imputing row 18501/34000 with 1 missing, elapsed time: 337.891\n",
            "Imputing row 18601/34000 with 5 missing, elapsed time: 337.971\n",
            "Imputing row 18701/34000 with 1 missing, elapsed time: 338.053\n",
            "Imputing row 18801/34000 with 3 missing, elapsed time: 338.149\n",
            "Imputing row 18901/34000 with 6 missing, elapsed time: 338.234\n",
            "Imputing row 19001/34000 with 2 missing, elapsed time: 338.318\n",
            "Imputing row 19101/34000 with 1 missing, elapsed time: 338.405\n",
            "Imputing row 19201/34000 with 3 missing, elapsed time: 338.505\n",
            "Imputing row 19301/34000 with 1 missing, elapsed time: 338.591\n",
            "Imputing row 19401/34000 with 1 missing, elapsed time: 338.682\n",
            "Imputing row 19501/34000 with 3 missing, elapsed time: 338.764\n",
            "Imputing row 19601/34000 with 2 missing, elapsed time: 338.848\n",
            "Imputing row 19701/34000 with 1 missing, elapsed time: 338.917\n",
            "Imputing row 19801/34000 with 5 missing, elapsed time: 339.003\n",
            "Imputing row 19901/34000 with 2 missing, elapsed time: 339.091\n",
            "Imputing row 20001/34000 with 4 missing, elapsed time: 339.169\n",
            "Imputing row 20101/34000 with 6 missing, elapsed time: 339.243\n",
            "Imputing row 20201/34000 with 10 missing, elapsed time: 339.328\n",
            "Imputing row 20301/34000 with 2 missing, elapsed time: 339.411\n",
            "Imputing row 20401/34000 with 4 missing, elapsed time: 339.488\n",
            "Imputing row 20501/34000 with 2 missing, elapsed time: 339.566\n",
            "Imputing row 20601/34000 with 4 missing, elapsed time: 339.653\n",
            "Imputing row 20701/34000 with 5 missing, elapsed time: 339.737\n",
            "Imputing row 20801/34000 with 1 missing, elapsed time: 339.816\n",
            "Imputing row 20901/34000 with 5 missing, elapsed time: 339.899\n",
            "Imputing row 21001/34000 with 8 missing, elapsed time: 339.984\n",
            "Imputing row 21101/34000 with 5 missing, elapsed time: 340.085\n",
            "Imputing row 21201/34000 with 2 missing, elapsed time: 340.162\n",
            "Imputing row 21301/34000 with 0 missing, elapsed time: 340.245\n",
            "Imputing row 21401/34000 with 6 missing, elapsed time: 340.335\n",
            "Imputing row 21501/34000 with 2 missing, elapsed time: 340.420\n",
            "Imputing row 21601/34000 with 1 missing, elapsed time: 340.504\n",
            "Imputing row 21701/34000 with 3 missing, elapsed time: 340.588\n",
            "Imputing row 21801/34000 with 3 missing, elapsed time: 340.668\n",
            "Imputing row 21901/34000 with 1 missing, elapsed time: 340.758\n",
            "Imputing row 22001/34000 with 3 missing, elapsed time: 340.837\n",
            "Imputing row 22101/34000 with 0 missing, elapsed time: 340.922\n",
            "Imputing row 22201/34000 with 2 missing, elapsed time: 341.013\n",
            "Imputing row 22301/34000 with 2 missing, elapsed time: 341.093\n",
            "Imputing row 22401/34000 with 4 missing, elapsed time: 341.177\n",
            "Imputing row 22501/34000 with 6 missing, elapsed time: 341.268\n",
            "Imputing row 22601/34000 with 1 missing, elapsed time: 341.354\n",
            "Imputing row 22701/34000 with 1 missing, elapsed time: 341.440\n",
            "Imputing row 22801/34000 with 5 missing, elapsed time: 341.521\n",
            "Imputing row 22901/34000 with 1 missing, elapsed time: 341.607\n",
            "Imputing row 23001/34000 with 0 missing, elapsed time: 341.694\n",
            "Imputing row 23101/34000 with 3 missing, elapsed time: 341.781\n",
            "Imputing row 23201/34000 with 9 missing, elapsed time: 341.876\n",
            "Imputing row 23301/34000 with 5 missing, elapsed time: 341.956\n",
            "Imputing row 23401/34000 with 3 missing, elapsed time: 342.045\n",
            "Imputing row 23501/34000 with 3 missing, elapsed time: 342.131\n",
            "Imputing row 23601/34000 with 2 missing, elapsed time: 342.212\n",
            "Imputing row 23701/34000 with 4 missing, elapsed time: 342.295\n",
            "Imputing row 23801/34000 with 4 missing, elapsed time: 342.368\n",
            "Imputing row 23901/34000 with 2 missing, elapsed time: 342.453\n",
            "Imputing row 24001/34000 with 2 missing, elapsed time: 342.545\n",
            "Imputing row 24101/34000 with 5 missing, elapsed time: 342.635\n",
            "Imputing row 24201/34000 with 2 missing, elapsed time: 342.715\n",
            "Imputing row 24301/34000 with 4 missing, elapsed time: 342.792\n",
            "Imputing row 24401/34000 with 4 missing, elapsed time: 342.877\n",
            "Imputing row 24501/34000 with 5 missing, elapsed time: 342.968\n",
            "Imputing row 24601/34000 with 6 missing, elapsed time: 343.058\n",
            "Imputing row 24701/34000 with 4 missing, elapsed time: 343.135\n",
            "Imputing row 24801/34000 with 4 missing, elapsed time: 343.229\n",
            "Imputing row 24901/34000 with 3 missing, elapsed time: 343.315\n",
            "Imputing row 25001/34000 with 2 missing, elapsed time: 343.407\n",
            "Imputing row 25101/34000 with 3 missing, elapsed time: 343.496\n",
            "Imputing row 25201/34000 with 5 missing, elapsed time: 343.580\n",
            "Imputing row 25301/34000 with 1 missing, elapsed time: 343.666\n",
            "Imputing row 25401/34000 with 3 missing, elapsed time: 343.745\n",
            "Imputing row 25501/34000 with 6 missing, elapsed time: 343.825\n",
            "Imputing row 25601/34000 with 1 missing, elapsed time: 343.910\n",
            "Imputing row 25701/34000 with 1 missing, elapsed time: 343.985\n",
            "Imputing row 25801/34000 with 1 missing, elapsed time: 344.072\n",
            "Imputing row 25901/34000 with 2 missing, elapsed time: 344.161\n",
            "Imputing row 26001/34000 with 3 missing, elapsed time: 344.245\n",
            "Imputing row 26101/34000 with 3 missing, elapsed time: 344.328\n",
            "Imputing row 26201/34000 with 1 missing, elapsed time: 344.404\n",
            "Imputing row 26301/34000 with 2 missing, elapsed time: 344.481\n",
            "Imputing row 26401/34000 with 3 missing, elapsed time: 344.563\n",
            "Imputing row 26501/34000 with 1 missing, elapsed time: 344.650\n",
            "Imputing row 26601/34000 with 2 missing, elapsed time: 344.736\n",
            "Imputing row 26701/34000 with 10 missing, elapsed time: 344.818\n",
            "Imputing row 26801/34000 with 2 missing, elapsed time: 344.896\n",
            "Imputing row 26901/34000 with 1 missing, elapsed time: 344.980\n",
            "Imputing row 27001/34000 with 1 missing, elapsed time: 345.062\n",
            "Imputing row 27101/34000 with 4 missing, elapsed time: 345.146\n",
            "Imputing row 27201/34000 with 1 missing, elapsed time: 345.234\n",
            "Imputing row 27301/34000 with 2 missing, elapsed time: 345.309\n",
            "Imputing row 27401/34000 with 2 missing, elapsed time: 345.393\n",
            "Imputing row 27501/34000 with 0 missing, elapsed time: 345.474\n",
            "Imputing row 27601/34000 with 1 missing, elapsed time: 345.550\n",
            "Imputing row 27701/34000 with 5 missing, elapsed time: 345.638\n",
            "Imputing row 27801/34000 with 7 missing, elapsed time: 345.726\n",
            "Imputing row 27901/34000 with 2 missing, elapsed time: 345.814\n",
            "Imputing row 28001/34000 with 1 missing, elapsed time: 345.896\n",
            "Imputing row 28101/34000 with 1 missing, elapsed time: 345.980\n",
            "Imputing row 28201/34000 with 2 missing, elapsed time: 346.060\n",
            "Imputing row 28301/34000 with 3 missing, elapsed time: 346.139\n",
            "Imputing row 28401/34000 with 1 missing, elapsed time: 346.221\n",
            "Imputing row 28501/34000 with 5 missing, elapsed time: 346.316\n",
            "Imputing row 28601/34000 with 3 missing, elapsed time: 346.401\n",
            "Imputing row 28701/34000 with 5 missing, elapsed time: 346.473\n",
            "Imputing row 28801/34000 with 3 missing, elapsed time: 346.554\n",
            "Imputing row 28901/34000 with 2 missing, elapsed time: 346.631\n",
            "Imputing row 29001/34000 with 1 missing, elapsed time: 346.716\n",
            "Imputing row 29101/34000 with 5 missing, elapsed time: 346.800\n",
            "Imputing row 29201/34000 with 2 missing, elapsed time: 346.879\n",
            "Imputing row 29301/34000 with 7 missing, elapsed time: 346.959\n",
            "Imputing row 29401/34000 with 1 missing, elapsed time: 347.037\n",
            "Imputing row 29501/34000 with 2 missing, elapsed time: 347.117\n",
            "Imputing row 29601/34000 with 2 missing, elapsed time: 347.201\n",
            "Imputing row 29701/34000 with 3 missing, elapsed time: 347.278\n",
            "Imputing row 29801/34000 with 6 missing, elapsed time: 347.363\n",
            "Imputing row 29901/34000 with 5 missing, elapsed time: 347.436\n",
            "Imputing row 30001/34000 with 2 missing, elapsed time: 347.518\n",
            "Imputing row 30101/34000 with 3 missing, elapsed time: 347.593\n",
            "Imputing row 30201/34000 with 2 missing, elapsed time: 347.677\n",
            "Imputing row 30301/34000 with 2 missing, elapsed time: 347.753\n",
            "Imputing row 30401/34000 with 1 missing, elapsed time: 347.839\n",
            "Imputing row 30501/34000 with 3 missing, elapsed time: 347.928\n",
            "Imputing row 30601/34000 with 8 missing, elapsed time: 348.016\n",
            "Imputing row 30701/34000 with 3 missing, elapsed time: 348.105\n",
            "Imputing row 30801/34000 with 1 missing, elapsed time: 348.193\n",
            "Imputing row 30901/34000 with 2 missing, elapsed time: 348.284\n",
            "Imputing row 31001/34000 with 1 missing, elapsed time: 348.362\n",
            "Imputing row 31101/34000 with 0 missing, elapsed time: 348.441\n",
            "Imputing row 31201/34000 with 4 missing, elapsed time: 348.522\n",
            "Imputing row 31301/34000 with 6 missing, elapsed time: 348.597\n",
            "Imputing row 31401/34000 with 2 missing, elapsed time: 348.677\n",
            "Imputing row 31501/34000 with 2 missing, elapsed time: 348.758\n",
            "Imputing row 31601/34000 with 3 missing, elapsed time: 348.849\n",
            "Imputing row 31701/34000 with 1 missing, elapsed time: 348.930\n",
            "Imputing row 31801/34000 with 6 missing, elapsed time: 349.019\n",
            "Imputing row 31901/34000 with 3 missing, elapsed time: 349.103\n",
            "Imputing row 32001/34000 with 3 missing, elapsed time: 349.195\n",
            "Imputing row 32101/34000 with 0 missing, elapsed time: 349.284\n",
            "Imputing row 32201/34000 with 2 missing, elapsed time: 349.373\n",
            "Imputing row 32301/34000 with 3 missing, elapsed time: 349.462\n",
            "Imputing row 32401/34000 with 1 missing, elapsed time: 349.542\n",
            "Imputing row 32501/34000 with 2 missing, elapsed time: 349.626\n",
            "Imputing row 32601/34000 with 0 missing, elapsed time: 349.706\n",
            "Imputing row 32701/34000 with 4 missing, elapsed time: 349.788\n",
            "Imputing row 32801/34000 with 1 missing, elapsed time: 349.866\n",
            "Imputing row 32901/34000 with 7 missing, elapsed time: 349.949\n",
            "Imputing row 33001/34000 with 6 missing, elapsed time: 350.041\n",
            "Imputing row 33101/34000 with 1 missing, elapsed time: 350.124\n",
            "Imputing row 33201/34000 with 11 missing, elapsed time: 350.199\n",
            "Imputing row 33301/34000 with 0 missing, elapsed time: 350.284\n",
            "Imputing row 33401/34000 with 6 missing, elapsed time: 350.361\n",
            "Imputing row 33501/34000 with 5 missing, elapsed time: 350.441\n",
            "Imputing row 33601/34000 with 2 missing, elapsed time: 350.526\n",
            "Imputing row 33701/34000 with 3 missing, elapsed time: 350.618\n",
            "Imputing row 33801/34000 with 1 missing, elapsed time: 350.704\n",
            "Imputing row 33901/34000 with 2 missing, elapsed time: 350.795\n"
          ],
          "name": "stdout"
        }
      ]
    },
    {
      "cell_type": "code",
      "metadata": {
        "id": "Y_JrGn1tSAge",
        "colab_type": "code",
        "colab": {}
      },
      "source": [
        "# train1['VAR14-total_cards']=train['VAR14-total_cards']"
      ],
      "execution_count": 0,
      "outputs": []
    },
    {
      "cell_type": "code",
      "metadata": {
        "id": "OdivegB5RAsR",
        "colab_type": "code",
        "colab": {}
      },
      "source": [
        "train1.to_csv('/content/gdrive/My Drive/data/Amex/imputedfile.csv')\n"
      ],
      "execution_count": 0,
      "outputs": []
    },
    {
      "cell_type": "code",
      "metadata": {
        "id": "4zLqv4bsASZm",
        "colab_type": "code",
        "colab": {}
      },
      "source": [
        "train1=pd.read_csv('/content/gdrive/My Drive/data/Amex/imputedfile.csv')"
      ],
      "execution_count": 0,
      "outputs": []
    },
    {
      "cell_type": "code",
      "metadata": {
        "id": "pwspPaHsyP06",
        "colab_type": "code",
        "colab": {}
      },
      "source": [
        "# list(Train)"
      ],
      "execution_count": 0,
      "outputs": []
    },
    {
      "cell_type": "code",
      "metadata": {
        "id": "ILnMJY_jEC8K",
        "colab_type": "code",
        "outputId": "9c27cbcc-6b29-4bf4-cfc1-7b316bafb0d9",
        "colab": {
          "base_uri": "https://localhost:8080/",
          "height": 391
        }
      },
      "source": [
        "train1.isnull().sum()"
      ],
      "execution_count": 21,
      "outputs": [
        {
          "output_type": "execute_result",
          "data": {
            "text/plain": [
              "Unnamed: 0    0\n",
              "VAR1          0\n",
              "VAR2          0\n",
              "VAR3          0\n",
              "VAR4          0\n",
              "VAR5          0\n",
              "VAR6          0\n",
              "VAR7          0\n",
              "VAR8          0\n",
              "VAR9          0\n",
              "VAR10         0\n",
              "VAR11         0\n",
              "VAR12         0\n",
              "VAR13         0\n",
              "VAR15         0\n",
              "VAR16         0\n",
              "VAR17         0\n",
              "VAR18         0\n",
              "VAR19         0\n",
              "VAR20         0\n",
              "VAR21         0\n",
              "VAR14         0\n",
              "dtype: int64"
            ]
          },
          "metadata": {
            "tags": []
          },
          "execution_count": 21
        }
      ]
    },
    {
      "cell_type": "code",
      "metadata": {
        "id": "onPj4_eSF8JE",
        "colab_type": "code",
        "colab": {}
      },
      "source": [
        "# import rpy2.robjects as ro"
      ],
      "execution_count": 0,
      "outputs": []
    },
    {
      "cell_type": "code",
      "metadata": {
        "id": "S6ET9ZSImQp6",
        "colab_type": "code",
        "colab": {}
      },
      "source": [
        "# python setup.py install"
      ],
      "execution_count": 0,
      "outputs": []
    },
    {
      "cell_type": "code",
      "metadata": {
        "id": "ISqUTjiumA3R",
        "colab_type": "code",
        "colab": {}
      },
      "source": [
        "# pip install rpy2==2.3.0"
      ],
      "execution_count": 0,
      "outputs": []
    },
    {
      "cell_type": "code",
      "metadata": {
        "id": "gEEEmbwem74D",
        "colab_type": "code",
        "colab": {}
      },
      "source": [
        "# pip install rpy"
      ],
      "execution_count": 0,
      "outputs": []
    },
    {
      "cell_type": "code",
      "metadata": {
        "id": "0DFpWNX8lgL3",
        "colab_type": "code",
        "colab": {}
      },
      "source": [
        "\n",
        "# This sets the correct stable version. I had a few difficulties with version above 2.3.0 but those might be fixed in the future\n",
        "\n",
        "# Ok to begin we need to import all the necessary libraries.\n",
        "\n",
        "# import scipy as sp\n",
        "\n",
        "# from rpy2.robjects.packages import importr\n",
        "\n",
        "# import pandas.rpy.common as com"
      ],
      "execution_count": 0,
      "outputs": []
    },
    {
      "cell_type": "code",
      "metadata": {
        "id": "9gb8M2jVLghG",
        "colab_type": "code",
        "colab": {
          "base_uri": "https://localhost:8080/",
          "height": 33
        },
        "outputId": "48bd99b1-b7bb-4b4f-8c1c-f91cdae2ae2c"
      },
      "source": [
        "pip install mord"
      ],
      "execution_count": 145,
      "outputs": [
        {
          "output_type": "stream",
          "text": [
            "Requirement already satisfied: mord in /usr/local/lib/python3.6/dist-packages (0.6)\n"
          ],
          "name": "stdout"
        }
      ]
    },
    {
      "cell_type": "code",
      "metadata": {
        "id": "iROqmL-MM5N1",
        "colab_type": "code",
        "colab": {}
      },
      "source": [
        "import mord\n"
      ],
      "execution_count": 0,
      "outputs": []
    },
    {
      "cell_type": "code",
      "metadata": {
        "id": "EW32o0Z-NiMg",
        "colab_type": "code",
        "colab": {}
      },
      "source": [
        "from sklearn.linear_model import LinearRegression, LogisticRegression\n",
        "from mord import LogisticAT"
      ],
      "execution_count": 0,
      "outputs": []
    },
    {
      "cell_type": "code",
      "metadata": {
        "id": "C_Ci_xjRSc28",
        "colab_type": "code",
        "colab": {}
      },
      "source": [
        "from statsmodels.api import add_constant"
      ],
      "execution_count": 0,
      "outputs": []
    },
    {
      "cell_type": "code",
      "metadata": {
        "id": "6XBLkpJsfVt7",
        "colab_type": "code",
        "colab": {}
      },
      "source": [
        "import statsmodels.api as sm"
      ],
      "execution_count": 0,
      "outputs": []
    },
    {
      "cell_type": "code",
      "metadata": {
        "id": "B3KaK8Z0DmaT",
        "colab_type": "code",
        "colab": {
          "base_uri": "https://localhost:8080/",
          "height": 82
        },
        "outputId": "e205a253-0198-4a89-8055-1ece495b5e9e"
      },
      "source": [
        "train1.columns"
      ],
      "execution_count": 42,
      "outputs": [
        {
          "output_type": "execute_result",
          "data": {
            "text/plain": [
              "Index(['Unnamed: 0', 'VAR1', 'VAR2', 'VAR3', 'VAR4', 'VAR5', 'VAR6', 'VAR7',\n",
              "       'VAR8', 'VAR9', 'VAR10', 'VAR11', 'VAR12', 'VAR13', 'VAR15', 'VAR16',\n",
              "       'VAR17', 'VAR18', 'VAR19', 'VAR20', 'VAR21', 'VAR14'],\n",
              "      dtype='object')"
            ]
          },
          "metadata": {
            "tags": []
          },
          "execution_count": 42
        }
      ]
    },
    {
      "cell_type": "code",
      "metadata": {
        "id": "UM0_lHTbQdHm",
        "colab_type": "code",
        "colab": {
          "base_uri": "https://localhost:8080/",
          "height": 260
        },
        "outputId": "cdbbb6ea-69db-4d0e-d539-bd6b5027b609"
      },
      "source": [
        "train1.head()"
      ],
      "execution_count": 150,
      "outputs": [
        {
          "output_type": "execute_result",
          "data": {
            "text/html": [
              "<div>\n",
              "<style scoped>\n",
              "    .dataframe tbody tr th:only-of-type {\n",
              "        vertical-align: middle;\n",
              "    }\n",
              "\n",
              "    .dataframe tbody tr th {\n",
              "        vertical-align: top;\n",
              "    }\n",
              "\n",
              "    .dataframe thead th {\n",
              "        text-align: right;\n",
              "    }\n",
              "</style>\n",
              "<table border=\"1\" class=\"dataframe\">\n",
              "  <thead>\n",
              "    <tr style=\"text-align: right;\">\n",
              "      <th></th>\n",
              "      <th>Unnamed: 0</th>\n",
              "      <th>VAR1-ID</th>\n",
              "      <th>VAR2-FICO</th>\n",
              "      <th>VAR3-Business Revenue</th>\n",
              "      <th>VAR4-TSR</th>\n",
              "      <th>VAR5-Last 6M Avg Util</th>\n",
              "      <th>VAR6-Income</th>\n",
              "      <th>VAR7-Last 6M Avg Remit</th>\n",
              "      <th>VAR8-Last 6M Avg Bal</th>\n",
              "      <th>VAR9-Internal Revolve</th>\n",
              "      <th>VAR10-Lending AR% in last 6M</th>\n",
              "      <th>VAR11-ExternalBalance</th>\n",
              "      <th>VAR12-Months in Business</th>\n",
              "      <th>VAR13-preferred_spend_line</th>\n",
              "      <th>VAR14-total_cards</th>\n",
              "      <th>VAR15-preferred_bal_line</th>\n",
              "      <th>VAR16-preavgremit1_3_all</th>\n",
              "      <th>VAR17-External_rev_rate</th>\n",
              "      <th>VAR18-Supplementary Cards</th>\n",
              "      <th>VAR19-isChargeCust</th>\n",
              "      <th>VAR20-CMV</th>\n",
              "      <th>VAR21-Assigned Line</th>\n",
              "    </tr>\n",
              "  </thead>\n",
              "  <tbody>\n",
              "    <tr>\n",
              "      <th>0</th>\n",
              "      <td>0</td>\n",
              "      <td>1.0</td>\n",
              "      <td>828.235294</td>\n",
              "      <td>0.138889</td>\n",
              "      <td>321.428571</td>\n",
              "      <td>625.911006</td>\n",
              "      <td>1.818182</td>\n",
              "      <td>1.081550</td>\n",
              "      <td>198.113469</td>\n",
              "      <td>21.062509</td>\n",
              "      <td>58.632548</td>\n",
              "      <td>0.279273</td>\n",
              "      <td>100.083403</td>\n",
              "      <td>1.000000</td>\n",
              "      <td>1.0</td>\n",
              "      <td>1.000000</td>\n",
              "      <td>1.540594</td>\n",
              "      <td>912.313476</td>\n",
              "      <td>1.0</td>\n",
              "      <td>0.0</td>\n",
              "      <td>100.104991</td>\n",
              "      <td>1.0</td>\n",
              "    </tr>\n",
              "    <tr>\n",
              "      <th>1</th>\n",
              "      <td>1</td>\n",
              "      <td>2.0</td>\n",
              "      <td>911.764706</td>\n",
              "      <td>0.027778</td>\n",
              "      <td>214.067101</td>\n",
              "      <td>611.574748</td>\n",
              "      <td>8.181818</td>\n",
              "      <td>1.344479</td>\n",
              "      <td>198.600020</td>\n",
              "      <td>22.086661</td>\n",
              "      <td>53.254392</td>\n",
              "      <td>6.721240</td>\n",
              "      <td>15.012510</td>\n",
              "      <td>10.541259</td>\n",
              "      <td>1.0</td>\n",
              "      <td>13.173979</td>\n",
              "      <td>1.614613</td>\n",
              "      <td>847.825547</td>\n",
              "      <td>0.0</td>\n",
              "      <td>1.0</td>\n",
              "      <td>146.654045</td>\n",
              "      <td>0.0</td>\n",
              "    </tr>\n",
              "    <tr>\n",
              "      <th>2</th>\n",
              "      <td>2</td>\n",
              "      <td>3.0</td>\n",
              "      <td>962.352941</td>\n",
              "      <td>0.833333</td>\n",
              "      <td>35.714286</td>\n",
              "      <td>615.825381</td>\n",
              "      <td>8.181818</td>\n",
              "      <td>0.720796</td>\n",
              "      <td>197.267767</td>\n",
              "      <td>71.172496</td>\n",
              "      <td>58.632548</td>\n",
              "      <td>0.453212</td>\n",
              "      <td>210.175146</td>\n",
              "      <td>10.000000</td>\n",
              "      <td>1.0</td>\n",
              "      <td>10.000000</td>\n",
              "      <td>1.044599</td>\n",
              "      <td>790.199971</td>\n",
              "      <td>0.0</td>\n",
              "      <td>0.0</td>\n",
              "      <td>98.249570</td>\n",
              "      <td>2.0</td>\n",
              "    </tr>\n",
              "    <tr>\n",
              "      <th>3</th>\n",
              "      <td>3</td>\n",
              "      <td>4.0</td>\n",
              "      <td>892.941177</td>\n",
              "      <td>0.088780</td>\n",
              "      <td>243.948299</td>\n",
              "      <td>638.076431</td>\n",
              "      <td>9.090909</td>\n",
              "      <td>0.820218</td>\n",
              "      <td>197.355744</td>\n",
              "      <td>4.363431</td>\n",
              "      <td>58.632548</td>\n",
              "      <td>4.528021</td>\n",
              "      <td>105.420120</td>\n",
              "      <td>12.106913</td>\n",
              "      <td>1.0</td>\n",
              "      <td>14.100605</td>\n",
              "      <td>1.145729</td>\n",
              "      <td>815.131815</td>\n",
              "      <td>1.0</td>\n",
              "      <td>0.0</td>\n",
              "      <td>140.862306</td>\n",
              "      <td>1.0</td>\n",
              "    </tr>\n",
              "    <tr>\n",
              "      <th>4</th>\n",
              "      <td>4</td>\n",
              "      <td>5.0</td>\n",
              "      <td>914.117647</td>\n",
              "      <td>0.083333</td>\n",
              "      <td>227.938914</td>\n",
              "      <td>626.514988</td>\n",
              "      <td>5.181818</td>\n",
              "      <td>1.372928</td>\n",
              "      <td>198.790477</td>\n",
              "      <td>85.938202</td>\n",
              "      <td>58.632548</td>\n",
              "      <td>4.621252</td>\n",
              "      <td>210.175146</td>\n",
              "      <td>6.894426</td>\n",
              "      <td>1.0</td>\n",
              "      <td>9.191711</td>\n",
              "      <td>1.558341</td>\n",
              "      <td>888.154353</td>\n",
              "      <td>1.0</td>\n",
              "      <td>0.0</td>\n",
              "      <td>101.268503</td>\n",
              "      <td>0.0</td>\n",
              "    </tr>\n",
              "  </tbody>\n",
              "</table>\n",
              "</div>"
            ],
            "text/plain": [
              "   Unnamed: 0  VAR1-ID  ...   VAR20-CMV  VAR21-Assigned Line\n",
              "0           0      1.0  ...  100.104991                  1.0\n",
              "1           1      2.0  ...  146.654045                  0.0\n",
              "2           2      3.0  ...   98.249570                  2.0\n",
              "3           3      4.0  ...  140.862306                  1.0\n",
              "4           4      5.0  ...  101.268503                  0.0\n",
              "\n",
              "[5 rows x 22 columns]"
            ]
          },
          "metadata": {
            "tags": []
          },
          "execution_count": 150
        }
      ]
    },
    {
      "cell_type": "code",
      "metadata": {
        "id": "grlqmyRUUxB4",
        "colab_type": "code",
        "colab": {}
      },
      "source": [
        "train1.drop('VAR21-Assigned Line', axis=1, inplace=True)"
      ],
      "execution_count": 0,
      "outputs": []
    },
    {
      "cell_type": "code",
      "metadata": {
        "id": "rNQqHzWuQXVk",
        "colab_type": "code",
        "colab": {}
      },
      "source": [
        "train1.drop(['Unnamed: 0', 'VAR1-ID'],axis=1, inplace=True)"
      ],
      "execution_count": 0,
      "outputs": []
    },
    {
      "cell_type": "code",
      "metadata": {
        "id": "6m5WOiVXUrXH",
        "colab_type": "code",
        "colab": {
          "base_uri": "https://localhost:8080/",
          "height": 163
        },
        "outputId": "e2787a12-aa0e-464b-ac1f-cb2860a5780b"
      },
      "source": [
        "train1.columns"
      ],
      "execution_count": 197,
      "outputs": [
        {
          "output_type": "execute_result",
          "data": {
            "text/plain": [
              "Index(['const', 'VAR2-FICO', 'VAR3-Business Revenue', 'VAR4-TSR',\n",
              "       'VAR5-Last 6M Avg Util', 'VAR6-Income', 'VAR7-Last 6M Avg Remit',\n",
              "       'VAR8-Last 6M Avg Bal', 'VAR9-Internal Revolve',\n",
              "       'VAR10-Lending AR% in last 6M', 'VAR11-ExternalBalance',\n",
              "       'VAR12-Months in Business', 'VAR13-preferred_spend_line',\n",
              "       'VAR14-total_cards', 'VAR15-preferred_bal_line',\n",
              "       'VAR16-preavgremit1_3_all', 'VAR17-External_rev_rate',\n",
              "       'VAR18-Supplementary Cards', 'VAR19-isChargeCust', 'VAR20-CMV'],\n",
              "      dtype='object')"
            ]
          },
          "metadata": {
            "tags": []
          },
          "execution_count": 197
        }
      ]
    },
    {
      "cell_type": "code",
      "metadata": {
        "id": "h2o8-NxRIHh9",
        "colab_type": "code",
        "colab": {}
      },
      "source": [
        "predict.replace({'VAR14-total_cards': {'.': 1}}, inplace=True)"
      ],
      "execution_count": 0,
      "outputs": []
    },
    {
      "cell_type": "code",
      "metadata": {
        "id": "YbrGbSLCcBIy",
        "colab_type": "code",
        "colab": {
          "base_uri": "https://localhost:8080/",
          "height": 66
        },
        "outputId": "e3770c9f-2a8e-43b5-8ef4-bd56621f5f5e"
      },
      "source": [
        "Y.head(2)"
      ],
      "execution_count": 45,
      "outputs": [
        {
          "output_type": "execute_result",
          "data": {
            "text/plain": [
              "0    1\n",
              "1    0\n",
              "Name: VAR21-Assigned Line, dtype: int8"
            ]
          },
          "metadata": {
            "tags": []
          },
          "execution_count": 45
        }
      ]
    },
    {
      "cell_type": "code",
      "metadata": {
        "id": "u6cxTAt8r3c8",
        "colab_type": "code",
        "colab": {}
      },
      "source": [
        "Y = Y.astype('int')"
      ],
      "execution_count": 0,
      "outputs": []
    },
    {
      "cell_type": "code",
      "metadata": {
        "id": "u3BApbEMgRbC",
        "colab_type": "code",
        "colab": {}
      },
      "source": [
        "# train1['VAR14-total_cards'].astype('array')"
      ],
      "execution_count": 0,
      "outputs": []
    },
    {
      "cell_type": "code",
      "metadata": {
        "id": "pbVVKcssf3sn",
        "colab_type": "code",
        "colab": {
          "base_uri": "https://localhost:8080/",
          "height": 33
        },
        "outputId": "27343728-0df4-4a2a-d677-ed3afe3b6da2"
      },
      "source": [
        "Y.dtype"
      ],
      "execution_count": 38,
      "outputs": [
        {
          "output_type": "execute_result",
          "data": {
            "text/plain": [
              "dtype('int64')"
            ]
          },
          "metadata": {
            "tags": []
          },
          "execution_count": 38
        }
      ]
    },
    {
      "cell_type": "code",
      "metadata": {
        "id": "lqmN_zVZf54y",
        "colab_type": "code",
        "colab": {
          "base_uri": "https://localhost:8080/",
          "height": 342
        },
        "outputId": "bdd09b00-5118-4cbc-c865-b7e406bcac7e"
      },
      "source": [
        "train1.dtypes"
      ],
      "execution_count": 76,
      "outputs": [
        {
          "output_type": "execute_result",
          "data": {
            "text/plain": [
              "const    float64\n",
              "VAR2     float64\n",
              "VAR3     float64\n",
              "VAR4     float64\n",
              "VAR5     float64\n",
              "VAR6     float64\n",
              "VAR7     float64\n",
              "VAR8     float64\n",
              "VAR9     float64\n",
              "VAR10    float64\n",
              "VAR11    float64\n",
              "VAR12    float64\n",
              "VAR13    float64\n",
              "VAR15    float64\n",
              "VAR16    float64\n",
              "VAR17    float64\n",
              "VAR18    float64\n",
              "VAR19    float64\n",
              "VAR20    float64\n",
              "dtype: object"
            ]
          },
          "metadata": {
            "tags": []
          },
          "execution_count": 76
        }
      ]
    },
    {
      "cell_type": "code",
      "metadata": {
        "id": "0j4PBOsYhDNq",
        "colab_type": "code",
        "colab": {}
      },
      "source": [
        "# train1.drop('VAR14', inplace=True, axis=1)"
      ],
      "execution_count": 0,
      "outputs": []
    },
    {
      "cell_type": "code",
      "metadata": {
        "id": "JuGzx4DVg03P",
        "colab_type": "code",
        "colab": {}
      },
      "source": [
        "import numpy as np\n",
        "\n"
      ],
      "execution_count": 0,
      "outputs": []
    },
    {
      "cell_type": "code",
      "metadata": {
        "id": "OQdYArB_guKQ",
        "colab_type": "code",
        "colab": {}
      },
      "source": [
        "\n",
        "# np.asarray(train1)"
      ],
      "execution_count": 0,
      "outputs": []
    },
    {
      "cell_type": "code",
      "metadata": {
        "id": "NjtJxUZ-ewcD",
        "colab_type": "code",
        "colab": {
          "base_uri": "https://localhost:8080/",
          "height": 33
        },
        "outputId": "78da5028-8a9d-4841-e1b1-b5aa05e4ac1e"
      },
      "source": [
        "train1.shape"
      ],
      "execution_count": 155,
      "outputs": [
        {
          "output_type": "execute_result",
          "data": {
            "text/plain": [
              "(34000, 20)"
            ]
          },
          "metadata": {
            "tags": []
          },
          "execution_count": 155
        }
      ]
    },
    {
      "cell_type": "code",
      "metadata": {
        "id": "H0dw20Vnw-b-",
        "colab_type": "code",
        "colab": {}
      },
      "source": [
        "train1.head()"
      ],
      "execution_count": 0,
      "outputs": []
    },
    {
      "cell_type": "code",
      "metadata": {
        "id": "KttTlWQlfAn3",
        "colab_type": "code",
        "colab": {
          "base_uri": "https://localhost:8080/",
          "height": 50
        },
        "outputId": "faf94c01-5b00-4e13-9cfa-ec76d8889ae3"
      },
      "source": [
        "train1=add_constant(train1)"
      ],
      "execution_count": 156,
      "outputs": [
        {
          "output_type": "stream",
          "text": [
            "/usr/local/lib/python3.6/dist-packages/numpy/core/fromnumeric.py:2389: FutureWarning: Method .ptp is deprecated and will be removed in a future version. Use numpy.ptp instead.\n",
            "  return ptp(axis=axis, out=out, **kwargs)\n"
          ],
          "name": "stderr"
        }
      ]
    },
    {
      "cell_type": "code",
      "metadata": {
        "id": "HGDGIt0RU05Y",
        "colab_type": "code",
        "colab": {
          "base_uri": "https://localhost:8080/",
          "height": 50
        },
        "outputId": "1787af59-61cc-46d3-cb93-6c15ef879284"
      },
      "source": [
        "lead1=add_constant(lead1)"
      ],
      "execution_count": 198,
      "outputs": [
        {
          "output_type": "stream",
          "text": [
            "/usr/local/lib/python3.6/dist-packages/numpy/core/fromnumeric.py:2389: FutureWarning: Method .ptp is deprecated and will be removed in a future version. Use numpy.ptp instead.\n",
            "  return ptp(axis=axis, out=out, **kwargs)\n"
          ],
          "name": "stderr"
        }
      ]
    },
    {
      "cell_type": "code",
      "metadata": {
        "id": "ZWU4Ws2Qfe8I",
        "colab_type": "code",
        "colab": {
          "base_uri": "https://localhost:8080/",
          "height": 326
        },
        "outputId": "bba52ae8-cfe7-4280-f883-30c675516089"
      },
      "source": [
        "lpm_model = sm.OLS(Y, train1)\n",
        "lpm_result = lpm_model.fit()\n",
        "print('Parameters: ', lpm_result.params[:-1])"
      ],
      "execution_count": 77,
      "outputs": [
        {
          "output_type": "stream",
          "text": [
            "Parameters:  const    1.280104\n",
            "VAR2     0.000932\n",
            "VAR3     0.000096\n",
            "VAR4    -0.000045\n",
            "VAR5    -0.000753\n",
            "VAR6     0.000219\n",
            "VAR7     0.000693\n",
            "VAR8    -0.001231\n",
            "VAR9    -0.000089\n",
            "VAR10   -0.000085\n",
            "VAR11   -0.001158\n",
            "VAR12    0.000106\n",
            "VAR13   -0.000523\n",
            "VAR15    0.000969\n",
            "VAR16   -0.001429\n",
            "VAR17    0.000041\n",
            "VAR18    0.003266\n",
            "VAR19   -0.066063\n",
            "dtype: float64\n"
          ],
          "name": "stdout"
        }
      ]
    },
    {
      "cell_type": "code",
      "metadata": {
        "id": "K2chze2phqpF",
        "colab_type": "code",
        "colab": {
          "base_uri": "https://localhost:8080/",
          "height": 712
        },
        "outputId": "4d77008f-81d1-4455-d95c-4f707e6614ff"
      },
      "source": [
        "lpm_result.summary()"
      ],
      "execution_count": 78,
      "outputs": [
        {
          "output_type": "execute_result",
          "data": {
            "text/html": [
              "<table class=\"simpletable\">\n",
              "<caption>OLS Regression Results</caption>\n",
              "<tr>\n",
              "  <th>Dep. Variable:</th>    <td>VAR21-Assigned Line</td> <th>  R-squared:         </th> <td>   0.013</td> \n",
              "</tr>\n",
              "<tr>\n",
              "  <th>Model:</th>                    <td>OLS</td>         <th>  Adj. R-squared:    </th> <td>   0.012</td> \n",
              "</tr>\n",
              "<tr>\n",
              "  <th>Method:</th>              <td>Least Squares</td>    <th>  F-statistic:       </th> <td>   24.69</td> \n",
              "</tr>\n",
              "<tr>\n",
              "  <th>Date:</th>              <td>Tue, 01 Oct 2019</td>   <th>  Prob (F-statistic):</th> <td>1.82e-82</td> \n",
              "</tr>\n",
              "<tr>\n",
              "  <th>Time:</th>                  <td>07:41:55</td>       <th>  Log-Likelihood:    </th> <td> -34994.</td> \n",
              "</tr>\n",
              "<tr>\n",
              "  <th>No. Observations:</th>       <td> 34000</td>        <th>  AIC:               </th> <td>7.003e+04</td>\n",
              "</tr>\n",
              "<tr>\n",
              "  <th>Df Residuals:</th>           <td> 33981</td>        <th>  BIC:               </th> <td>7.019e+04</td>\n",
              "</tr>\n",
              "<tr>\n",
              "  <th>Df Model:</th>               <td>    18</td>        <th>                     </th>     <td> </td>    \n",
              "</tr>\n",
              "<tr>\n",
              "  <th>Covariance Type:</th>       <td>nonrobust</td>      <th>                     </th>     <td> </td>    \n",
              "</tr>\n",
              "</table>\n",
              "<table class=\"simpletable\">\n",
              "<tr>\n",
              "    <td></td>       <th>coef</th>     <th>std err</th>      <th>t</th>      <th>P>|t|</th>  <th>[0.025</th>    <th>0.975]</th>  \n",
              "</tr>\n",
              "<tr>\n",
              "  <th>const</th> <td>    1.2801</td> <td>    0.156</td> <td>    8.194</td> <td> 0.000</td> <td>    0.974</td> <td>    1.586</td>\n",
              "</tr>\n",
              "<tr>\n",
              "  <th>VAR2</th>  <td>    0.0009</td> <td> 9.02e-05</td> <td>   10.343</td> <td> 0.000</td> <td>    0.001</td> <td>    0.001</td>\n",
              "</tr>\n",
              "<tr>\n",
              "  <th>VAR3</th>  <td> 9.622e-05</td> <td>    0.000</td> <td>    0.324</td> <td> 0.746</td> <td>   -0.000</td> <td>    0.001</td>\n",
              "</tr>\n",
              "<tr>\n",
              "  <th>VAR4</th>  <td>-4.472e-05</td> <td> 2.19e-05</td> <td>   -2.044</td> <td> 0.041</td> <td>-8.76e-05</td> <td>-1.85e-06</td>\n",
              "</tr>\n",
              "<tr>\n",
              "  <th>VAR5</th>  <td>   -0.0008</td> <td>    0.000</td> <td>   -5.607</td> <td> 0.000</td> <td>   -0.001</td> <td>   -0.000</td>\n",
              "</tr>\n",
              "<tr>\n",
              "  <th>VAR6</th>  <td>    0.0002</td> <td>    0.000</td> <td>    1.627</td> <td> 0.104</td> <td>-4.47e-05</td> <td>    0.000</td>\n",
              "</tr>\n",
              "<tr>\n",
              "  <th>VAR7</th>  <td>    0.0007</td> <td>    0.002</td> <td>    0.420</td> <td> 0.675</td> <td>   -0.003</td> <td>    0.004</td>\n",
              "</tr>\n",
              "<tr>\n",
              "  <th>VAR8</th>  <td>   -0.0012</td> <td>    0.001</td> <td>   -2.057</td> <td> 0.040</td> <td>   -0.002</td> <td>-5.81e-05</td>\n",
              "</tr>\n",
              "<tr>\n",
              "  <th>VAR9</th>  <td>-8.888e-05</td> <td> 5.54e-05</td> <td>   -1.606</td> <td> 0.108</td> <td>   -0.000</td> <td> 1.96e-05</td>\n",
              "</tr>\n",
              "<tr>\n",
              "  <th>VAR10</th> <td>-8.524e-05</td> <td>    0.001</td> <td>   -0.142</td> <td> 0.887</td> <td>   -0.001</td> <td>    0.001</td>\n",
              "</tr>\n",
              "<tr>\n",
              "  <th>VAR11</th> <td>   -0.0012</td> <td>    0.001</td> <td>   -2.305</td> <td> 0.021</td> <td>   -0.002</td> <td>   -0.000</td>\n",
              "</tr>\n",
              "<tr>\n",
              "  <th>VAR12</th> <td>    0.0001</td> <td> 3.54e-05</td> <td>    2.995</td> <td> 0.003</td> <td> 3.66e-05</td> <td>    0.000</td>\n",
              "</tr>\n",
              "<tr>\n",
              "  <th>VAR13</th> <td>   -0.0005</td> <td>    0.001</td> <td>   -0.689</td> <td> 0.491</td> <td>   -0.002</td> <td>    0.001</td>\n",
              "</tr>\n",
              "<tr>\n",
              "  <th>VAR15</th> <td>    0.0010</td> <td>    0.001</td> <td>    1.227</td> <td> 0.220</td> <td>   -0.001</td> <td>    0.003</td>\n",
              "</tr>\n",
              "<tr>\n",
              "  <th>VAR16</th> <td>   -0.0014</td> <td>    0.001</td> <td>   -0.953</td> <td> 0.340</td> <td>   -0.004</td> <td>    0.002</td>\n",
              "</tr>\n",
              "<tr>\n",
              "  <th>VAR17</th> <td>  4.14e-05</td> <td> 1.95e-05</td> <td>    2.128</td> <td> 0.033</td> <td> 3.28e-06</td> <td> 7.95e-05</td>\n",
              "</tr>\n",
              "<tr>\n",
              "  <th>VAR18</th> <td>    0.0033</td> <td>    0.005</td> <td>    0.602</td> <td> 0.547</td> <td>   -0.007</td> <td>    0.014</td>\n",
              "</tr>\n",
              "<tr>\n",
              "  <th>VAR19</th> <td>   -0.0661</td> <td>    0.009</td> <td>   -7.620</td> <td> 0.000</td> <td>   -0.083</td> <td>   -0.049</td>\n",
              "</tr>\n",
              "<tr>\n",
              "  <th>VAR20</th> <td> 2.311e-06</td> <td> 3.15e-05</td> <td>    0.073</td> <td> 0.941</td> <td>-5.94e-05</td> <td>  6.4e-05</td>\n",
              "</tr>\n",
              "</table>\n",
              "<table class=\"simpletable\">\n",
              "<tr>\n",
              "  <th>Omnibus:</th>       <td>3372.465</td> <th>  Durbin-Watson:     </th> <td>   1.992</td>\n",
              "</tr>\n",
              "<tr>\n",
              "  <th>Prob(Omnibus):</th>  <td> 0.000</td>  <th>  Jarque-Bera (JB):  </th> <td>3817.144</td>\n",
              "</tr>\n",
              "<tr>\n",
              "  <th>Skew:</th>           <td>-0.783</td>  <th>  Prob(JB):          </th> <td>    0.00</td>\n",
              "</tr>\n",
              "<tr>\n",
              "  <th>Kurtosis:</th>       <td> 2.506</td>  <th>  Cond. No.          </th> <td>6.04e+04</td>\n",
              "</tr>\n",
              "</table><br/><br/>Warnings:<br/>[1] Standard Errors assume that the covariance matrix of the errors is correctly specified.<br/>[2] The condition number is large, 6.04e+04. This might indicate that there are<br/>strong multicollinearity or other numerical problems."
            ],
            "text/plain": [
              "<class 'statsmodels.iolib.summary.Summary'>\n",
              "\"\"\"\n",
              "                             OLS Regression Results                            \n",
              "===============================================================================\n",
              "Dep. Variable:     VAR21-Assigned Line   R-squared:                       0.013\n",
              "Model:                             OLS   Adj. R-squared:                  0.012\n",
              "Method:                  Least Squares   F-statistic:                     24.69\n",
              "Date:                 Tue, 01 Oct 2019   Prob (F-statistic):           1.82e-82\n",
              "Time:                         07:41:55   Log-Likelihood:                -34994.\n",
              "No. Observations:                34000   AIC:                         7.003e+04\n",
              "Df Residuals:                    33981   BIC:                         7.019e+04\n",
              "Df Model:                           18                                         \n",
              "Covariance Type:             nonrobust                                         \n",
              "==============================================================================\n",
              "                 coef    std err          t      P>|t|      [0.025      0.975]\n",
              "------------------------------------------------------------------------------\n",
              "const          1.2801      0.156      8.194      0.000       0.974       1.586\n",
              "VAR2           0.0009   9.02e-05     10.343      0.000       0.001       0.001\n",
              "VAR3        9.622e-05      0.000      0.324      0.746      -0.000       0.001\n",
              "VAR4       -4.472e-05   2.19e-05     -2.044      0.041   -8.76e-05   -1.85e-06\n",
              "VAR5          -0.0008      0.000     -5.607      0.000      -0.001      -0.000\n",
              "VAR6           0.0002      0.000      1.627      0.104   -4.47e-05       0.000\n",
              "VAR7           0.0007      0.002      0.420      0.675      -0.003       0.004\n",
              "VAR8          -0.0012      0.001     -2.057      0.040      -0.002   -5.81e-05\n",
              "VAR9       -8.888e-05   5.54e-05     -1.606      0.108      -0.000    1.96e-05\n",
              "VAR10      -8.524e-05      0.001     -0.142      0.887      -0.001       0.001\n",
              "VAR11         -0.0012      0.001     -2.305      0.021      -0.002      -0.000\n",
              "VAR12          0.0001   3.54e-05      2.995      0.003    3.66e-05       0.000\n",
              "VAR13         -0.0005      0.001     -0.689      0.491      -0.002       0.001\n",
              "VAR15          0.0010      0.001      1.227      0.220      -0.001       0.003\n",
              "VAR16         -0.0014      0.001     -0.953      0.340      -0.004       0.002\n",
              "VAR17        4.14e-05   1.95e-05      2.128      0.033    3.28e-06    7.95e-05\n",
              "VAR18          0.0033      0.005      0.602      0.547      -0.007       0.014\n",
              "VAR19         -0.0661      0.009     -7.620      0.000      -0.083      -0.049\n",
              "VAR20       2.311e-06   3.15e-05      0.073      0.941   -5.94e-05     6.4e-05\n",
              "==============================================================================\n",
              "Omnibus:                     3372.465   Durbin-Watson:                   1.992\n",
              "Prob(Omnibus):                  0.000   Jarque-Bera (JB):             3817.144\n",
              "Skew:                          -0.783   Prob(JB):                         0.00\n",
              "Kurtosis:                       2.506   Cond. No.                     6.04e+04\n",
              "==============================================================================\n",
              "\n",
              "Warnings:\n",
              "[1] Standard Errors assume that the covariance matrix of the errors is correctly specified.\n",
              "[2] The condition number is large, 6.04e+04. This might indicate that there are\n",
              "strong multicollinearity or other numerical problems.\n",
              "\"\"\""
            ]
          },
          "metadata": {
            "tags": []
          },
          "execution_count": 78
        }
      ]
    },
    {
      "cell_type": "code",
      "metadata": {
        "id": "zoDFu7SgF1M0",
        "colab_type": "code",
        "colab": {}
      },
      "source": [
        "model_linear = LinearRegression()"
      ],
      "execution_count": 0,
      "outputs": []
    },
    {
      "cell_type": "code",
      "metadata": {
        "id": "gx7GVWUXEIYw",
        "colab_type": "code",
        "colab": {}
      },
      "source": [
        "model_1vR = LogisticRegression(multi_class='ovr',\n",
        "    class_weight='balanced')\n",
        "model_multi = LogisticRegression(multi_class='multinomial',\n",
        "    solver='lbfgs',\n",
        "    class_weight='balanced')\n",
        "model_ordinal = LogisticAT(alpha=0)"
      ],
      "execution_count": 0,
      "outputs": []
    },
    {
      "cell_type": "code",
      "metadata": {
        "id": "urbplm6VEfVw",
        "colab_type": "code",
        "colab": {}
      },
      "source": [
        "from sklearn.model_selection import cross_val_score\n",
        "from sklearn.metrics import mean_absolute_error\n",
        "from sklearn.metrics import make_scorer"
      ],
      "execution_count": 0,
      "outputs": []
    },
    {
      "cell_type": "code",
      "metadata": {
        "id": "gavmUeeHEiFF",
        "colab_type": "code",
        "colab": {
          "base_uri": "https://localhost:8080/",
          "height": 423
        },
        "outputId": "70e4b166-ca07-4781-f570-3ecdd8bc6f2e"
      },
      "source": [
        "MAE = make_scorer(mean_absolute_error)\n",
        "folds = 5\n",
        "\n",
        "print('Mean absolute error:' )\n",
        "MAE_linear = cross_val_score(model_linear,\n",
        "    train1,\n",
        "    Y,\n",
        "    cv=folds,\n",
        "    scoring=MAE)\n",
        "print('Linear regression: ', np.mean(MAE_linear))\n",
        "MAE_1vR = cross_val_score(model_1vR,\n",
        "    train1,\n",
        "    Y,\n",
        "    cv=folds,\n",
        "    scoring=MAE)\n",
        "print('Logistic regression (one versus rest): ', np.mean(MAE_1vR))\n",
        "MAE_multi = cross_val_score(model_multi,\n",
        "    train1,\n",
        "    Y,\n",
        "    cv=folds,\n",
        "    scoring=MAE)\n",
        "print('Logistic regression (multinomial): ', np.mean(MAE_multi))\n",
        "MAE_ordinal = cross_val_score(model_ordinal,\n",
        "    train1,\n",
        "    Y,\n",
        "    cv=folds,\n",
        "    scoring=MAE)\n",
        "print('Ordered logistic regression: ', np.mean(MAE_ordinal))"
      ],
      "execution_count": 161,
      "outputs": [
        {
          "output_type": "stream",
          "text": [
            "Mean absolute error:\n",
            "Linear regression:  0.6050312087289691\n"
          ],
          "name": "stdout"
        },
        {
          "output_type": "stream",
          "text": [
            "/usr/local/lib/python3.6/dist-packages/sklearn/linear_model/logistic.py:432: FutureWarning: Default solver will be changed to 'lbfgs' in 0.22. Specify a solver to silence this warning.\n",
            "  FutureWarning)\n",
            "/usr/local/lib/python3.6/dist-packages/sklearn/linear_model/logistic.py:432: FutureWarning: Default solver will be changed to 'lbfgs' in 0.22. Specify a solver to silence this warning.\n",
            "  FutureWarning)\n",
            "/usr/local/lib/python3.6/dist-packages/sklearn/linear_model/logistic.py:432: FutureWarning: Default solver will be changed to 'lbfgs' in 0.22. Specify a solver to silence this warning.\n",
            "  FutureWarning)\n",
            "/usr/local/lib/python3.6/dist-packages/sklearn/linear_model/logistic.py:432: FutureWarning: Default solver will be changed to 'lbfgs' in 0.22. Specify a solver to silence this warning.\n",
            "  FutureWarning)\n",
            "/usr/local/lib/python3.6/dist-packages/sklearn/linear_model/logistic.py:432: FutureWarning: Default solver will be changed to 'lbfgs' in 0.22. Specify a solver to silence this warning.\n",
            "  FutureWarning)\n"
          ],
          "name": "stderr"
        },
        {
          "output_type": "stream",
          "text": [
            "Logistic regression (one versus rest):  0.548382363286625\n"
          ],
          "name": "stdout"
        },
        {
          "output_type": "stream",
          "text": [
            "/usr/local/lib/python3.6/dist-packages/sklearn/linear_model/logistic.py:947: ConvergenceWarning: lbfgs failed to converge. Increase the number of iterations.\n",
            "  \"of iterations.\", ConvergenceWarning)\n",
            "/usr/local/lib/python3.6/dist-packages/sklearn/linear_model/logistic.py:947: ConvergenceWarning: lbfgs failed to converge. Increase the number of iterations.\n",
            "  \"of iterations.\", ConvergenceWarning)\n",
            "/usr/local/lib/python3.6/dist-packages/sklearn/linear_model/logistic.py:947: ConvergenceWarning: lbfgs failed to converge. Increase the number of iterations.\n",
            "  \"of iterations.\", ConvergenceWarning)\n",
            "/usr/local/lib/python3.6/dist-packages/sklearn/linear_model/logistic.py:947: ConvergenceWarning: lbfgs failed to converge. Increase the number of iterations.\n",
            "  \"of iterations.\", ConvergenceWarning)\n",
            "/usr/local/lib/python3.6/dist-packages/sklearn/linear_model/logistic.py:947: ConvergenceWarning: lbfgs failed to converge. Increase the number of iterations.\n",
            "  \"of iterations.\", ConvergenceWarning)\n"
          ],
          "name": "stderr"
        },
        {
          "output_type": "stream",
          "text": [
            "Logistic regression (multinomial):  0.7156456952680503\n",
            "Ordered logistic regression:  0.5477352941176471\n"
          ],
          "name": "stdout"
        }
      ]
    },
    {
      "cell_type": "code",
      "metadata": {
        "id": "oDrIBnvNfnyK",
        "colab_type": "code",
        "colab": {}
      },
      "source": [
        "from sklearn.preprocessing import StandardScaler \n",
        "sc = StandardScaler() \n",
        "  \n",
        "X_train = sc.fit_transform(train1) "
      ],
      "execution_count": 0,
      "outputs": []
    },
    {
      "cell_type": "code",
      "metadata": {
        "id": "e7UxZRxLwwwx",
        "colab_type": "code",
        "colab": {
          "base_uri": "https://localhost:8080/",
          "height": 33
        },
        "outputId": "56c187da-eefa-437a-a177-0ecdd1802c81"
      },
      "source": [
        "X_train.shape\n"
      ],
      "execution_count": 163,
      "outputs": [
        {
          "output_type": "execute_result",
          "data": {
            "text/plain": [
              "(34000, 20)"
            ]
          },
          "metadata": {
            "tags": []
          },
          "execution_count": 163
        }
      ]
    },
    {
      "cell_type": "code",
      "metadata": {
        "id": "TpR8jKhHxTFb",
        "colab_type": "code",
        "colab": {}
      },
      "source": [
        " X_train"
      ],
      "execution_count": 0,
      "outputs": []
    },
    {
      "cell_type": "code",
      "metadata": {
        "id": "WjKQHi7VxX0H",
        "colab_type": "code",
        "colab": {}
      },
      "source": [
        "# Applying PCA function on training \n",
        "# and testing set of X component \n",
        "from sklearn.decomposition import PCA \n",
        "\n",
        "pca = PCA(n_components = 16) \n",
        "\n",
        "X_train = pca.fit_transform(X_train) \n",
        "\n",
        "\n",
        "explained_variance = pca.explained_variance_ratio_ \n"
      ],
      "execution_count": 0,
      "outputs": []
    },
    {
      "cell_type": "code",
      "metadata": {
        "id": "_XsoDUWc3QGB",
        "colab_type": "code",
        "colab": {
          "base_uri": "https://localhost:8080/",
          "height": 33
        },
        "outputId": "b764c73e-2e07-4d34-8abc-4805feccb167"
      },
      "source": [
        "explained_variance.shape"
      ],
      "execution_count": 165,
      "outputs": [
        {
          "output_type": "execute_result",
          "data": {
            "text/plain": [
              "(16,)"
            ]
          },
          "metadata": {
            "tags": []
          },
          "execution_count": 165
        }
      ]
    },
    {
      "cell_type": "code",
      "metadata": {
        "id": "-TDwiS8Rz7XG",
        "colab_type": "code",
        "colab": {}
      },
      "source": [
        "\n",
        "\n",
        "principalDataframe = pd.DataFrame(data = X_train, columns = ['PC1', 'PC2', 'PC3','PC4','PC5','PC6','PC7','PC8','PC9','PC10','PC11','PC12','PC13','PC14','PC15','PC16'])"
      ],
      "execution_count": 0,
      "outputs": []
    },
    {
      "cell_type": "code",
      "metadata": {
        "id": "Mtq-te9s1120",
        "colab_type": "code",
        "colab": {}
      },
      "source": [
        "targetDataframe = df[['target']]\n",
        "\n",
        "newDataframe = pd.concat([principalDataframe, targetDataframe],axis = 1)"
      ],
      "execution_count": 0,
      "outputs": []
    },
    {
      "cell_type": "code",
      "metadata": {
        "id": "_vQ2P38513AJ",
        "colab_type": "code",
        "colab": {
          "base_uri": "https://localhost:8080/",
          "height": 621
        },
        "outputId": "6e72de5d-db7b-4f57-bb97-659cf33fdfd5"
      },
      "source": [
        "percent_variance = np.round(explained_variance* 100, decimals =2)\n",
        "columns = ['PC1', 'PC2', 'PC3', 'PC4','PC5','PC6','PC7','PC8','PC9','PC10','PC11','PC12','PC13','PC14','PC15','PC16']\n",
        "plt.figure(figsize=(10,10))\n",
        "plt.bar(x= range(1,17), height=percent_variance, tick_label=columns)\n",
        "plt.ylabel('Percentage of Variance Explained')\n",
        "plt.xlabel('Principal Component')\n",
        "plt.title('PCA Scree Plot')\n",
        "plt.show()"
      ],
      "execution_count": 167,
      "outputs": [
        {
          "output_type": "display_data",
          "data": {
            "image/png": "[encoded data removed]",
            "text/plain": [
              "<Figure size 720x720 with 1 Axes>"
            ]
          },
          "metadata": {
            "tags": []
          }
        }
      ]
    },
    {
      "cell_type": "code",
      "metadata": {
        "id": "w_7cswKJyVHL",
        "colab_type": "code",
        "colab": {}
      },
      "source": [
        "# X_train==train"
      ],
      "execution_count": 0,
      "outputs": []
    },
    {
      "cell_type": "code",
      "metadata": {
        "id": "9IoUG2LgJmx3",
        "colab_type": "code",
        "colab": {
          "base_uri": "https://localhost:8080/",
          "height": 261
        },
        "outputId": "05bc38fc-4d34-4832-faf4-0bb75067a0fd"
      },
      "source": [
        "MAE = make_scorer(mean_absolute_error)\n",
        "folds = 5\n",
        "\n",
        "print('Mean absolute error:' )\n",
        "MAE_linear = cross_val_score(model_linear,\n",
        "    X_train,\n",
        "    Y,\n",
        "    cv=folds,\n",
        "    scoring=MAE)\n",
        "print('Linear regression: ', np.mean(MAE_linear))\n",
        "MAE_1vR = cross_val_score(model_1vR,\n",
        "    X_train,\n",
        "    Y,\n",
        "    cv=folds,\n",
        "    scoring=MAE)\n",
        "print('Logistic regression (one versus rest): ', np.mean(MAE_1vR))\n",
        "MAE_multi = cross_val_score(model_multi,\n",
        "    X_train,\n",
        "    Y,\n",
        "    cv=folds,\n",
        "    scoring=MAE)\n",
        "print('Logistic regression (multinomial): ', np.mean(MAE_multi))\n",
        "MAE_ordinal = cross_val_score(model_ordinal,\n",
        "    X_train,\n",
        "    Y,\n",
        "    cv=folds,\n",
        "    scoring=MAE)\n",
        "print('Ordered logistic regression: ', np.mean(MAE_ordinal))"
      ],
      "execution_count": 168,
      "outputs": [
        {
          "output_type": "stream",
          "text": [
            "Mean absolute error:\n",
            "Linear regression:  0.6053597862838705\n"
          ],
          "name": "stdout"
        },
        {
          "output_type": "stream",
          "text": [
            "/usr/local/lib/python3.6/dist-packages/sklearn/linear_model/logistic.py:432: FutureWarning: Default solver will be changed to 'lbfgs' in 0.22. Specify a solver to silence this warning.\n",
            "  FutureWarning)\n",
            "/usr/local/lib/python3.6/dist-packages/sklearn/linear_model/logistic.py:432: FutureWarning: Default solver will be changed to 'lbfgs' in 0.22. Specify a solver to silence this warning.\n",
            "  FutureWarning)\n",
            "/usr/local/lib/python3.6/dist-packages/sklearn/linear_model/logistic.py:432: FutureWarning: Default solver will be changed to 'lbfgs' in 0.22. Specify a solver to silence this warning.\n",
            "  FutureWarning)\n",
            "/usr/local/lib/python3.6/dist-packages/sklearn/linear_model/logistic.py:432: FutureWarning: Default solver will be changed to 'lbfgs' in 0.22. Specify a solver to silence this warning.\n",
            "  FutureWarning)\n",
            "/usr/local/lib/python3.6/dist-packages/sklearn/linear_model/logistic.py:432: FutureWarning: Default solver will be changed to 'lbfgs' in 0.22. Specify a solver to silence this warning.\n",
            "  FutureWarning)\n"
          ],
          "name": "stderr"
        },
        {
          "output_type": "stream",
          "text": [
            "Logistic regression (one versus rest):  0.5482351919974425\n",
            "Logistic regression (multinomial):  0.7214702022190461\n",
            "Ordered logistic regression:  0.5480588235294117\n"
          ],
          "name": "stdout"
        }
      ]
    },
    {
      "cell_type": "code",
      "metadata": {
        "id": "M8P1QhoXKgQ9",
        "colab_type": "code",
        "colab": {
          "base_uri": "https://localhost:8080/",
          "height": 131
        },
        "outputId": "ff99e080-160e-4cfc-e00a-83c2b880c5db"
      },
      "source": [
        "model_1vR.fit(train1,Y)"
      ],
      "execution_count": 169,
      "outputs": [
        {
          "output_type": "stream",
          "text": [
            "/usr/local/lib/python3.6/dist-packages/sklearn/linear_model/logistic.py:432: FutureWarning: Default solver will be changed to 'lbfgs' in 0.22. Specify a solver to silence this warning.\n",
            "  FutureWarning)\n"
          ],
          "name": "stderr"
        },
        {
          "output_type": "execute_result",
          "data": {
            "text/plain": [
              "LogisticRegression(C=1.0, class_weight='balanced', dual=False,\n",
              "                   fit_intercept=True, intercept_scaling=1, l1_ratio=None,\n",
              "                   max_iter=100, multi_class='ovr', n_jobs=None, penalty='l2',\n",
              "                   random_state=None, solver='warn', tol=0.0001, verbose=0,\n",
              "                   warm_start=False)"
            ]
          },
          "metadata": {
            "tags": []
          },
          "execution_count": 169
        }
      ]
    },
    {
      "cell_type": "code",
      "metadata": {
        "id": "FkgRDu_d8h9X",
        "colab_type": "code",
        "colab": {}
      },
      "source": [
        "# lead.iloc[:,13]"
      ],
      "execution_count": 0,
      "outputs": []
    },
    {
      "cell_type": "code",
      "metadata": {
        "id": "I2LAI-Dm6Zoq",
        "colab_type": "code",
        "colab": {}
      },
      "source": [
        "# lead.iloc[173,13]=1"
      ],
      "execution_count": 0,
      "outputs": []
    },
    {
      "cell_type": "code",
      "metadata": {
        "id": "t2pPAlfLGwMT",
        "colab_type": "code",
        "colab": {}
      },
      "source": [
        "lead.replace({'VAR14-total_cards': {'.': 1}}, inplace=True)"
      ],
      "execution_count": 0,
      "outputs": []
    },
    {
      "cell_type": "code",
      "metadata": {
        "id": "HJrYOWH7FvAp",
        "colab_type": "code",
        "colab": {
          "base_uri": "https://localhost:8080/",
          "height": 132
        },
        "outputId": "f268a4a3-44e9-451e-ad72-3338df7f1a92"
      },
      "source": [
        "# lead[lead.iloc[:,13]== '.']"
      ],
      "execution_count": 123,
      "outputs": [
        {
          "output_type": "execute_result",
          "data": {
            "text/html": [
              "<div>\n",
              "<style scoped>\n",
              "    .dataframe tbody tr th:only-of-type {\n",
              "        vertical-align: middle;\n",
              "    }\n",
              "\n",
              "    .dataframe tbody tr th {\n",
              "        vertical-align: top;\n",
              "    }\n",
              "\n",
              "    .dataframe thead th {\n",
              "        text-align: right;\n",
              "    }\n",
              "</style>\n",
              "<table border=\"1\" class=\"dataframe\">\n",
              "  <thead>\n",
              "    <tr style=\"text-align: right;\">\n",
              "      <th></th>\n",
              "      <th>VAR1-ID</th>\n",
              "      <th>VAR2-FICO</th>\n",
              "      <th>VAR3-Business Revenue</th>\n",
              "      <th>VAR4-TSR</th>\n",
              "      <th>VAR5-Last 6M Avg Util</th>\n",
              "      <th>VAR6-Income</th>\n",
              "      <th>VAR7-Last 6M Avg Remit</th>\n",
              "      <th>VAR8-Last 6M Avg Bal</th>\n",
              "      <th>VAR9-Internal Revolve</th>\n",
              "      <th>VAR10-Lending AR% in last 6M</th>\n",
              "      <th>VAR11-ExternalBalance</th>\n",
              "      <th>VAR12-Months in Business</th>\n",
              "      <th>VAR13-preferred_spend_line</th>\n",
              "      <th>VAR14-total_cards</th>\n",
              "      <th>VAR15-preferred_bal_line</th>\n",
              "      <th>VAR16-preavgremit1_3_all</th>\n",
              "      <th>VAR17-External_rev_rate</th>\n",
              "      <th>VAR18-Supplementary Cards</th>\n",
              "      <th>VAR19-isChargeCust</th>\n",
              "      <th>VAR20-CMV</th>\n",
              "      <th>VAR21-Assigned Line</th>\n",
              "    </tr>\n",
              "  </thead>\n",
              "  <tbody>\n",
              "  </tbody>\n",
              "</table>\n",
              "</div>"
            ],
            "text/plain": [
              "Empty DataFrame\n",
              "Columns: [VAR1-ID, VAR2-FICO, VAR3-Business Revenue, VAR4-TSR, VAR5-Last 6M Avg Util, VAR6-Income, VAR7-Last 6M Avg Remit, VAR8-Last 6M Avg Bal, VAR9-Internal Revolve, VAR10-Lending AR% in last 6M, VAR11-ExternalBalance, VAR12-Months in Business, VAR13-preferred_spend_line, VAR14-total_cards, VAR15-preferred_bal_line, VAR16-preavgremit1_3_all, VAR17-External_rev_rate, VAR18-Supplementary Cards, VAR19-isChargeCust, VAR20-CMV, VAR21-Assigned Line]\n",
              "Index: []"
            ]
          },
          "metadata": {
            "tags": []
          },
          "execution_count": 123
        }
      ]
    },
    {
      "cell_type": "code",
      "metadata": {
        "id": "AyyPQatEQpnM",
        "colab_type": "code",
        "colab": {
          "base_uri": "https://localhost:8080/",
          "height": 163
        },
        "outputId": "f310147e-a0fc-433c-b0f4-db43e0326fb7"
      },
      "source": [
        "lead.columns"
      ],
      "execution_count": 179,
      "outputs": [
        {
          "output_type": "execute_result",
          "data": {
            "text/plain": [
              "Index(['VAR1-ID', 'VAR2-FICO', 'VAR3-Business Revenue', 'VAR4-TSR',\n",
              "       'VAR5-Last 6M Avg Util', 'VAR6-Income', 'VAR7-Last 6M Avg Remit',\n",
              "       'VAR8-Last 6M Avg Bal', 'VAR9-Internal Revolve',\n",
              "       'VAR10-Lending AR% in last 6M', 'VAR11-ExternalBalance',\n",
              "       'VAR12-Months in Business', 'VAR13-preferred_spend_line',\n",
              "       'VAR14-total_cards', 'VAR15-preferred_bal_line',\n",
              "       'VAR16-preavgremit1_3_all', 'VAR17-External_rev_rate',\n",
              "       'VAR18-Supplementary Cards', 'VAR19-isChargeCust', 'VAR20-CMV'],\n",
              "      dtype='object')"
            ]
          },
          "metadata": {
            "tags": []
          },
          "execution_count": 179
        }
      ]
    },
    {
      "cell_type": "code",
      "metadata": {
        "id": "bUbGEROMIOIJ",
        "colab_type": "code",
        "colab": {
          "base_uri": "https://localhost:8080/",
          "height": 1000
        },
        "outputId": "d292170f-7a55-4f37-a6c2-f02f2d315e4f"
      },
      "source": [
        "lead_cols = list(lead)\n",
        "\n",
        "# Use 5 nearest rows which have a feature to fill in each row's missing features\n",
        "lead1 = pd.DataFrame(KNN(k=5).fit_transform(lead))\n",
        "lead1.columns = lead_cols"
      ],
      "execution_count": 182,
      "outputs": [
        {
          "output_type": "stream",
          "text": [
            "Imputing row 1/10000 with 1 missing, elapsed time: 22.802\n",
            "Imputing row 101/10000 with 1 missing, elapsed time: 22.828\n",
            "Imputing row 201/10000 with 2 missing, elapsed time: 22.856\n",
            "Imputing row 301/10000 with 3 missing, elapsed time: 22.884\n",
            "Imputing row 401/10000 with 7 missing, elapsed time: 22.910\n",
            "Imputing row 501/10000 with 4 missing, elapsed time: 22.937\n",
            "Imputing row 601/10000 with 3 missing, elapsed time: 22.966\n",
            "Imputing row 701/10000 with 1 missing, elapsed time: 22.993\n",
            "Imputing row 801/10000 with 2 missing, elapsed time: 23.026\n",
            "Imputing row 901/10000 with 2 missing, elapsed time: 23.054\n",
            "Imputing row 1001/10000 with 3 missing, elapsed time: 23.082\n",
            "Imputing row 1101/10000 with 3 missing, elapsed time: 23.107\n",
            "Imputing row 1201/10000 with 3 missing, elapsed time: 23.136\n",
            "Imputing row 1301/10000 with 1 missing, elapsed time: 23.163\n",
            "Imputing row 1401/10000 with 2 missing, elapsed time: 23.191\n",
            "Imputing row 1501/10000 with 2 missing, elapsed time: 23.221\n",
            "Imputing row 1601/10000 with 0 missing, elapsed time: 23.246\n",
            "Imputing row 1701/10000 with 2 missing, elapsed time: 23.271\n",
            "Imputing row 1801/10000 with 1 missing, elapsed time: 23.299\n",
            "Imputing row 1901/10000 with 6 missing, elapsed time: 23.325\n",
            "Imputing row 2001/10000 with 5 missing, elapsed time: 23.354\n",
            "Imputing row 2101/10000 with 1 missing, elapsed time: 23.380\n",
            "Imputing row 2201/10000 with 5 missing, elapsed time: 23.408\n",
            "Imputing row 2301/10000 with 1 missing, elapsed time: 23.435\n",
            "Imputing row 2401/10000 with 3 missing, elapsed time: 23.462\n",
            "Imputing row 2501/10000 with 2 missing, elapsed time: 23.491\n",
            "Imputing row 2601/10000 with 3 missing, elapsed time: 23.520\n",
            "Imputing row 2701/10000 with 1 missing, elapsed time: 23.547\n",
            "Imputing row 2801/10000 with 6 missing, elapsed time: 23.575\n",
            "Imputing row 2901/10000 with 1 missing, elapsed time: 23.602\n",
            "Imputing row 3001/10000 with 2 missing, elapsed time: 23.627\n",
            "Imputing row 3101/10000 with 3 missing, elapsed time: 23.658\n",
            "Imputing row 3201/10000 with 5 missing, elapsed time: 23.686\n",
            "Imputing row 3301/10000 with 6 missing, elapsed time: 23.711\n",
            "Imputing row 3401/10000 with 6 missing, elapsed time: 23.739\n",
            "Imputing row 3501/10000 with 2 missing, elapsed time: 23.768\n",
            "Imputing row 3601/10000 with 1 missing, elapsed time: 23.793\n",
            "Imputing row 3701/10000 with 1 missing, elapsed time: 23.820\n",
            "Imputing row 3801/10000 with 3 missing, elapsed time: 23.847\n",
            "Imputing row 3901/10000 with 1 missing, elapsed time: 23.874\n",
            "Imputing row 4001/10000 with 1 missing, elapsed time: 23.901\n",
            "Imputing row 4101/10000 with 7 missing, elapsed time: 23.929\n",
            "Imputing row 4201/10000 with 2 missing, elapsed time: 23.953\n",
            "Imputing row 4301/10000 with 4 missing, elapsed time: 23.983\n",
            "Imputing row 4401/10000 with 2 missing, elapsed time: 24.011\n",
            "Imputing row 4501/10000 with 0 missing, elapsed time: 24.036\n",
            "Imputing row 4601/10000 with 2 missing, elapsed time: 24.062\n",
            "Imputing row 4701/10000 with 2 missing, elapsed time: 24.089\n",
            "Imputing row 4801/10000 with 6 missing, elapsed time: 24.118\n",
            "Imputing row 4901/10000 with 0 missing, elapsed time: 24.144\n",
            "Imputing row 5001/10000 with 5 missing, elapsed time: 24.172\n",
            "Imputing row 5101/10000 with 1 missing, elapsed time: 24.199\n",
            "Imputing row 5201/10000 with 3 missing, elapsed time: 24.224\n",
            "Imputing row 5301/10000 with 3 missing, elapsed time: 24.251\n",
            "Imputing row 5401/10000 with 0 missing, elapsed time: 24.277\n",
            "Imputing row 5501/10000 with 2 missing, elapsed time: 24.303\n",
            "Imputing row 5601/10000 with 4 missing, elapsed time: 24.332\n",
            "Imputing row 5701/10000 with 4 missing, elapsed time: 24.358\n",
            "Imputing row 5801/10000 with 2 missing, elapsed time: 24.384\n",
            "Imputing row 5901/10000 with 3 missing, elapsed time: 24.412\n",
            "Imputing row 6001/10000 with 0 missing, elapsed time: 24.436\n",
            "Imputing row 6101/10000 with 2 missing, elapsed time: 24.460\n",
            "Imputing row 6201/10000 with 1 missing, elapsed time: 24.485\n",
            "Imputing row 6301/10000 with 4 missing, elapsed time: 24.510\n",
            "Imputing row 6401/10000 with 1 missing, elapsed time: 24.538\n",
            "Imputing row 6501/10000 with 2 missing, elapsed time: 24.564\n",
            "Imputing row 6601/10000 with 2 missing, elapsed time: 24.591\n",
            "Imputing row 6701/10000 with 3 missing, elapsed time: 24.616\n",
            "Imputing row 6801/10000 with 3 missing, elapsed time: 24.645\n",
            "Imputing row 6901/10000 with 1 missing, elapsed time: 24.670\n",
            "Imputing row 7001/10000 with 4 missing, elapsed time: 24.694\n",
            "Imputing row 7101/10000 with 4 missing, elapsed time: 24.721\n",
            "Imputing row 7201/10000 with 2 missing, elapsed time: 24.750\n",
            "Imputing row 7301/10000 with 5 missing, elapsed time: 24.777\n",
            "Imputing row 7401/10000 with 3 missing, elapsed time: 24.803\n",
            "Imputing row 7501/10000 with 1 missing, elapsed time: 24.830\n",
            "Imputing row 7601/10000 with 1 missing, elapsed time: 24.858\n",
            "Imputing row 7701/10000 with 0 missing, elapsed time: 24.884\n",
            "Imputing row 7801/10000 with 7 missing, elapsed time: 24.911\n",
            "Imputing row 7901/10000 with 0 missing, elapsed time: 24.938\n",
            "Imputing row 8001/10000 with 5 missing, elapsed time: 24.969\n",
            "Imputing row 8101/10000 with 1 missing, elapsed time: 24.999\n",
            "Imputing row 8201/10000 with 3 missing, elapsed time: 25.024\n",
            "Imputing row 8301/10000 with 2 missing, elapsed time: 25.051\n",
            "Imputing row 8401/10000 with 2 missing, elapsed time: 25.078\n",
            "Imputing row 8501/10000 with 3 missing, elapsed time: 25.104\n",
            "Imputing row 8601/10000 with 1 missing, elapsed time: 25.132\n",
            "Imputing row 8701/10000 with 3 missing, elapsed time: 25.156\n",
            "Imputing row 8801/10000 with 3 missing, elapsed time: 25.186\n",
            "Imputing row 8901/10000 with 1 missing, elapsed time: 25.215\n",
            "Imputing row 9001/10000 with 1 missing, elapsed time: 25.243\n",
            "Imputing row 9101/10000 with 3 missing, elapsed time: 25.269\n",
            "Imputing row 9201/10000 with 3 missing, elapsed time: 25.296\n",
            "Imputing row 9301/10000 with 2 missing, elapsed time: 25.325\n",
            "Imputing row 9401/10000 with 6 missing, elapsed time: 25.351\n",
            "Imputing row 9501/10000 with 4 missing, elapsed time: 25.376\n",
            "Imputing row 9601/10000 with 3 missing, elapsed time: 25.406\n",
            "Imputing row 9701/10000 with 2 missing, elapsed time: 25.433\n",
            "Imputing row 9801/10000 with 2 missing, elapsed time: 25.457\n",
            "Imputing row 9901/10000 with 7 missing, elapsed time: 25.484\n"
          ],
          "name": "stdout"
        }
      ]
    },
    {
      "cell_type": "code",
      "metadata": {
        "id": "Jl_rP8pnQK-2",
        "colab_type": "code",
        "colab": {
          "base_uri": "https://localhost:8080/",
          "height": 358
        },
        "outputId": "82c2cd51-9f00-450d-f6d9-4ba6b7bc47f8"
      },
      "source": [
        "lead1.isnull().sum()"
      ],
      "execution_count": 184,
      "outputs": [
        {
          "output_type": "execute_result",
          "data": {
            "text/plain": [
              "VAR1-ID                         0\n",
              "VAR2-FICO                       0\n",
              "VAR3-Business Revenue           0\n",
              "VAR4-TSR                        0\n",
              "VAR5-Last 6M Avg Util           0\n",
              "VAR6-Income                     0\n",
              "VAR7-Last 6M Avg Remit          0\n",
              "VAR8-Last 6M Avg Bal            0\n",
              "VAR9-Internal Revolve           0\n",
              "VAR10-Lending AR% in last 6M    0\n",
              "VAR11-ExternalBalance           0\n",
              "VAR12-Months in Business        0\n",
              "VAR13-preferred_spend_line      0\n",
              "VAR14-total_cards               0\n",
              "VAR15-preferred_bal_line        0\n",
              "VAR16-preavgremit1_3_all        0\n",
              "VAR17-External_rev_rate         0\n",
              "VAR18-Supplementary Cards       0\n",
              "VAR19-isChargeCust              0\n",
              "VAR20-CMV                       0\n",
              "dtype: int64"
            ]
          },
          "metadata": {
            "tags": []
          },
          "execution_count": 184
        }
      ]
    },
    {
      "cell_type": "code",
      "metadata": {
        "id": "kMItDNd5TMpi",
        "colab_type": "code",
        "colab": {
          "base_uri": "https://localhost:8080/",
          "height": 33
        },
        "outputId": "ecff775b-0254-4fc9-be00-c62505ba0ec6"
      },
      "source": [
        "train1.shape"
      ],
      "execution_count": 189,
      "outputs": [
        {
          "output_type": "execute_result",
          "data": {
            "text/plain": [
              "(34000, 20)"
            ]
          },
          "metadata": {
            "tags": []
          },
          "execution_count": 189
        }
      ]
    },
    {
      "cell_type": "code",
      "metadata": {
        "id": "O8VScSNuUGQ6",
        "colab_type": "code",
        "colab": {
          "base_uri": "https://localhost:8080/",
          "height": 33
        },
        "outputId": "1d7f6d6a-5c44-49e9-d77e-22cad2dfbda0"
      },
      "source": [
        "lead1.shape"
      ],
      "execution_count": 196,
      "outputs": [
        {
          "output_type": "execute_result",
          "data": {
            "text/plain": [
              "(10000, 19)"
            ]
          },
          "metadata": {
            "tags": []
          },
          "execution_count": 196
        }
      ]
    },
    {
      "cell_type": "code",
      "metadata": {
        "id": "XQfkuiGlSCOC",
        "colab_type": "code",
        "colab": {
          "base_uri": "https://localhost:8080/",
          "height": 342
        },
        "outputId": "7907bf15-9013-42be-ed13-4aabaadb84cc"
      },
      "source": [
        "lead1.max(axis=0)"
      ],
      "execution_count": 195,
      "outputs": [
        {
          "output_type": "execute_result",
          "data": {
            "text/plain": [
              "VAR2-FICO                       1000.000000\n",
              "VAR3-Business Revenue           1000.000000\n",
              "VAR4-TSR                        1000.000000\n",
              "VAR5-Last 6M Avg Util            957.849053\n",
              "VAR6-Income                      909.090818\n",
              "VAR7-Last 6M Avg Remit           224.722562\n",
              "VAR8-Last 6M Avg Bal             475.687040\n",
              "VAR9-Internal Revolve            931.742250\n",
              "VAR10-Lending AR% in last 6M      93.177335\n",
              "VAR11-ExternalBalance           1000.000000\n",
              "VAR12-Months in Business         990.825688\n",
              "VAR13-preferred_spend_line      1000.000000\n",
              "VAR14-total_cards                 20.000000\n",
              "VAR15-preferred_bal_line        1000.000000\n",
              "VAR16-preavgremit1_3_all         187.777811\n",
              "VAR17-External_rev_rate         1000.000098\n",
              "VAR18-Supplementary Cards         23.000000\n",
              "VAR19-isChargeCust                 1.000000\n",
              "VAR20-CMV                       1000.000000\n",
              "dtype: float64"
            ]
          },
          "metadata": {
            "tags": []
          },
          "execution_count": 195
        }
      ]
    },
    {
      "cell_type": "code",
      "metadata": {
        "id": "MmhEnpGWTUAU",
        "colab_type": "code",
        "colab": {}
      },
      "source": [
        "lead1.drop('VAR1-ID', inplace=True, axis =1)"
      ],
      "execution_count": 0,
      "outputs": []
    },
    {
      "cell_type": "code",
      "metadata": {
        "id": "Ksg2tE2NLGQY",
        "colab_type": "code",
        "colab": {}
      },
      "source": [
        "y_pred1 = model_1vR.predict(lead1) \n"
      ],
      "execution_count": 0,
      "outputs": []
    },
    {
      "cell_type": "code",
      "metadata": {
        "id": "P6eCtGERPMYd",
        "colab_type": "code",
        "colab": {}
      },
      "source": [
        "y_pred1"
      ],
      "execution_count": 0,
      "outputs": []
    },
    {
      "cell_type": "code",
      "metadata": {
        "id": "mkLGG4WzPQQq",
        "colab_type": "code",
        "colab": {}
      },
      "source": [
        "Pred_Logit=pd.DataFrame(y_pred1, columns=['Predn'])\n"
      ],
      "execution_count": 0,
      "outputs": []
    },
    {
      "cell_type": "code",
      "metadata": {
        "id": "DSeVL1DYPgHP",
        "colab_type": "code",
        "colab": {}
      },
      "source": [
        "print(Pred_Logit)"
      ],
      "execution_count": 0,
      "outputs": []
    },
    {
      "cell_type": "code",
      "metadata": {
        "id": "H4_gyiaBVGjb",
        "colab_type": "code",
        "colab": {
          "base_uri": "https://localhost:8080/",
          "height": 33
        },
        "outputId": "ae67d70e-3750-4202-9f23-d092f4bb5214"
      },
      "source": [
        "list(Pred_Logit)"
      ],
      "execution_count": 202,
      "outputs": [
        {
          "output_type": "execute_result",
          "data": {
            "text/plain": [
              "['Predn']"
            ]
          },
          "metadata": {
            "tags": []
          },
          "execution_count": 202
        }
      ]
    },
    {
      "cell_type": "code",
      "metadata": {
        "id": "7UjSd2tmSb9c",
        "colab_type": "code",
        "colab": {
          "base_uri": "https://localhost:8080/",
          "height": 33
        },
        "outputId": "24193465-d8b0-406a-d98d-20c65ac6c6fe"
      },
      "source": [
        "model_ordinal.fit(train1,Y)"
      ],
      "execution_count": 203,
      "outputs": [
        {
          "output_type": "execute_result",
          "data": {
            "text/plain": [
              "LogisticAT(alpha=0, max_iter=1000, verbose=0)"
            ]
          },
          "metadata": {
            "tags": []
          },
          "execution_count": 203
        }
      ]
    },
    {
      "cell_type": "code",
      "metadata": {
        "id": "UzaRGeg1SgOi",
        "colab_type": "code",
        "colab": {}
      },
      "source": [
        "y_pred2 = model_ordinal.predict(lead1) "
      ],
      "execution_count": 0,
      "outputs": []
    },
    {
      "cell_type": "code",
      "metadata": {
        "id": "beNFMhbPS5Ke",
        "colab_type": "code",
        "colab": {
          "base_uri": "https://localhost:8080/",
          "height": 33
        },
        "outputId": "5416cdb0-c6ec-4f1a-96b1-dcc05f0bd5f8"
      },
      "source": [
        "y_pred2"
      ],
      "execution_count": 99,
      "outputs": [
        {
          "output_type": "execute_result",
          "data": {
            "text/plain": [
              "array([1, 2, 2, ..., 2, 1, 2])"
            ]
          },
          "metadata": {
            "tags": []
          },
          "execution_count": 99
        }
      ]
    },
    {
      "cell_type": "code",
      "metadata": {
        "id": "vfnGUdzVSpE7",
        "colab_type": "code",
        "colab": {}
      },
      "source": [
        "Pred_OLogit=pd.DataFrame(y_pred2, columns=['Predn'])"
      ],
      "execution_count": 0,
      "outputs": []
    },
    {
      "cell_type": "code",
      "metadata": {
        "id": "ZFJVk8ibU7uB",
        "colab_type": "code",
        "colab": {}
      },
      "source": [
        "new_asn = {'Predn':     {2: 'Medium', 1: 'Low', 0: 'High'  }}"
      ],
      "execution_count": 0,
      "outputs": []
    },
    {
      "cell_type": "code",
      "metadata": {
        "id": "i4QeHYpPU6G2",
        "colab_type": "code",
        "colab": {}
      },
      "source": [
        "Pred_Logit.replace(new_asn, inplace=True)"
      ],
      "execution_count": 0,
      "outputs": []
    },
    {
      "cell_type": "code",
      "metadata": {
        "id": "BNy9HgemXD1Y",
        "colab_type": "code",
        "colab": {}
      },
      "source": [
        "Pred_OLogit.replace(new_asn, inplace=True)"
      ],
      "execution_count": 0,
      "outputs": []
    },
    {
      "cell_type": "code",
      "metadata": {
        "id": "jyDgq_vrXX_z",
        "colab_type": "code",
        "colab": {
          "base_uri": "https://localhost:8080/",
          "height": 191
        },
        "outputId": "bdbe781b-4c8a-4f07-ebc0-270556cf7654"
      },
      "source": [
        "Pred_Logit.head()"
      ],
      "execution_count": 217,
      "outputs": [
        {
          "output_type": "execute_result",
          "data": {
            "text/html": [
              "<div>\n",
              "<style scoped>\n",
              "    .dataframe tbody tr th:only-of-type {\n",
              "        vertical-align: middle;\n",
              "    }\n",
              "\n",
              "    .dataframe tbody tr th {\n",
              "        vertical-align: top;\n",
              "    }\n",
              "\n",
              "    .dataframe thead th {\n",
              "        text-align: right;\n",
              "    }\n",
              "</style>\n",
              "<table border=\"1\" class=\"dataframe\">\n",
              "  <thead>\n",
              "    <tr style=\"text-align: right;\">\n",
              "      <th></th>\n",
              "      <th>Predn</th>\n",
              "    </tr>\n",
              "  </thead>\n",
              "  <tbody>\n",
              "    <tr>\n",
              "      <th>0</th>\n",
              "      <td>1</td>\n",
              "    </tr>\n",
              "    <tr>\n",
              "      <th>1</th>\n",
              "      <td>1</td>\n",
              "    </tr>\n",
              "    <tr>\n",
              "      <th>2</th>\n",
              "      <td>2</td>\n",
              "    </tr>\n",
              "    <tr>\n",
              "      <th>3</th>\n",
              "      <td>1</td>\n",
              "    </tr>\n",
              "    <tr>\n",
              "      <th>4</th>\n",
              "      <td>2</td>\n",
              "    </tr>\n",
              "  </tbody>\n",
              "</table>\n",
              "</div>"
            ],
            "text/plain": [
              "   Predn\n",
              "0      1\n",
              "1      1\n",
              "2      2\n",
              "3      1\n",
              "4      2"
            ]
          },
          "metadata": {
            "tags": []
          },
          "execution_count": 217
        }
      ]
    },
    {
      "cell_type": "code",
      "metadata": {
        "id": "65C3xNu-PnSo",
        "colab_type": "code",
        "colab": {}
      },
      "source": [
        "Pred_Logit.to_csv('/content/gdrive/My Drive/data/Amex/Pred_Logit1va.csv')"
      ],
      "execution_count": 0,
      "outputs": []
    },
    {
      "cell_type": "code",
      "metadata": {
        "id": "vDYTQgzHSyKc",
        "colab_type": "code",
        "colab": {}
      },
      "source": [
        "Pred_OLogit.to_csv('/content/gdrive/My Drive/data/Amex/Pred_OLogit.csv')"
      ],
      "execution_count": 0,
      "outputs": []
    },
    {
      "cell_type": "code",
      "metadata": {
        "id": "S87j5izALb7L",
        "colab_type": "code",
        "colab": {}
      },
      "source": [
        "# from sklearn.metrics import confusion_matrix \n",
        "\n",
        "# cm = confusion_matrix(Y,y_pred1) \n",
        "# cm"
      ],
      "execution_count": 0,
      "outputs": []
    },
    {
      "cell_type": "code",
      "metadata": {
        "id": "m6VfHw64S-HB",
        "colab_type": "code",
        "colab": {
          "base_uri": "https://localhost:8080/",
          "height": 66
        },
        "outputId": "be4bdcf8-593f-4aa1-fad4-b678bbcb2050"
      },
      "source": [
        "# cm2 = confusion_matrix(Y,y_pred2) \n",
        "# cm2"
      ],
      "execution_count": 100,
      "outputs": [
        {
          "output_type": "execute_result",
          "data": {
            "text/plain": [
              "array([[    1,  1014,  2732],\n",
              "       [    5,  3792,  8284],\n",
              "       [    1,  3825, 14346]])"
            ]
          },
          "metadata": {
            "tags": []
          },
          "execution_count": 100
        }
      ]
    },
    {
      "cell_type": "code",
      "metadata": {
        "id": "0jfvCuP4oV0d",
        "colab_type": "code",
        "colab": {
          "base_uri": "https://localhost:8080/",
          "height": 163
        },
        "outputId": "e29e1371-757a-4b48-ca62-258c034ba02e"
      },
      "source": [
        "# Fitting Logistic Regression To the training set \n",
        "from sklearn.linear_model import LogisticRegression \n",
        "\n",
        "classifier = LogisticRegression(random_state = 0) \n",
        "classifier.fit(X_train, Y) \n"
      ],
      "execution_count": 53,
      "outputs": [
        {
          "output_type": "stream",
          "text": [
            "/usr/local/lib/python3.6/dist-packages/sklearn/linear_model/logistic.py:432: FutureWarning: Default solver will be changed to 'lbfgs' in 0.22. Specify a solver to silence this warning.\n",
            "  FutureWarning)\n",
            "/usr/local/lib/python3.6/dist-packages/sklearn/linear_model/logistic.py:469: FutureWarning: Default multi_class will be changed to 'auto' in 0.22. Specify the multi_class option to silence this warning.\n",
            "  \"this warning.\", FutureWarning)\n"
          ],
          "name": "stderr"
        },
        {
          "output_type": "execute_result",
          "data": {
            "text/plain": [
              "LogisticRegression(C=1.0, class_weight=None, dual=False, fit_intercept=True,\n",
              "                   intercept_scaling=1, l1_ratio=None, max_iter=100,\n",
              "                   multi_class='warn', n_jobs=None, penalty='l2',\n",
              "                   random_state=0, solver='warn', tol=0.0001, verbose=0,\n",
              "                   warm_start=False)"
            ]
          },
          "metadata": {
            "tags": []
          },
          "execution_count": 53
        }
      ]
    },
    {
      "cell_type": "code",
      "metadata": {
        "id": "Sxb-cWjILasb",
        "colab_type": "code",
        "colab": {}
      },
      "source": [
        ""
      ],
      "execution_count": 0,
      "outputs": []
    },
    {
      "cell_type": "code",
      "metadata": {
        "id": "Y33A-jF6q90f",
        "colab_type": "code",
        "colab": {}
      },
      "source": [
        "# Predicting the test set result using \n",
        "# predict function under LogisticRegression \n",
        "# y_pred = classifier.predict(X_train) \n"
      ],
      "execution_count": 0,
      "outputs": []
    },
    {
      "cell_type": "code",
      "metadata": {
        "id": "qjmoJWBRrrph",
        "colab_type": "code",
        "colab": {}
      },
      "source": [
        "# making confusion matrix between \n",
        "# test set of Y and predicted value.  \n",
        "\n",
        "# cm = confusion_matrix(Y,y_pred) \n"
      ],
      "execution_count": 0,
      "outputs": []
    },
    {
      "cell_type": "code",
      "metadata": {
        "id": "5pKO0go2I7e3",
        "colab_type": "code",
        "colab": {
          "base_uri": "https://localhost:8080/",
          "height": 66
        },
        "outputId": "e442232a-8174-40b2-fb83-b8f4bc7086d8"
      },
      "source": [
        "# cm"
      ],
      "execution_count": 59,
      "outputs": [
        {
          "output_type": "execute_result",
          "data": {
            "text/plain": [
              "array([[    1,   428,  3318],\n",
              "       [    2,  2329,  9750],\n",
              "       [    0,  1775, 16397]])"
            ]
          },
          "metadata": {
            "tags": []
          },
          "execution_count": 59
        }
      ]
    },
    {
      "cell_type": "code",
      "metadata": {
        "id": "OSna7mlaq_lW",
        "colab_type": "code",
        "colab": {}
      },
      "source": [
        ""
      ],
      "execution_count": 0,
      "outputs": []
    },
    {
      "cell_type": "code",
      "metadata": {
        "id": "avkMO4V-kgaG",
        "colab_type": "code",
        "colab": {}
      },
      "source": [
        ""
      ],
      "execution_count": 0,
      "outputs": []
    }
  ]
}
