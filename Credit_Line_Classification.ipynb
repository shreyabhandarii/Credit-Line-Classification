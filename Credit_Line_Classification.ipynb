{
  "nbformat": 4,
  "nbformat_minor": 0,
  "metadata": {
    "colab": {
      "name": "Credit Line Classification.ipynb",
      "provenance": [],
      "collapsed_sections": [
        "G-5g7GT90tph",
        "XHathjpL1xYn",
        "YtNOmO6M4iwE",
        "TNfXinr2XqJc",
        "dZ9nP81ZZ6hV",
        "XOaUu-KYcFH4",
        "uTgRNRGBhmSy",
        "qs-cCdD_iKMz",
        "bd_8pynLi_J2",
        "L0lQ7YH-jQJe",
        "t1kZYySRkRRg",
        "1gJb9nzhoylm"
      ]
    },
    "kernelspec": {
      "name": "python3",
      "display_name": "Python 3"
    }
  },
  "cells": [
    {
      "cell_type": "code",
      "metadata": {
        "id": "JPHprTOf9BeU",
        "colab_type": "code",
        "outputId": "ff127e66-7b58-47b7-eb90-6ebe37afdfc4",
        "colab": {
          "base_uri": "https://localhost:8080/",
          "height": 34
        }
      },
      "source": [
        "from google.colab import drive\n",
        "drive.mount('/content/drive')"
      ],
      "execution_count": 0,
      "outputs": [
        {
          "output_type": "stream",
          "text": [
            "Drive already mounted at /content/drive; to attempt to forcibly remount, call drive.mount(\"/content/drive\", force_remount=True).\n"
          ],
          "name": "stdout"
        }
      ]
    },
    {
      "cell_type": "code",
      "metadata": {
        "id": "c_zeIdP19mFO",
        "colab_type": "code",
        "colab": {}
      },
      "source": [
        "import pandas as pd\n",
        "import numpy as np \n",
        "import matplotlib.pyplot as plt\n",
        "import seaborn as sns"
      ],
      "execution_count": 0,
      "outputs": []
    },
    {
      "cell_type": "code",
      "metadata": {
        "id": "ZI6q_ZVyhb3m",
        "colab_type": "code",
        "outputId": "9a8bb021-5dc0-4a3f-b309-c8a8ffb22211",
        "colab": {
          "base_uri": "https://localhost:8080/",
          "height": 700
        }
      },
      "source": [
        "id = pd.read_excel('/content/drive/My Drive/Credit-Line-Classification-master/Data_Dictionary (1).xlsx')\n",
        "\n",
        "id.head(21)"
      ],
      "execution_count": 0,
      "outputs": [
        {
          "output_type": "execute_result",
          "data": {
            "text/html": [
              "<div>\n",
              "<style scoped>\n",
              "    .dataframe tbody tr th:only-of-type {\n",
              "        vertical-align: middle;\n",
              "    }\n",
              "\n",
              "    .dataframe tbody tr th {\n",
              "        vertical-align: top;\n",
              "    }\n",
              "\n",
              "    .dataframe thead th {\n",
              "        text-align: right;\n",
              "    }\n",
              "</style>\n",
              "<table border=\"1\" class=\"dataframe\">\n",
              "  <thead>\n",
              "    <tr style=\"text-align: right;\">\n",
              "      <th></th>\n",
              "      <th>Unnamed: 0</th>\n",
              "      <th>Variable Name</th>\n",
              "      <th>Definition</th>\n",
              "    </tr>\n",
              "  </thead>\n",
              "  <tbody>\n",
              "    <tr>\n",
              "      <th>0</th>\n",
              "      <td>VAR1</td>\n",
              "      <td>ID</td>\n",
              "      <td>The identifier for the account</td>\n",
              "    </tr>\n",
              "    <tr>\n",
              "      <th>1</th>\n",
              "      <td>VAR2</td>\n",
              "      <td>FICO</td>\n",
              "      <td>Credit score associated with account. Takes in...</td>\n",
              "    </tr>\n",
              "    <tr>\n",
              "      <th>2</th>\n",
              "      <td>VAR3</td>\n",
              "      <td>Business Revenue</td>\n",
              "      <td>Reported annual business revenue</td>\n",
              "    </tr>\n",
              "    <tr>\n",
              "      <th>3</th>\n",
              "      <td>VAR4</td>\n",
              "      <td>TSR</td>\n",
              "      <td>Risk score associated with probability of defa...</td>\n",
              "    </tr>\n",
              "    <tr>\n",
              "      <th>4</th>\n",
              "      <td>VAR5</td>\n",
              "      <td>Last 6M Avg Util</td>\n",
              "      <td>Average utilization of credit line in the last...</td>\n",
              "    </tr>\n",
              "    <tr>\n",
              "      <th>5</th>\n",
              "      <td>VAR6</td>\n",
              "      <td>Income</td>\n",
              "      <td>Reported annual business income</td>\n",
              "    </tr>\n",
              "    <tr>\n",
              "      <th>6</th>\n",
              "      <td>VAR7</td>\n",
              "      <td>Last 6M Avg Remit</td>\n",
              "      <td>Average amount paid towards card bills in the ...</td>\n",
              "    </tr>\n",
              "    <tr>\n",
              "      <th>7</th>\n",
              "      <td>VAR8</td>\n",
              "      <td>Last 6M Avg Bal</td>\n",
              "      <td>Average balance on each card in the last 6 months</td>\n",
              "    </tr>\n",
              "    <tr>\n",
              "      <th>8</th>\n",
              "      <td>VAR9</td>\n",
              "      <td>Internal Revolve</td>\n",
              "      <td>The average daily balance as a percentage of c...</td>\n",
              "    </tr>\n",
              "    <tr>\n",
              "      <th>9</th>\n",
              "      <td>VAR10</td>\n",
              "      <td>Lending AR% in last 6M</td>\n",
              "      <td>Percentage of internal balance (with XYZEE) on...</td>\n",
              "    </tr>\n",
              "    <tr>\n",
              "      <th>10</th>\n",
              "      <td>VAR11</td>\n",
              "      <td>ExternalBalance</td>\n",
              "      <td>Total balance on external cards</td>\n",
              "    </tr>\n",
              "    <tr>\n",
              "      <th>11</th>\n",
              "      <td>VAR12</td>\n",
              "      <td>Months in Business</td>\n",
              "      <td>Total number of months the entity has been in ...</td>\n",
              "    </tr>\n",
              "    <tr>\n",
              "      <th>12</th>\n",
              "      <td>VAR13</td>\n",
              "      <td>preferred_spend_line</td>\n",
              "      <td>The credit line on external card with maximum ...</td>\n",
              "    </tr>\n",
              "    <tr>\n",
              "      <th>13</th>\n",
              "      <td>VAR14</td>\n",
              "      <td>total_cards</td>\n",
              "      <td>Number of accounts with XYZEE associated with ...</td>\n",
              "    </tr>\n",
              "    <tr>\n",
              "      <th>14</th>\n",
              "      <td>VAR15</td>\n",
              "      <td>preferred_bal_line</td>\n",
              "      <td>The credit line on external card with maximum ...</td>\n",
              "    </tr>\n",
              "    <tr>\n",
              "      <th>15</th>\n",
              "      <td>VAR16</td>\n",
              "      <td>preavgremit1_3_all</td>\n",
              "      <td>Average amount paid towards card bills in the ...</td>\n",
              "    </tr>\n",
              "    <tr>\n",
              "      <th>16</th>\n",
              "      <td>VAR17</td>\n",
              "      <td>External_rev_rate</td>\n",
              "      <td>The average daily balance as a percentage of c...</td>\n",
              "    </tr>\n",
              "    <tr>\n",
              "      <th>17</th>\n",
              "      <td>VAR18</td>\n",
              "      <td>Supplementary Cards</td>\n",
              "      <td>Number of supplementary cards issued on the sa...</td>\n",
              "    </tr>\n",
              "    <tr>\n",
              "      <th>18</th>\n",
              "      <td>VAR19</td>\n",
              "      <td>isChargeCust</td>\n",
              "      <td>Indicator saying whether the customer also has...</td>\n",
              "    </tr>\n",
              "    <tr>\n",
              "      <th>19</th>\n",
              "      <td>VAR20</td>\n",
              "      <td>CMV</td>\n",
              "      <td>This is the lifetime value associated with eac...</td>\n",
              "    </tr>\n",
              "    <tr>\n",
              "      <th>20</th>\n",
              "      <td>VAR21</td>\n",
              "      <td>Assigned Line</td>\n",
              "      <td>This is the segment of credit line provided to...</td>\n",
              "    </tr>\n",
              "  </tbody>\n",
              "</table>\n",
              "</div>"
            ],
            "text/plain": [
              "   Unnamed: 0  ...                                         Definition\n",
              "0        VAR1  ...                     The identifier for the account\n",
              "1        VAR2  ...  Credit score associated with account. Takes in...\n",
              "2        VAR3  ...                   Reported annual business revenue\n",
              "3        VAR4  ...  Risk score associated with probability of defa...\n",
              "4        VAR5  ...  Average utilization of credit line in the last...\n",
              "5        VAR6  ...                    Reported annual business income\n",
              "6        VAR7  ...  Average amount paid towards card bills in the ...\n",
              "7        VAR8  ...  Average balance on each card in the last 6 months\n",
              "8        VAR9  ...  The average daily balance as a percentage of c...\n",
              "9       VAR10  ...  Percentage of internal balance (with XYZEE) on...\n",
              "10      VAR11  ...                    Total balance on external cards\n",
              "11      VAR12  ...  Total number of months the entity has been in ...\n",
              "12      VAR13  ...  The credit line on external card with maximum ...\n",
              "13      VAR14  ...  Number of accounts with XYZEE associated with ...\n",
              "14      VAR15  ...  The credit line on external card with maximum ...\n",
              "15      VAR16  ...  Average amount paid towards card bills in the ...\n",
              "16      VAR17  ...  The average daily balance as a percentage of c...\n",
              "17      VAR18  ...  Number of supplementary cards issued on the sa...\n",
              "18      VAR19  ...  Indicator saying whether the customer also has...\n",
              "19      VAR20  ...  This is the lifetime value associated with eac...\n",
              "20      VAR21  ...  This is the segment of credit line provided to...\n",
              "\n",
              "[21 rows x 3 columns]"
            ]
          },
          "metadata": {
            "tags": []
          },
          "execution_count": 3
        }
      ]
    },
    {
      "cell_type": "code",
      "metadata": {
        "id": "nrcQswtnhb0J",
        "colab_type": "code",
        "colab": {}
      },
      "source": [
        "id['names'] = id['Unnamed: 0'].str.cat(id['Variable Name'], sep='-')"
      ],
      "execution_count": 0,
      "outputs": []
    },
    {
      "cell_type": "code",
      "metadata": {
        "id": "FnRI7ULThbrB",
        "colab_type": "code",
        "colab": {}
      },
      "source": [
        "names = list(id['names'])\n",
        "names1 = list(id['names'])[0:20]"
      ],
      "execution_count": 0,
      "outputs": []
    },
    {
      "cell_type": "code",
      "metadata": {
        "id": "GpvuMzzr_mEb",
        "colab_type": "code",
        "colab": {}
      },
      "source": [
        "missing_values = ['.']\n",
        "df = pd.read_csv('/content/drive/My Drive/Credit-Line-Classification-master/development_dataset.csv', index_col='VAR1', na_values=missing_values)"
      ],
      "execution_count": 0,
      "outputs": []
    },
    {
      "cell_type": "code",
      "metadata": {
        "id": "zi5ORGsU_prM",
        "colab_type": "code",
        "outputId": "e10f7676-da8e-440b-f84b-dcbf8371d505",
        "colab": {
          "base_uri": "https://localhost:8080/",
          "height": 255
        }
      },
      "source": [
        "df.head()"
      ],
      "execution_count": 0,
      "outputs": [
        {
          "output_type": "execute_result",
          "data": {
            "text/html": [
              "<div>\n",
              "<style scoped>\n",
              "    .dataframe tbody tr th:only-of-type {\n",
              "        vertical-align: middle;\n",
              "    }\n",
              "\n",
              "    .dataframe tbody tr th {\n",
              "        vertical-align: top;\n",
              "    }\n",
              "\n",
              "    .dataframe thead th {\n",
              "        text-align: right;\n",
              "    }\n",
              "</style>\n",
              "<table border=\"1\" class=\"dataframe\">\n",
              "  <thead>\n",
              "    <tr style=\"text-align: right;\">\n",
              "      <th></th>\n",
              "      <th>VAR2</th>\n",
              "      <th>VAR3</th>\n",
              "      <th>VAR4</th>\n",
              "      <th>VAR5</th>\n",
              "      <th>VAR6</th>\n",
              "      <th>VAR7</th>\n",
              "      <th>VAR8</th>\n",
              "      <th>VAR9</th>\n",
              "      <th>VAR10</th>\n",
              "      <th>VAR11</th>\n",
              "      <th>VAR12</th>\n",
              "      <th>VAR13</th>\n",
              "      <th>VAR14</th>\n",
              "      <th>VAR15</th>\n",
              "      <th>VAR16</th>\n",
              "      <th>VAR17</th>\n",
              "      <th>VAR18</th>\n",
              "      <th>VAR19</th>\n",
              "      <th>VAR20</th>\n",
              "      <th>VAR21</th>\n",
              "    </tr>\n",
              "    <tr>\n",
              "      <th>VAR1</th>\n",
              "      <th></th>\n",
              "      <th></th>\n",
              "      <th></th>\n",
              "      <th></th>\n",
              "      <th></th>\n",
              "      <th></th>\n",
              "      <th></th>\n",
              "      <th></th>\n",
              "      <th></th>\n",
              "      <th></th>\n",
              "      <th></th>\n",
              "      <th></th>\n",
              "      <th></th>\n",
              "      <th></th>\n",
              "      <th></th>\n",
              "      <th></th>\n",
              "      <th></th>\n",
              "      <th></th>\n",
              "      <th></th>\n",
              "      <th></th>\n",
              "    </tr>\n",
              "  </thead>\n",
              "  <tbody>\n",
              "    <tr>\n",
              "      <th>1</th>\n",
              "      <td>828.235294</td>\n",
              "      <td>0.138889</td>\n",
              "      <td>321.428571</td>\n",
              "      <td>625.911006</td>\n",
              "      <td>1.818182</td>\n",
              "      <td>1.081550</td>\n",
              "      <td>198.113469</td>\n",
              "      <td>NaN</td>\n",
              "      <td>58.632548</td>\n",
              "      <td>0.279273</td>\n",
              "      <td>100.083403</td>\n",
              "      <td>1.0</td>\n",
              "      <td>1.0</td>\n",
              "      <td>1.0</td>\n",
              "      <td>1.540594</td>\n",
              "      <td>NaN</td>\n",
              "      <td>1</td>\n",
              "      <td>0</td>\n",
              "      <td>100.104991</td>\n",
              "      <td>Low</td>\n",
              "    </tr>\n",
              "    <tr>\n",
              "      <th>2</th>\n",
              "      <td>911.764706</td>\n",
              "      <td>0.027778</td>\n",
              "      <td>NaN</td>\n",
              "      <td>611.574748</td>\n",
              "      <td>8.181818</td>\n",
              "      <td>1.344479</td>\n",
              "      <td>198.600020</td>\n",
              "      <td>22.086661</td>\n",
              "      <td>NaN</td>\n",
              "      <td>NaN</td>\n",
              "      <td>15.012510</td>\n",
              "      <td>NaN</td>\n",
              "      <td>1.0</td>\n",
              "      <td>NaN</td>\n",
              "      <td>1.614613</td>\n",
              "      <td>NaN</td>\n",
              "      <td>0</td>\n",
              "      <td>1</td>\n",
              "      <td>146.654045</td>\n",
              "      <td>High</td>\n",
              "    </tr>\n",
              "    <tr>\n",
              "      <th>3</th>\n",
              "      <td>962.352941</td>\n",
              "      <td>0.833333</td>\n",
              "      <td>35.714286</td>\n",
              "      <td>615.825381</td>\n",
              "      <td>8.181818</td>\n",
              "      <td>0.720796</td>\n",
              "      <td>197.267767</td>\n",
              "      <td>NaN</td>\n",
              "      <td>58.632548</td>\n",
              "      <td>0.453212</td>\n",
              "      <td>210.175146</td>\n",
              "      <td>10.0</td>\n",
              "      <td>1.0</td>\n",
              "      <td>10.0</td>\n",
              "      <td>1.044599</td>\n",
              "      <td>NaN</td>\n",
              "      <td>0</td>\n",
              "      <td>0</td>\n",
              "      <td>98.249570</td>\n",
              "      <td>Medium</td>\n",
              "    </tr>\n",
              "    <tr>\n",
              "      <th>4</th>\n",
              "      <td>892.941177</td>\n",
              "      <td>NaN</td>\n",
              "      <td>NaN</td>\n",
              "      <td>638.076431</td>\n",
              "      <td>9.090909</td>\n",
              "      <td>0.820218</td>\n",
              "      <td>197.355744</td>\n",
              "      <td>4.363431</td>\n",
              "      <td>58.632548</td>\n",
              "      <td>NaN</td>\n",
              "      <td>NaN</td>\n",
              "      <td>NaN</td>\n",
              "      <td>1.0</td>\n",
              "      <td>NaN</td>\n",
              "      <td>1.145729</td>\n",
              "      <td>NaN</td>\n",
              "      <td>1</td>\n",
              "      <td>0</td>\n",
              "      <td>140.862306</td>\n",
              "      <td>Low</td>\n",
              "    </tr>\n",
              "    <tr>\n",
              "      <th>5</th>\n",
              "      <td>914.117647</td>\n",
              "      <td>0.083333</td>\n",
              "      <td>NaN</td>\n",
              "      <td>626.514988</td>\n",
              "      <td>5.181818</td>\n",
              "      <td>1.372928</td>\n",
              "      <td>198.790477</td>\n",
              "      <td>85.938202</td>\n",
              "      <td>58.632548</td>\n",
              "      <td>NaN</td>\n",
              "      <td>210.175146</td>\n",
              "      <td>NaN</td>\n",
              "      <td>NaN</td>\n",
              "      <td>NaN</td>\n",
              "      <td>1.558341</td>\n",
              "      <td>NaN</td>\n",
              "      <td>1</td>\n",
              "      <td>0</td>\n",
              "      <td>101.268503</td>\n",
              "      <td>High</td>\n",
              "    </tr>\n",
              "  </tbody>\n",
              "</table>\n",
              "</div>"
            ],
            "text/plain": [
              "            VAR2      VAR3        VAR4  ...  VAR19       VAR20   VAR21\n",
              "VAR1                                    ...                           \n",
              "1     828.235294  0.138889  321.428571  ...      0  100.104991     Low\n",
              "2     911.764706  0.027778         NaN  ...      1  146.654045    High\n",
              "3     962.352941  0.833333   35.714286  ...      0   98.249570  Medium\n",
              "4     892.941177       NaN         NaN  ...      0  140.862306     Low\n",
              "5     914.117647  0.083333         NaN  ...      0  101.268503    High\n",
              "\n",
              "[5 rows x 20 columns]"
            ]
          },
          "metadata": {
            "tags": []
          },
          "execution_count": 7
        }
      ]
    },
    {
      "cell_type": "code",
      "metadata": {
        "id": "uwjDSNRsAefi",
        "colab_type": "code",
        "outputId": "3f484276-1a79-4d7a-867a-d477ea21217c",
        "colab": {
          "base_uri": "https://localhost:8080/",
          "height": 442
        }
      },
      "source": [
        "df.info()"
      ],
      "execution_count": 0,
      "outputs": [
        {
          "output_type": "stream",
          "text": [
            "<class 'pandas.core.frame.DataFrame'>\n",
            "Int64Index: 34000 entries, 1 to 34000\n",
            "Data columns (total 20 columns):\n",
            "VAR2     33039 non-null float64\n",
            "VAR3     30615 non-null float64\n",
            "VAR4     21506 non-null float64\n",
            "VAR5     33999 non-null float64\n",
            "VAR6     30505 non-null float64\n",
            "VAR7     33165 non-null float64\n",
            "VAR8     33165 non-null float64\n",
            "VAR9     18183 non-null float64\n",
            "VAR10    29450 non-null float64\n",
            "VAR11    26435 non-null float64\n",
            "VAR12    23498 non-null float64\n",
            "VAR13    25478 non-null float64\n",
            "VAR14    33727 non-null float64\n",
            "VAR15    25976 non-null float64\n",
            "VAR16    33134 non-null float64\n",
            "VAR17    11806 non-null float64\n",
            "VAR18    34000 non-null int64\n",
            "VAR19    34000 non-null int64\n",
            "VAR20    34000 non-null float64\n",
            "VAR21    34000 non-null object\n",
            "dtypes: float64(17), int64(2), object(1)\n",
            "memory usage: 5.4+ MB\n"
          ],
          "name": "stdout"
        }
      ]
    },
    {
      "cell_type": "code",
      "metadata": {
        "id": "xFY4Ow5wFERL",
        "colab_type": "code",
        "outputId": "690dbb6d-afd5-4188-e142-309bf4aadf55",
        "colab": {
          "base_uri": "https://localhost:8080/",
          "height": 374
        }
      },
      "source": [
        "df.isnull().sum()"
      ],
      "execution_count": 0,
      "outputs": [
        {
          "output_type": "execute_result",
          "data": {
            "text/plain": [
              "VAR2       961\n",
              "VAR3      3385\n",
              "VAR4     12494\n",
              "VAR5         1\n",
              "VAR6      3495\n",
              "VAR7       835\n",
              "VAR8       835\n",
              "VAR9     15817\n",
              "VAR10     4550\n",
              "VAR11     7565\n",
              "VAR12    10502\n",
              "VAR13     8522\n",
              "VAR14      273\n",
              "VAR15     8024\n",
              "VAR16      866\n",
              "VAR17    22194\n",
              "VAR18        0\n",
              "VAR19        0\n",
              "VAR20        0\n",
              "VAR21        0\n",
              "dtype: int64"
            ]
          },
          "metadata": {
            "tags": []
          },
          "execution_count": 9
        }
      ]
    },
    {
      "cell_type": "code",
      "metadata": {
        "id": "vk4EixCzPJ_2",
        "colab_type": "code",
        "colab": {}
      },
      "source": [
        "X = df.drop('VAR21', axis=1)\n",
        "y = df['VAR21']"
      ],
      "execution_count": 0,
      "outputs": []
    },
    {
      "cell_type": "code",
      "metadata": {
        "id": "KxjIzQ7mkFwQ",
        "colab_type": "code",
        "colab": {}
      },
      "source": [
        "X = X.astype(float)"
      ],
      "execution_count": 0,
      "outputs": []
    },
    {
      "cell_type": "markdown",
      "metadata": {
        "id": "YsozvPzp0npz",
        "colab_type": "text"
      },
      "source": [
        "###VAR14"
      ]
    },
    {
      "cell_type": "code",
      "metadata": {
        "id": "A-fKX5QimEd6",
        "colab_type": "code",
        "outputId": "6c670a87-7ac7-46ab-b416-3e11735d29a6",
        "colab": {
          "base_uri": "https://localhost:8080/",
          "height": 351
        }
      },
      "source": [
        "plt.figure(figsize=(15,5))\n",
        "sns.countplot(X['VAR14'])"
      ],
      "execution_count": 0,
      "outputs": [
        {
          "output_type": "execute_result",
          "data": {
            "text/plain": [
              "<matplotlib.axes._subplots.AxesSubplot at 0x7f6398402048>"
            ]
          },
          "metadata": {
            "tags": []
          },
          "execution_count": 12
        },
        {
          "output_type": "display_data",
          "data": {
            "image/png": "[encoded data removed]",
            "text/plain": [
              "<Figure size 1080x360 with 1 Axes>"
            ]
          },
          "metadata": {
            "tags": []
          }
        }
      ]
    },
    {
      "cell_type": "code",
      "metadata": {
        "id": "PwCEp9k6mJvS",
        "colab_type": "code",
        "outputId": "483755a4-2ed2-4fcc-eaea-5570abf67a93",
        "colab": {
          "base_uri": "https://localhost:8080/",
          "height": 374
        }
      },
      "source": [
        "X['VAR14'].value_counts()"
      ],
      "execution_count": 0,
      "outputs": [
        {
          "output_type": "execute_result",
          "data": {
            "text/plain": [
              "1.0      20816\n",
              "2.0       7965\n",
              "3.0       2796\n",
              "4.0        910\n",
              "0.0        756\n",
              "5.0        269\n",
              "6.0        117\n",
              "7.0         31\n",
              "8.0         26\n",
              "10.0        14\n",
              "12.0         9\n",
              "9.0          8\n",
              "15.0         2\n",
              "11.0         2\n",
              "18.0         1\n",
              "20.0         1\n",
              "22.0         1\n",
              "23.0         1\n",
              "104.0        1\n",
              "14.0         1\n",
              "Name: VAR14, dtype: int64"
            ]
          },
          "metadata": {
            "tags": []
          },
          "execution_count": 13
        }
      ]
    },
    {
      "cell_type": "code",
      "metadata": {
        "id": "nIGbx8IHwXxK",
        "colab_type": "code",
        "colab": {}
      },
      "source": [
        "X['VAR14'].fillna(0, inplace=True) #NaN values can be replaced with 0 as entity may not have account with XYZEE."
      ],
      "execution_count": 0,
      "outputs": []
    },
    {
      "cell_type": "code",
      "metadata": {
        "id": "g04adD9EuT9S",
        "colab_type": "code",
        "colab": {}
      },
      "source": [
        "X['VAR14'].where(X['VAR14']<6, 6, inplace=True) #Grouping all values greater than 6 into 6 as they have very less counts."
      ],
      "execution_count": 0,
      "outputs": []
    },
    {
      "cell_type": "code",
      "metadata": {
        "id": "zNbjkA6Xwb9v",
        "colab_type": "code",
        "outputId": "8431695d-b527-4d00-83df-9c96c1100f28",
        "colab": {
          "base_uri": "https://localhost:8080/",
          "height": 153
        }
      },
      "source": [
        "X['VAR14'].value_counts()"
      ],
      "execution_count": 0,
      "outputs": [
        {
          "output_type": "execute_result",
          "data": {
            "text/plain": [
              "1.0    20816\n",
              "2.0     7965\n",
              "3.0     2796\n",
              "0.0     1029\n",
              "4.0      910\n",
              "5.0      269\n",
              "6.0      215\n",
              "Name: VAR14, dtype: int64"
            ]
          },
          "metadata": {
            "tags": []
          },
          "execution_count": 16
        }
      ]
    },
    {
      "cell_type": "markdown",
      "metadata": {
        "id": "G-5g7GT90tph",
        "colab_type": "text"
      },
      "source": [
        "###VAR2"
      ]
    },
    {
      "cell_type": "markdown",
      "metadata": {
        "id": "sa0us9Dx4aFb",
        "colab_type": "text"
      },
      "source": [
        "VAR2 is the credit score."
      ]
    },
    {
      "cell_type": "code",
      "metadata": {
        "id": "GBvi5Jgxzlj2",
        "colab_type": "code",
        "outputId": "519d48d0-9196-4a05-c765-db6b0d74aec7",
        "colab": {
          "base_uri": "https://localhost:8080/"
        }
      },
      "source": [
        "X['VAR2'].isnull().sum()"
      ],
      "execution_count": 0,
      "outputs": [
        {
          "output_type": "execute_result",
          "data": {
            "text/plain": [
              "961"
            ]
          },
          "metadata": {
            "tags": []
          },
          "execution_count": 17
        }
      ]
    },
    {
      "cell_type": "code",
      "metadata": {
        "id": "ULoR_uvO0NWt",
        "colab_type": "code",
        "outputId": "d5e19dc5-a950-4262-df11-f3614d894799",
        "colab": {
          "base_uri": "https://localhost:8080/"
        }
      },
      "source": [
        "plt.figure(figsize=(15,5))\n",
        "sns.countplot(X['VAR2'])"
      ],
      "execution_count": 0,
      "outputs": [
        {
          "output_type": "execute_result",
          "data": {
            "text/plain": [
              "<matplotlib.axes._subplots.AxesSubplot at 0x7f63982d56a0>"
            ]
          },
          "metadata": {
            "tags": []
          },
          "execution_count": 18
        },
        {
          "output_type": "display_data",
          "data": {
            "image/png": "[encoded data removed]",
            "text/plain": [
              "<Figure size 1080x360 with 1 Axes>"
            ]
          },
          "metadata": {
            "tags": []
          }
        }
      ]
    },
    {
      "cell_type": "markdown",
      "metadata": {
        "id": "Ugbl-EJ-1HBa",
        "colab_type": "text"
      },
      "source": [
        "Here we can safely replace missing values with mean as the data is contiunous."
      ]
    },
    {
      "cell_type": "code",
      "metadata": {
        "id": "05NfmgNq0-hs",
        "colab_type": "code",
        "colab": {}
      },
      "source": [
        "X['VAR2'].fillna(X['VAR2'].mean(), inplace=True)"
      ],
      "execution_count": 0,
      "outputs": []
    },
    {
      "cell_type": "markdown",
      "metadata": {
        "id": "XHathjpL1xYn",
        "colab_type": "text"
      },
      "source": [
        "###VAR3"
      ]
    },
    {
      "cell_type": "markdown",
      "metadata": {
        "id": "5i33J8MW4JrZ",
        "colab_type": "text"
      },
      "source": [
        "VAR3 is the Business Revenue."
      ]
    },
    {
      "cell_type": "code",
      "metadata": {
        "id": "i2Se-gax1hJ3",
        "colab_type": "code",
        "outputId": "d1145b4a-85a1-4b96-8b06-4c051b524e67",
        "colab": {
          "base_uri": "https://localhost:8080/"
        }
      },
      "source": [
        "X['VAR3'].isnull().sum()"
      ],
      "execution_count": 0,
      "outputs": [
        {
          "output_type": "execute_result",
          "data": {
            "text/plain": [
              "3385"
            ]
          },
          "metadata": {
            "tags": []
          },
          "execution_count": 20
        }
      ]
    },
    {
      "cell_type": "code",
      "metadata": {
        "id": "GuyHCUnc13fk",
        "colab_type": "code",
        "colab": {}
      },
      "source": [
        "X['VAR3'].fillna(X['VAR3'].mean(), inplace=True)"
      ],
      "execution_count": 0,
      "outputs": []
    },
    {
      "cell_type": "markdown",
      "metadata": {
        "id": "YtNOmO6M4iwE",
        "colab_type": "text"
      },
      "source": [
        "###VAR4"
      ]
    },
    {
      "cell_type": "code",
      "metadata": {
        "id": "MAykm8jX18im",
        "colab_type": "code",
        "outputId": "7798eabf-ae0d-48b7-f99d-c0a760df12ff",
        "colab": {
          "base_uri": "https://localhost:8080/"
        }
      },
      "source": [
        "X['VAR4'].value_counts()"
      ],
      "execution_count": 0,
      "outputs": [
        {
          "output_type": "execute_result",
          "data": {
            "text/plain": [
              "35.714286      4478\n",
              "71.428571      3157\n",
              "107.142857     1941\n",
              "178.571429     1519\n",
              "142.857143     1289\n",
              "250.000000      959\n",
              "285.714286      936\n",
              "214.285714      839\n",
              "321.428571      749\n",
              "357.142857      593\n",
              "464.285714      574\n",
              "392.857143      476\n",
              "428.571429      398\n",
              "500.000000      381\n",
              "607.142857      333\n",
              "571.428571      326\n",
              "535.714286      323\n",
              "678.571429      313\n",
              "642.857143      251\n",
              "892.857143      239\n",
              "714.285714      223\n",
              "750.000000      214\n",
              "857.142857      185\n",
              "785.714286      178\n",
              "821.428571      177\n",
              "964.285714      163\n",
              "928.571429      135\n",
              "1000.000000     131\n",
              "34.642857         3\n",
              "28.571429         3\n",
              "92.857143         3\n",
              "597.500000        3\n",
              "73.571429         3\n",
              "128.214286        2\n",
              "245.714286        2\n",
              "527.142857        1\n",
              "864.285714        1\n",
              "316.071429        1\n",
              "738.214286        1\n",
              "157.142857        1\n",
              "18.928571         1\n",
              "632.857143        1\n",
              "Name: VAR4, dtype: int64"
            ]
          },
          "metadata": {
            "tags": []
          },
          "execution_count": 22
        }
      ]
    },
    {
      "cell_type": "code",
      "metadata": {
        "id": "sK9VPUgfXA8g",
        "colab_type": "code",
        "colab": {}
      },
      "source": [
        "X['VAR4'].fillna(X['VAR4'].mean(), inplace=True)"
      ],
      "execution_count": 0,
      "outputs": []
    },
    {
      "cell_type": "markdown",
      "metadata": {
        "id": "TNfXinr2XqJc",
        "colab_type": "text"
      },
      "source": [
        "###VAR5"
      ]
    },
    {
      "cell_type": "code",
      "metadata": {
        "id": "lzfjQPUfXY5C",
        "colab_type": "code",
        "outputId": "9f1690f4-7f09-4a06-e4e9-9ca2cdde46fa",
        "colab": {
          "base_uri": "https://localhost:8080/"
        }
      },
      "source": [
        "X['VAR5'].value_counts()"
      ],
      "execution_count": 0,
      "outputs": [
        {
          "output_type": "execute_result",
          "data": {
            "text/plain": [
              "611.574748    7865\n",
              "611.685040      12\n",
              "611.572997      12\n",
              "611.765571      11\n",
              "611.604509      10\n",
              "              ... \n",
              "619.487788       1\n",
              "625.650156       1\n",
              "636.910483       1\n",
              "632.768391       1\n",
              "629.081475       1\n",
              "Name: VAR5, Length: 17379, dtype: int64"
            ]
          },
          "metadata": {
            "tags": []
          },
          "execution_count": 24
        }
      ]
    },
    {
      "cell_type": "code",
      "metadata": {
        "id": "OYebm2hjXvSL",
        "colab_type": "code",
        "outputId": "915caf7c-df60-4d30-983d-22802a81321a",
        "colab": {
          "base_uri": "https://localhost:8080/"
        }
      },
      "source": [
        "sns.distplot(X['VAR5'], bins=100)"
      ],
      "execution_count": 0,
      "outputs": [
        {
          "output_type": "stream",
          "text": [
            "/usr/local/lib/python3.6/dist-packages/numpy/lib/histograms.py:829: RuntimeWarning: invalid value encountered in greater_equal\n",
            "  keep = (tmp_a >= first_edge)\n",
            "/usr/local/lib/python3.6/dist-packages/numpy/lib/histograms.py:830: RuntimeWarning: invalid value encountered in less_equal\n",
            "  keep &= (tmp_a <= last_edge)\n",
            "/usr/local/lib/python3.6/dist-packages/statsmodels/nonparametric/kde.py:447: RuntimeWarning: invalid value encountered in greater\n",
            "  X = X[np.logical_and(X > clip[0], X < clip[1])] # won't work for two columns.\n",
            "/usr/local/lib/python3.6/dist-packages/statsmodels/nonparametric/kde.py:447: RuntimeWarning: invalid value encountered in less\n",
            "  X = X[np.logical_and(X > clip[0], X < clip[1])] # won't work for two columns.\n"
          ],
          "name": "stderr"
        },
        {
          "output_type": "execute_result",
          "data": {
            "text/plain": [
              "<matplotlib.axes._subplots.AxesSubplot at 0x7f6397b7a7f0>"
            ]
          },
          "metadata": {
            "tags": []
          },
          "execution_count": 25
        },
        {
          "output_type": "display_data",
          "data": {
            "image/png": "[encoded data removed]",
            "text/plain": [
              "<Figure size 432x288 with 1 Axes>"
            ]
          },
          "metadata": {
            "tags": []
          }
        }
      ]
    },
    {
      "cell_type": "code",
      "metadata": {
        "id": "Ro13LLnFajNC",
        "colab_type": "code",
        "colab": {}
      },
      "source": [
        "X['VAR5'].fillna(X['VAR5'].mean(), inplace=True)"
      ],
      "execution_count": 0,
      "outputs": []
    },
    {
      "cell_type": "markdown",
      "metadata": {
        "id": "dZ9nP81ZZ6hV",
        "colab_type": "text"
      },
      "source": [
        "###VAR6"
      ]
    },
    {
      "cell_type": "markdown",
      "metadata": {
        "id": "LIefgEp-by9G",
        "colab_type": "text"
      },
      "source": [
        "VAR6 is the Income."
      ]
    },
    {
      "cell_type": "code",
      "metadata": {
        "id": "vfWaaZj3X-Nj",
        "colab_type": "code",
        "outputId": "b0238daf-b5c7-4ba6-f899-67fc2ae10d20",
        "colab": {
          "base_uri": "https://localhost:8080/"
        }
      },
      "source": [
        "X['VAR6'].value_counts()"
      ],
      "execution_count": 0,
      "outputs": [
        {
          "output_type": "execute_result",
          "data": {
            "text/plain": [
              "11.363636    3031\n",
              "9.090909     2528\n",
              "18.181818    2376\n",
              "8.181818     2215\n",
              "13.636364    1772\n",
              "             ... \n",
              "26.090909       1\n",
              "13.021909       1\n",
              "42.636364       1\n",
              "4.513636        1\n",
              "10.690909       1\n",
              "Name: VAR6, Length: 702, dtype: int64"
            ]
          },
          "metadata": {
            "tags": []
          },
          "execution_count": 27
        }
      ]
    },
    {
      "cell_type": "code",
      "metadata": {
        "id": "zyPTmpuTbJlq",
        "colab_type": "code",
        "outputId": "c363b4f4-c47f-4a44-820e-4afb0977d187",
        "colab": {
          "base_uri": "https://localhost:8080/"
        }
      },
      "source": [
        "X['VAR6'].isnull().sum()"
      ],
      "execution_count": 0,
      "outputs": [
        {
          "output_type": "execute_result",
          "data": {
            "text/plain": [
              "3495"
            ]
          },
          "metadata": {
            "tags": []
          },
          "execution_count": 28
        }
      ]
    },
    {
      "cell_type": "code",
      "metadata": {
        "id": "rrRZrjjQbWTw",
        "colab_type": "code",
        "outputId": "1eeb03cb-60fc-45f5-b2e0-4b65dd67b0d9",
        "colab": {
          "base_uri": "https://localhost:8080/"
        }
      },
      "source": [
        "sns.distplot(X['VAR6'], bins=100)"
      ],
      "execution_count": 0,
      "outputs": [
        {
          "output_type": "stream",
          "text": [
            "/usr/local/lib/python3.6/dist-packages/numpy/lib/histograms.py:829: RuntimeWarning: invalid value encountered in greater_equal\n",
            "  keep = (tmp_a >= first_edge)\n",
            "/usr/local/lib/python3.6/dist-packages/numpy/lib/histograms.py:830: RuntimeWarning: invalid value encountered in less_equal\n",
            "  keep &= (tmp_a <= last_edge)\n",
            "/usr/local/lib/python3.6/dist-packages/statsmodels/nonparametric/kde.py:447: RuntimeWarning: invalid value encountered in greater\n",
            "  X = X[np.logical_and(X > clip[0], X < clip[1])] # won't work for two columns.\n",
            "/usr/local/lib/python3.6/dist-packages/statsmodels/nonparametric/kde.py:447: RuntimeWarning: invalid value encountered in less\n",
            "  X = X[np.logical_and(X > clip[0], X < clip[1])] # won't work for two columns.\n"
          ],
          "name": "stderr"
        },
        {
          "output_type": "execute_result",
          "data": {
            "text/plain": [
              "<matplotlib.axes._subplots.AxesSubplot at 0x7f639779fef0>"
            ]
          },
          "metadata": {
            "tags": []
          },
          "execution_count": 29
        },
        {
          "output_type": "display_data",
          "data": {
            "image/png": "[encoded data removed]",
            "text/plain": [
              "<Figure size 432x288 with 1 Axes>"
            ]
          },
          "metadata": {
            "tags": []
          }
        }
      ]
    },
    {
      "cell_type": "code",
      "metadata": {
        "id": "mej3QRPsbdKR",
        "colab_type": "code",
        "colab": {}
      },
      "source": [
        "X['VAR6'].fillna(X['VAR6'].mean(), inplace=True)"
      ],
      "execution_count": 0,
      "outputs": []
    },
    {
      "cell_type": "markdown",
      "metadata": {
        "id": "XOaUu-KYcFH4",
        "colab_type": "text"
      },
      "source": [
        "###VAR 7 and 8"
      ]
    },
    {
      "cell_type": "code",
      "metadata": {
        "id": "V10P-fcub_rT",
        "colab_type": "code",
        "outputId": "7040ca1a-b8f1-44d2-ea4b-4659aa3cb23d",
        "colab": {
          "base_uri": "https://localhost:8080/"
        }
      },
      "source": [
        "sns.distplot(X['VAR7'], bins=100)"
      ],
      "execution_count": 0,
      "outputs": [
        {
          "output_type": "stream",
          "text": [
            "/usr/local/lib/python3.6/dist-packages/numpy/lib/histograms.py:829: RuntimeWarning: invalid value encountered in greater_equal\n",
            "  keep = (tmp_a >= first_edge)\n",
            "/usr/local/lib/python3.6/dist-packages/numpy/lib/histograms.py:830: RuntimeWarning: invalid value encountered in less_equal\n",
            "  keep &= (tmp_a <= last_edge)\n",
            "/usr/local/lib/python3.6/dist-packages/statsmodels/nonparametric/kde.py:447: RuntimeWarning: invalid value encountered in greater\n",
            "  X = X[np.logical_and(X > clip[0], X < clip[1])] # won't work for two columns.\n",
            "/usr/local/lib/python3.6/dist-packages/statsmodels/nonparametric/kde.py:447: RuntimeWarning: invalid value encountered in less\n",
            "  X = X[np.logical_and(X > clip[0], X < clip[1])] # won't work for two columns.\n"
          ],
          "name": "stderr"
        },
        {
          "output_type": "execute_result",
          "data": {
            "text/plain": [
              "<matplotlib.axes._subplots.AxesSubplot at 0x7f6397a330b8>"
            ]
          },
          "metadata": {
            "tags": []
          },
          "execution_count": 31
        },
        {
          "output_type": "display_data",
          "data": {
            "image/png": "[encoded data removed]",
            "text/plain": [
              "<Figure size 432x288 with 1 Axes>"
            ]
          },
          "metadata": {
            "tags": []
          }
        }
      ]
    },
    {
      "cell_type": "code",
      "metadata": {
        "id": "AqEF4q1AchMv",
        "colab_type": "code",
        "outputId": "2df24289-502e-4ed9-a763-b6371d353aad",
        "colab": {
          "base_uri": "https://localhost:8080/"
        }
      },
      "source": [
        "X['VAR7'].value_counts()"
      ],
      "execution_count": 0,
      "outputs": [
        {
          "output_type": "execute_result",
          "data": {
            "text/plain": [
              "0.559710    2039\n",
              "0.565377      32\n",
              "0.562993      24\n",
              "0.631316      23\n",
              "0.917743      23\n",
              "            ... \n",
              "1.430693       1\n",
              "2.124540       1\n",
              "0.959335       1\n",
              "2.200686       1\n",
              "0.737777       1\n",
              "Name: VAR7, Length: 29186, dtype: int64"
            ]
          },
          "metadata": {
            "tags": []
          },
          "execution_count": 32
        }
      ]
    },
    {
      "cell_type": "code",
      "metadata": {
        "id": "dgwtO56_cmui",
        "colab_type": "code",
        "outputId": "20d0d5fe-ed6c-40ed-fa32-094ae0266f24",
        "colab": {
          "base_uri": "https://localhost:8080/"
        }
      },
      "source": [
        "sns.distplot(X['VAR8'], bins=100)"
      ],
      "execution_count": 0,
      "outputs": [
        {
          "output_type": "stream",
          "text": [
            "/usr/local/lib/python3.6/dist-packages/numpy/lib/histograms.py:829: RuntimeWarning: invalid value encountered in greater_equal\n",
            "  keep = (tmp_a >= first_edge)\n",
            "/usr/local/lib/python3.6/dist-packages/numpy/lib/histograms.py:830: RuntimeWarning: invalid value encountered in less_equal\n",
            "  keep &= (tmp_a <= last_edge)\n",
            "/usr/local/lib/python3.6/dist-packages/statsmodels/nonparametric/kde.py:447: RuntimeWarning: invalid value encountered in greater\n",
            "  X = X[np.logical_and(X > clip[0], X < clip[1])] # won't work for two columns.\n",
            "/usr/local/lib/python3.6/dist-packages/statsmodels/nonparametric/kde.py:447: RuntimeWarning: invalid value encountered in less\n",
            "  X = X[np.logical_and(X > clip[0], X < clip[1])] # won't work for two columns.\n"
          ],
          "name": "stderr"
        },
        {
          "output_type": "execute_result",
          "data": {
            "text/plain": [
              "<matplotlib.axes._subplots.AxesSubplot at 0x7f63974e3780>"
            ]
          },
          "metadata": {
            "tags": []
          },
          "execution_count": 33
        },
        {
          "output_type": "display_data",
          "data": {
            "image/png": "[encoded data removed]",
            "text/plain": [
              "<Figure size 432x288 with 1 Axes>"
            ]
          },
          "metadata": {
            "tags": []
          }
        }
      ]
    },
    {
      "cell_type": "code",
      "metadata": {
        "id": "m-51WX4zc0Dr",
        "colab_type": "code",
        "outputId": "9cdbcc08-4e5d-4d84-e2e5-10da62ab1091",
        "colab": {
          "base_uri": "https://localhost:8080/"
        }
      },
      "source": [
        "X['VAR8'].value_counts()"
      ],
      "execution_count": 0,
      "outputs": [
        {
          "output_type": "execute_result",
          "data": {
            "text/plain": [
              "196.911295    1710\n",
              "196.922914      50\n",
              "196.918026      29\n",
              "196.924749      23\n",
              "196.932705      20\n",
              "              ... \n",
              "208.015081       1\n",
              "197.820576       1\n",
              "197.006259       1\n",
              "197.165015       1\n",
              "240.874620       1\n",
              "Name: VAR8, Length: 30170, dtype: int64"
            ]
          },
          "metadata": {
            "tags": []
          },
          "execution_count": 34
        }
      ]
    },
    {
      "cell_type": "code",
      "metadata": {
        "id": "LRUh6Vv0c5XW",
        "colab_type": "code",
        "colab": {}
      },
      "source": [
        "X['VAR7'].fillna(X['VAR7'].mean(), inplace=True)\n",
        "X['VAR8'].fillna(X['VAR8'].mean(), inplace=True)"
      ],
      "execution_count": 0,
      "outputs": []
    },
    {
      "cell_type": "markdown",
      "metadata": {
        "id": "uTgRNRGBhmSy",
        "colab_type": "text"
      },
      "source": [
        "###VAR 9"
      ]
    },
    {
      "cell_type": "code",
      "metadata": {
        "id": "aws7HeqsdUrx",
        "colab_type": "code",
        "outputId": "7d00f601-6e22-47f2-8f57-e914b7d62d6f",
        "colab": {
          "base_uri": "https://localhost:8080/"
        }
      },
      "source": [
        "sns.distplot(X['VAR9'], bins=100)"
      ],
      "execution_count": 0,
      "outputs": [
        {
          "output_type": "stream",
          "text": [
            "/usr/local/lib/python3.6/dist-packages/numpy/lib/histograms.py:829: RuntimeWarning: invalid value encountered in greater_equal\n",
            "  keep = (tmp_a >= first_edge)\n",
            "/usr/local/lib/python3.6/dist-packages/numpy/lib/histograms.py:830: RuntimeWarning: invalid value encountered in less_equal\n",
            "  keep &= (tmp_a <= last_edge)\n",
            "/usr/local/lib/python3.6/dist-packages/statsmodels/nonparametric/kde.py:447: RuntimeWarning: invalid value encountered in greater\n",
            "  X = X[np.logical_and(X > clip[0], X < clip[1])] # won't work for two columns.\n",
            "/usr/local/lib/python3.6/dist-packages/statsmodels/nonparametric/kde.py:447: RuntimeWarning: invalid value encountered in less\n",
            "  X = X[np.logical_and(X > clip[0], X < clip[1])] # won't work for two columns.\n"
          ],
          "name": "stderr"
        },
        {
          "output_type": "execute_result",
          "data": {
            "text/plain": [
              "<matplotlib.axes._subplots.AxesSubplot at 0x7f63973aadd8>"
            ]
          },
          "metadata": {
            "tags": []
          },
          "execution_count": 36
        },
        {
          "output_type": "display_data",
          "data": {
            "image/png": "[encoded data removed]",
            "text/plain": [
              "<Figure size 432x288 with 1 Axes>"
            ]
          },
          "metadata": {
            "tags": []
          }
        }
      ]
    },
    {
      "cell_type": "code",
      "metadata": {
        "id": "5IThPBeuhrgb",
        "colab_type": "code",
        "colab": {}
      },
      "source": [
        "X['VAR9'].fillna(X['VAR9'].mean(), inplace=True)"
      ],
      "execution_count": 0,
      "outputs": []
    },
    {
      "cell_type": "markdown",
      "metadata": {
        "id": "qs-cCdD_iKMz",
        "colab_type": "text"
      },
      "source": [
        "###VAR10"
      ]
    },
    {
      "cell_type": "code",
      "metadata": {
        "id": "oHZ3BxB1h8PO",
        "colab_type": "code",
        "outputId": "64f867fa-5d1b-4439-f91e-7900e98553a6",
        "colab": {
          "base_uri": "https://localhost:8080/"
        }
      },
      "source": [
        "sns.distplot(X['VAR10'], bins=100)"
      ],
      "execution_count": 0,
      "outputs": [
        {
          "output_type": "stream",
          "text": [
            "/usr/local/lib/python3.6/dist-packages/numpy/lib/histograms.py:829: RuntimeWarning: invalid value encountered in greater_equal\n",
            "  keep = (tmp_a >= first_edge)\n",
            "/usr/local/lib/python3.6/dist-packages/numpy/lib/histograms.py:830: RuntimeWarning: invalid value encountered in less_equal\n",
            "  keep &= (tmp_a <= last_edge)\n",
            "/usr/local/lib/python3.6/dist-packages/statsmodels/nonparametric/kde.py:447: RuntimeWarning: invalid value encountered in greater\n",
            "  X = X[np.logical_and(X > clip[0], X < clip[1])] # won't work for two columns.\n",
            "/usr/local/lib/python3.6/dist-packages/statsmodels/nonparametric/kde.py:447: RuntimeWarning: invalid value encountered in less\n",
            "  X = X[np.logical_and(X > clip[0], X < clip[1])] # won't work for two columns.\n"
          ],
          "name": "stderr"
        },
        {
          "output_type": "execute_result",
          "data": {
            "text/plain": [
              "<matplotlib.axes._subplots.AxesSubplot at 0x7f63971c1780>"
            ]
          },
          "metadata": {
            "tags": []
          },
          "execution_count": 38
        },
        {
          "output_type": "display_data",
          "data": {
            "image/png": "[encoded data removed]",
            "text/plain": [
              "<Figure size 432x288 with 1 Axes>"
            ]
          },
          "metadata": {
            "tags": []
          }
        }
      ]
    },
    {
      "cell_type": "code",
      "metadata": {
        "id": "jkk28mQBiN67",
        "colab_type": "code",
        "colab": {}
      },
      "source": [
        "X['VAR10'].fillna(X['VAR10'].mean(), inplace=True)"
      ],
      "execution_count": 0,
      "outputs": []
    },
    {
      "cell_type": "markdown",
      "metadata": {
        "id": "bd_8pynLi_J2",
        "colab_type": "text"
      },
      "source": [
        "###VAR11"
      ]
    },
    {
      "cell_type": "code",
      "metadata": {
        "id": "D9cz41WQiawA",
        "colab_type": "code",
        "outputId": "0c192c13-afdc-4e38-e994-39c9bd790b75",
        "colab": {
          "base_uri": "https://localhost:8080/"
        }
      },
      "source": [
        "X['VAR11'].value_counts()"
      ],
      "execution_count": 0,
      "outputs": [
        {
          "output_type": "execute_result",
          "data": {
            "text/plain": [
              "0.003465     29\n",
              "0.000693     29\n",
              "0.004851     28\n",
              "0.020790     25\n",
              "0.006237     24\n",
              "             ..\n",
              "5.701883      1\n",
              "16.621946     1\n",
              "5.931954      1\n",
              "17.081395     1\n",
              "13.499354     1\n",
              "Name: VAR11, Length: 12497, dtype: int64"
            ]
          },
          "metadata": {
            "tags": []
          },
          "execution_count": 40
        }
      ]
    },
    {
      "cell_type": "code",
      "metadata": {
        "id": "jW5DKTxxjC7t",
        "colab_type": "code",
        "colab": {}
      },
      "source": [
        "X['VAR11'].fillna(X['VAR11'].mean(), inplace=True)"
      ],
      "execution_count": 0,
      "outputs": []
    },
    {
      "cell_type": "markdown",
      "metadata": {
        "id": "L0lQ7YH-jQJe",
        "colab_type": "text"
      },
      "source": [
        "###VAR12"
      ]
    },
    {
      "cell_type": "code",
      "metadata": {
        "id": "4V_xUNeYjL0-",
        "colab_type": "code",
        "outputId": "2b1931e5-2520-4600-d972-a4730ab0a73d",
        "colab": {
          "base_uri": "https://localhost:8080/"
        }
      },
      "source": [
        "X['VAR12'].isnull().sum()"
      ],
      "execution_count": 0,
      "outputs": [
        {
          "output_type": "execute_result",
          "data": {
            "text/plain": [
              "10502"
            ]
          },
          "metadata": {
            "tags": []
          },
          "execution_count": 42
        }
      ]
    },
    {
      "cell_type": "code",
      "metadata": {
        "id": "xPNmukvZjXbF",
        "colab_type": "code",
        "outputId": "7a72a65f-bd02-45a3-e3a8-3db6f524b5d4",
        "colab": {
          "base_uri": "https://localhost:8080/"
        }
      },
      "source": [
        "sns.distplot(X['VAR12'], bins=100)"
      ],
      "execution_count": 0,
      "outputs": [
        {
          "output_type": "stream",
          "text": [
            "/usr/local/lib/python3.6/dist-packages/numpy/lib/histograms.py:829: RuntimeWarning: invalid value encountered in greater_equal\n",
            "  keep = (tmp_a >= first_edge)\n",
            "/usr/local/lib/python3.6/dist-packages/numpy/lib/histograms.py:830: RuntimeWarning: invalid value encountered in less_equal\n",
            "  keep &= (tmp_a <= last_edge)\n",
            "/usr/local/lib/python3.6/dist-packages/statsmodels/nonparametric/kde.py:447: RuntimeWarning: invalid value encountered in greater\n",
            "  X = X[np.logical_and(X > clip[0], X < clip[1])] # won't work for two columns.\n",
            "/usr/local/lib/python3.6/dist-packages/statsmodels/nonparametric/kde.py:447: RuntimeWarning: invalid value encountered in less\n",
            "  X = X[np.logical_and(X > clip[0], X < clip[1])] # won't work for two columns.\n"
          ],
          "name": "stderr"
        },
        {
          "output_type": "execute_result",
          "data": {
            "text/plain": [
              "<matplotlib.axes._subplots.AxesSubplot at 0x7f63974c39b0>"
            ]
          },
          "metadata": {
            "tags": []
          },
          "execution_count": 43
        },
        {
          "output_type": "display_data",
          "data": {
            "image/png": "[encoded data removed]",
            "text/plain": [
              "<Figure size 432x288 with 1 Axes>"
            ]
          },
          "metadata": {
            "tags": []
          }
        }
      ]
    },
    {
      "cell_type": "code",
      "metadata": {
        "id": "1YAMYiYCjiw1",
        "colab_type": "code",
        "colab": {}
      },
      "source": [
        "X['VAR12'].fillna(X['VAR12'].mean(), inplace=True)"
      ],
      "execution_count": 0,
      "outputs": []
    },
    {
      "cell_type": "markdown",
      "metadata": {
        "id": "t1kZYySRkRRg",
        "colab_type": "text"
      },
      "source": [
        "###VAR 17,13, 15 and 16"
      ]
    },
    {
      "cell_type": "code",
      "metadata": {
        "id": "ocyC3gHmkDPc",
        "colab_type": "code",
        "colab": {}
      },
      "source": [
        "#Sixty percent of values in this column are NaN. That's why it is safe to remove it.\n",
        "X.drop('VAR17', axis=1, inplace=True)"
      ],
      "execution_count": 0,
      "outputs": []
    },
    {
      "cell_type": "code",
      "metadata": {
        "id": "a_DuVSTikZZn",
        "colab_type": "code",
        "colab": {}
      },
      "source": [
        "X['VAR13'].fillna(X['VAR13'].mean(), inplace=True)\n",
        "X['VAR15'].fillna(X['VAR15'].mean(), inplace=True)\n",
        "X['VAR16'].fillna(X['VAR16'].mean(), inplace=True)"
      ],
      "execution_count": 0,
      "outputs": []
    },
    {
      "cell_type": "markdown",
      "metadata": {
        "id": "1gJb9nzhoylm",
        "colab_type": "text"
      },
      "source": [
        "### y variable"
      ]
    },
    {
      "cell_type": "code",
      "metadata": {
        "id": "wudE9m1OncmP",
        "colab_type": "code",
        "colab": {}
      },
      "source": [
        "y = y.astype('category')"
      ],
      "execution_count": 0,
      "outputs": []
    },
    {
      "cell_type": "code",
      "metadata": {
        "id": "vah_HsT1o61P",
        "colab_type": "code",
        "colab": {}
      },
      "source": [
        "y = y.cat.codes"
      ],
      "execution_count": 0,
      "outputs": []
    },
    {
      "cell_type": "code",
      "metadata": {
        "id": "1-JADwWto9VV",
        "colab_type": "code",
        "outputId": "23e82608-679a-4aca-ab21-b3de69d8e347",
        "colab": {
          "base_uri": "https://localhost:8080/"
        }
      },
      "source": [
        "y.head()"
      ],
      "execution_count": 0,
      "outputs": [
        {
          "output_type": "execute_result",
          "data": {
            "text/plain": [
              "VAR1\n",
              "1    1\n",
              "2    0\n",
              "3    2\n",
              "4    1\n",
              "5    0\n",
              "dtype: int8"
            ]
          },
          "metadata": {
            "tags": []
          },
          "execution_count": 49
        }
      ]
    },
    {
      "cell_type": "markdown",
      "metadata": {
        "id": "FYkSE7gPpBj4",
        "colab_type": "text"
      },
      "source": [
        "#BASE MODEL"
      ]
    },
    {
      "cell_type": "code",
      "metadata": {
        "id": "7nadZql-o-80",
        "colab_type": "code",
        "colab": {}
      },
      "source": [
        "from sklearn.ensemble import RandomForestClassifier\n",
        "from sklearn.model_selection import train_test_split\n",
        "from sklearn.metrics import accuracy_score"
      ],
      "execution_count": 0,
      "outputs": []
    },
    {
      "cell_type": "code",
      "metadata": {
        "id": "zp21QxEnWGQa",
        "colab_type": "code",
        "colab": {}
      },
      "source": [
        "X_train, X_test, y_train, y_test = train_test_split(X, y, test_size=0.2)"
      ],
      "execution_count": 0,
      "outputs": []
    },
    {
      "cell_type": "code",
      "metadata": {
        "id": "WFd9EIdoqNGm",
        "colab_type": "code",
        "colab": {}
      },
      "source": [
        "m = RandomForestClassifier(n_estimators=30, min_samples_leaf=3, max_features=0.5, n_jobs=-1, oob_score=True, random_state=42)"
      ],
      "execution_count": 0,
      "outputs": []
    },
    {
      "cell_type": "code",
      "metadata": {
        "id": "tUX4oRtS4UYV",
        "colab_type": "code",
        "outputId": "14f3dd5e-bcbc-4117-d0f1-08149d8db9bc",
        "colab": {
          "base_uri": "https://localhost:8080/",
          "height": 136
        }
      },
      "source": [
        "m.fit(X_train, y_train)"
      ],
      "execution_count": 0,
      "outputs": [
        {
          "output_type": "execute_result",
          "data": {
            "text/plain": [
              "RandomForestClassifier(bootstrap=True, class_weight=None, criterion='gini',\n",
              "                       max_depth=None, max_features=0.5, max_leaf_nodes=None,\n",
              "                       min_impurity_decrease=0.0, min_impurity_split=None,\n",
              "                       min_samples_leaf=3, min_samples_split=2,\n",
              "                       min_weight_fraction_leaf=0.0, n_estimators=30, n_jobs=-1,\n",
              "                       oob_score=True, random_state=42, verbose=0,\n",
              "                       warm_start=False)"
            ]
          },
          "metadata": {
            "tags": []
          },
          "execution_count": 53
        }
      ]
    },
    {
      "cell_type": "code",
      "metadata": {
        "id": "RDKm_M274gGs",
        "colab_type": "code",
        "colab": {}
      },
      "source": [
        "preds = m.predict(X_test)\n",
        "base_score= accuracy_score(y_test, preds)"
      ],
      "execution_count": 0,
      "outputs": []
    },
    {
      "cell_type": "code",
      "metadata": {
        "id": "DeuacotI5t_L",
        "colab_type": "code",
        "outputId": "18a6ecbf-9cb1-4cf3-dcab-65d55b37ad2c",
        "colab": {
          "base_uri": "https://localhost:8080/",
          "height": 34
        }
      },
      "source": [
        "base_score"
      ],
      "execution_count": 0,
      "outputs": [
        {
          "output_type": "execute_result",
          "data": {
            "text/plain": [
              "0.5652941176470588"
            ]
          },
          "metadata": {
            "tags": []
          },
          "execution_count": 55
        }
      ]
    },
    {
      "cell_type": "code",
      "metadata": {
        "id": "Obu1ep-a5yMq",
        "colab_type": "code",
        "outputId": "0e7c8def-6a60-45a5-f8d2-1fd583118276",
        "colab": {
          "base_uri": "https://localhost:8080/",
          "height": 34
        }
      },
      "source": [
        "m.oob_score_"
      ],
      "execution_count": 0,
      "outputs": [
        {
          "output_type": "execute_result",
          "data": {
            "text/plain": [
              "0.5463970588235294"
            ]
          },
          "metadata": {
            "tags": []
          },
          "execution_count": 56
        }
      ]
    },
    {
      "cell_type": "code",
      "metadata": {
        "id": "bx2vkWWlO-Tf",
        "colab_type": "code",
        "outputId": "c9d60d41-ad5a-4d2c-8796-faa25e3b592b",
        "colab": {
          "base_uri": "https://localhost:8080/",
          "height": 204
        }
      },
      "source": [
        "!pip install eli5"
      ],
      "execution_count": 0,
      "outputs": [
        {
          "output_type": "stream",
          "text": [
            "Requirement already satisfied: eli5 in /usr/local/lib/python3.6/dist-packages (0.10.1)\n",
            "Requirement already satisfied: attrs>16.0.0 in /usr/local/lib/python3.6/dist-packages (from eli5) (19.3.0)\n",
            "Requirement already satisfied: jinja2 in /usr/local/lib/python3.6/dist-packages (from eli5) (2.10.3)\n",
            "Requirement already satisfied: scipy in /usr/local/lib/python3.6/dist-packages (from eli5) (1.3.1)\n",
            "Requirement already satisfied: six in /usr/local/lib/python3.6/dist-packages (from eli5) (1.12.0)\n",
            "Requirement already satisfied: tabulate>=0.7.7 in /usr/local/lib/python3.6/dist-packages (from eli5) (0.8.5)\n",
            "Requirement already satisfied: scikit-learn>=0.18 in /usr/local/lib/python3.6/dist-packages (from eli5) (0.21.3)\n",
            "Requirement already satisfied: graphviz in /usr/local/lib/python3.6/dist-packages (from eli5) (0.10.1)\n",
            "Requirement already satisfied: numpy>=1.9.0 in /usr/local/lib/python3.6/dist-packages (from eli5) (1.17.3)\n",
            "Requirement already satisfied: MarkupSafe>=0.23 in /usr/local/lib/python3.6/dist-packages (from jinja2->eli5) (1.1.1)\n",
            "Requirement already satisfied: joblib>=0.11 in /usr/local/lib/python3.6/dist-packages (from scikit-learn>=0.18->eli5) (0.14.0)\n"
          ],
          "name": "stdout"
        }
      ]
    },
    {
      "cell_type": "code",
      "metadata": {
        "id": "UtGe2tlMRZcw",
        "colab_type": "code",
        "outputId": "714956d9-4865-4db4-db11-ec399b2b8eb4",
        "colab": {
          "base_uri": "https://localhost:8080/",
          "height": 80
        }
      },
      "source": [
        "import eli5\n",
        "from eli5.sklearn import PermutationImportance"
      ],
      "execution_count": 0,
      "outputs": [
        {
          "output_type": "stream",
          "text": [
            "Using TensorFlow backend.\n"
          ],
          "name": "stderr"
        },
        {
          "output_type": "display_data",
          "data": {
            "text/html": [
              "<p style=\"color: red;\">\n",
              "The default version of TensorFlow in Colab will soon switch to TensorFlow 2.x.<br>\n",
              "We recommend you <a href=\"https://www.tensorflow.org/guide/migrate\" target=\"_blank\">upgrade</a> now \n",
              "or ensure your notebook will continue to use TensorFlow 1.x via the <code>%tensorflow_version 1.x</code> magic:\n",
              "<a href=\"https://colab.research.google.com/notebooks/tensorflow_version.ipynb\" target=\"_blank\">more info</a>.</p>\n"
            ],
            "text/plain": [
              "<IPython.core.display.HTML object>"
            ]
          },
          "metadata": {
            "tags": []
          }
        }
      ]
    },
    {
      "cell_type": "code",
      "metadata": {
        "id": "wWeKMpz6RpS_",
        "colab_type": "code",
        "outputId": "f78462eb-fb47-4caa-a98d-51f2c4aaf3d1",
        "colab": {
          "base_uri": "https://localhost:8080/",
          "height": 323
        }
      },
      "source": [
        "perm = PermutationImportance(m, random_state=1).fit(X_test, y_test)\n",
        "eli5.show_weights(perm, feature_names=X_test.columns.tolist())"
      ],
      "execution_count": 0,
      "outputs": [
        {
          "output_type": "execute_result",
          "data": {
            "text/html": [
              "\n",
              "    <style>\n",
              "    table.eli5-weights tr:hover {\n",
              "        filter: brightness(85%);\n",
              "    }\n",
              "</style>\n",
              "\n",
              "\n",
              "\n",
              "    \n",
              "\n",
              "    \n",
              "\n",
              "    \n",
              "\n",
              "    \n",
              "\n",
              "    \n",
              "\n",
              "    \n",
              "\n",
              "\n",
              "    \n",
              "\n",
              "    \n",
              "\n",
              "    \n",
              "\n",
              "    \n",
              "\n",
              "    \n",
              "\n",
              "    \n",
              "\n",
              "\n",
              "    \n",
              "\n",
              "    \n",
              "\n",
              "    \n",
              "\n",
              "    \n",
              "\n",
              "    \n",
              "        <table class=\"eli5-weights eli5-feature-importances\" style=\"border-collapse: collapse; border: none; margin-top: 0em; table-layout: auto;\">\n",
              "    <thead>\n",
              "    <tr style=\"border: none;\">\n",
              "        <th style=\"padding: 0 1em 0 0.5em; text-align: right; border: none;\">Weight</th>\n",
              "        <th style=\"padding: 0 0.5em 0 0.5em; text-align: left; border: none;\">Feature</th>\n",
              "    </tr>\n",
              "    </thead>\n",
              "    <tbody>\n",
              "    \n",
              "        <tr style=\"background-color: hsl(120, 100.00%, 80.00%); border: none;\">\n",
              "            <td style=\"padding: 0 1em 0 0.5em; text-align: right; border: none;\">\n",
              "                0.0326\n",
              "                \n",
              "                    &plusmn; 0.0058\n",
              "                \n",
              "            </td>\n",
              "            <td style=\"padding: 0 0.5em 0 0.5em; text-align: left; border: none;\">\n",
              "                VAR20\n",
              "            </td>\n",
              "        </tr>\n",
              "    \n",
              "        <tr style=\"background-color: hsl(120, 100.00%, 89.10%); border: none;\">\n",
              "            <td style=\"padding: 0 1em 0 0.5em; text-align: right; border: none;\">\n",
              "                0.0137\n",
              "                \n",
              "                    &plusmn; 0.0060\n",
              "                \n",
              "            </td>\n",
              "            <td style=\"padding: 0 0.5em 0 0.5em; text-align: left; border: none;\">\n",
              "                VAR2\n",
              "            </td>\n",
              "        </tr>\n",
              "    \n",
              "        <tr style=\"background-color: hsl(120, 100.00%, 93.40%); border: none;\">\n",
              "            <td style=\"padding: 0 1em 0 0.5em; text-align: right; border: none;\">\n",
              "                0.0067\n",
              "                \n",
              "                    &plusmn; 0.0086\n",
              "                \n",
              "            </td>\n",
              "            <td style=\"padding: 0 0.5em 0 0.5em; text-align: left; border: none;\">\n",
              "                VAR4\n",
              "            </td>\n",
              "        </tr>\n",
              "    \n",
              "        <tr style=\"background-color: hsl(120, 100.00%, 93.48%); border: none;\">\n",
              "            <td style=\"padding: 0 1em 0 0.5em; text-align: right; border: none;\">\n",
              "                0.0066\n",
              "                \n",
              "                    &plusmn; 0.0019\n",
              "                \n",
              "            </td>\n",
              "            <td style=\"padding: 0 0.5em 0 0.5em; text-align: left; border: none;\">\n",
              "                VAR3\n",
              "            </td>\n",
              "        </tr>\n",
              "    \n",
              "        <tr style=\"background-color: hsl(120, 100.00%, 94.66%); border: none;\">\n",
              "            <td style=\"padding: 0 1em 0 0.5em; text-align: right; border: none;\">\n",
              "                0.0049\n",
              "                \n",
              "                    &plusmn; 0.0072\n",
              "                \n",
              "            </td>\n",
              "            <td style=\"padding: 0 0.5em 0 0.5em; text-align: left; border: none;\">\n",
              "                VAR7\n",
              "            </td>\n",
              "        </tr>\n",
              "    \n",
              "        <tr style=\"background-color: hsl(120, 100.00%, 95.58%); border: none;\">\n",
              "            <td style=\"padding: 0 1em 0 0.5em; text-align: right; border: none;\">\n",
              "                0.0038\n",
              "                \n",
              "                    &plusmn; 0.0038\n",
              "                \n",
              "            </td>\n",
              "            <td style=\"padding: 0 0.5em 0 0.5em; text-align: left; border: none;\">\n",
              "                VAR8\n",
              "            </td>\n",
              "        </tr>\n",
              "    \n",
              "        <tr style=\"background-color: hsl(120, 100.00%, 96.39%); border: none;\">\n",
              "            <td style=\"padding: 0 1em 0 0.5em; text-align: right; border: none;\">\n",
              "                0.0028\n",
              "                \n",
              "                    &plusmn; 0.0033\n",
              "                \n",
              "            </td>\n",
              "            <td style=\"padding: 0 0.5em 0 0.5em; text-align: left; border: none;\">\n",
              "                VAR14\n",
              "            </td>\n",
              "        </tr>\n",
              "    \n",
              "        <tr style=\"background-color: hsl(120, 100.00%, 96.49%); border: none;\">\n",
              "            <td style=\"padding: 0 1em 0 0.5em; text-align: right; border: none;\">\n",
              "                0.0027\n",
              "                \n",
              "                    &plusmn; 0.0031\n",
              "                \n",
              "            </td>\n",
              "            <td style=\"padding: 0 0.5em 0 0.5em; text-align: left; border: none;\">\n",
              "                VAR5\n",
              "            </td>\n",
              "        </tr>\n",
              "    \n",
              "        <tr style=\"background-color: hsl(120, 100.00%, 98.04%); border: none;\">\n",
              "            <td style=\"padding: 0 1em 0 0.5em; text-align: right; border: none;\">\n",
              "                0.0012\n",
              "                \n",
              "                    &plusmn; 0.0058\n",
              "                \n",
              "            </td>\n",
              "            <td style=\"padding: 0 0.5em 0 0.5em; text-align: left; border: none;\">\n",
              "                VAR11\n",
              "            </td>\n",
              "        </tr>\n",
              "    \n",
              "        <tr style=\"background-color: hsl(120, 100.00%, 98.11%); border: none;\">\n",
              "            <td style=\"padding: 0 1em 0 0.5em; text-align: right; border: none;\">\n",
              "                0.0011\n",
              "                \n",
              "                    &plusmn; 0.0030\n",
              "                \n",
              "            </td>\n",
              "            <td style=\"padding: 0 0.5em 0 0.5em; text-align: left; border: none;\">\n",
              "                VAR10\n",
              "            </td>\n",
              "        </tr>\n",
              "    \n",
              "        <tr style=\"background-color: hsl(120, 100.00%, 98.67%); border: none;\">\n",
              "            <td style=\"padding: 0 1em 0 0.5em; text-align: right; border: none;\">\n",
              "                0.0007\n",
              "                \n",
              "                    &plusmn; 0.0062\n",
              "                \n",
              "            </td>\n",
              "            <td style=\"padding: 0 0.5em 0 0.5em; text-align: left; border: none;\">\n",
              "                VAR6\n",
              "            </td>\n",
              "        </tr>\n",
              "    \n",
              "        <tr style=\"background-color: hsl(120, 100.00%, 98.97%); border: none;\">\n",
              "            <td style=\"padding: 0 1em 0 0.5em; text-align: right; border: none;\">\n",
              "                0.0005\n",
              "                \n",
              "                    &plusmn; 0.0059\n",
              "                \n",
              "            </td>\n",
              "            <td style=\"padding: 0 0.5em 0 0.5em; text-align: left; border: none;\">\n",
              "                VAR12\n",
              "            </td>\n",
              "        </tr>\n",
              "    \n",
              "        <tr style=\"background-color: hsl(120, 100.00%, 100.00%); border: none;\">\n",
              "            <td style=\"padding: 0 1em 0 0.5em; text-align: right; border: none;\">\n",
              "                0.0000\n",
              "                \n",
              "                    &plusmn; 0.0012\n",
              "                \n",
              "            </td>\n",
              "            <td style=\"padding: 0 0.5em 0 0.5em; text-align: left; border: none;\">\n",
              "                VAR18\n",
              "            </td>\n",
              "        </tr>\n",
              "    \n",
              "        <tr style=\"background-color: hsl(0, 100.00%, 99.42%); border: none;\">\n",
              "            <td style=\"padding: 0 1em 0 0.5em; text-align: right; border: none;\">\n",
              "                -0.0002\n",
              "                \n",
              "                    &plusmn; 0.0015\n",
              "                \n",
              "            </td>\n",
              "            <td style=\"padding: 0 0.5em 0 0.5em; text-align: left; border: none;\">\n",
              "                VAR16\n",
              "            </td>\n",
              "        </tr>\n",
              "    \n",
              "        <tr style=\"background-color: hsl(0, 100.00%, 97.62%); border: none;\">\n",
              "            <td style=\"padding: 0 1em 0 0.5em; text-align: right; border: none;\">\n",
              "                -0.0016\n",
              "                \n",
              "                    &plusmn; 0.0031\n",
              "                \n",
              "            </td>\n",
              "            <td style=\"padding: 0 0.5em 0 0.5em; text-align: left; border: none;\">\n",
              "                VAR9\n",
              "            </td>\n",
              "        </tr>\n",
              "    \n",
              "        <tr style=\"background-color: hsl(0, 100.00%, 97.52%); border: none;\">\n",
              "            <td style=\"padding: 0 1em 0 0.5em; text-align: right; border: none;\">\n",
              "                -0.0016\n",
              "                \n",
              "                    &plusmn; 0.0005\n",
              "                \n",
              "            </td>\n",
              "            <td style=\"padding: 0 0.5em 0 0.5em; text-align: left; border: none;\">\n",
              "                VAR15\n",
              "            </td>\n",
              "        </tr>\n",
              "    \n",
              "        <tr style=\"background-color: hsl(0, 100.00%, 95.83%); border: none;\">\n",
              "            <td style=\"padding: 0 1em 0 0.5em; text-align: right; border: none;\">\n",
              "                -0.0035\n",
              "                \n",
              "                    &plusmn; 0.0039\n",
              "                \n",
              "            </td>\n",
              "            <td style=\"padding: 0 0.5em 0 0.5em; text-align: left; border: none;\">\n",
              "                VAR13\n",
              "            </td>\n",
              "        </tr>\n",
              "    \n",
              "    \n",
              "    </tbody>\n",
              "</table>\n",
              "    \n",
              "\n",
              "    \n",
              "\n",
              "\n",
              "    \n",
              "\n",
              "    \n",
              "\n",
              "    \n",
              "\n",
              "    \n",
              "\n",
              "    \n",
              "\n",
              "    \n",
              "\n",
              "\n",
              "\n"
            ],
            "text/plain": [
              "<IPython.core.display.HTML object>"
            ]
          },
          "metadata": {
            "tags": []
          },
          "execution_count": 81
        }
      ]
    },
    {
      "cell_type": "markdown",
      "metadata": {
        "id": "B0DWUg2U0yCt",
        "colab_type": "text"
      },
      "source": [
        "Here we can see that:\n",
        "\n",
        "\n",
        "*   VAR7 and VAR8 are related.\n",
        "\n",
        "*   VAR16 and VAR7 are related.\n",
        "\n",
        "*   VAR13 and VAR15 are related.\n"
      ]
    },
    {
      "cell_type": "code",
      "metadata": {
        "id": "4B3v5cxgt56m",
        "colab_type": "code",
        "colab": {}
      },
      "source": [
        "X_VAR15 = X_train.drop('VAR13', axis=1)\n",
        "X_VAR15_test = X_test.drop('VAR13', axis=1)"
      ],
      "execution_count": 0,
      "outputs": []
    },
    {
      "cell_type": "code",
      "metadata": {
        "id": "HJIV9l-8uLGz",
        "colab_type": "code",
        "colab": {}
      },
      "source": [
        "m.fit(X_VAR13, y_train)\n",
        "preds_2 = m.predict(X_VAR13_test)\n",
        "new_score = accuracy_score(y_test, preds_2)"
      ],
      "execution_count": 0,
      "outputs": []
    },
    {
      "cell_type": "code",
      "metadata": {
        "id": "5A-L-K8Fuipz",
        "colab_type": "code",
        "outputId": "6f064d02-2a22-4410-8971-8eff8d7a5ed9",
        "colab": {
          "base_uri": "https://localhost:8080/",
          "height": 34
        }
      },
      "source": [
        "new_score"
      ],
      "execution_count": 0,
      "outputs": [
        {
          "output_type": "execute_result",
          "data": {
            "text/plain": [
              "0.5638235294117647"
            ]
          },
          "metadata": {
            "tags": []
          },
          "execution_count": 84
        }
      ]
    },
    {
      "cell_type": "code",
      "metadata": {
        "id": "yAC_mtTGumn4",
        "colab_type": "code",
        "outputId": "ac4d81d4-7588-4888-a182-761bd53b614d",
        "colab": {
          "base_uri": "https://localhost:8080/",
          "height": 34
        }
      },
      "source": [
        "m.oob_score_"
      ],
      "execution_count": 0,
      "outputs": [
        {
          "output_type": "execute_result",
          "data": {
            "text/plain": [
              "0.5452573529411765"
            ]
          },
          "metadata": {
            "tags": []
          },
          "execution_count": 85
        }
      ]
    },
    {
      "cell_type": "markdown",
      "metadata": {
        "id": "73VqhCHzv6zg",
        "colab_type": "text"
      },
      "source": [
        "Removing VAR15 reduces model performance a little bit."
      ]
    },
    {
      "cell_type": "code",
      "metadata": {
        "id": "33wSJU-YuuTq",
        "colab_type": "code",
        "outputId": "5748acab-3d60-4a0f-cac9-2625b864ae22",
        "colab": {
          "base_uri": "https://localhost:8080/",
          "height": 102
        }
      },
      "source": [
        "X_train.drop('VAR19', axis=1, inplace=True)\n",
        "X_test.drop('VAR19', axis=1, inplace=True)\n",
        "\n",
        "m.fit(X_train, y_train)\n",
        "preds_3 = m.predict(X_test)"
      ],
      "execution_count": 0,
      "outputs": [
        {
          "output_type": "stream",
          "text": [
            "/usr/local/lib/python3.6/dist-packages/pandas/core/frame.py:4117: SettingWithCopyWarning: \n",
            "A value is trying to be set on a copy of a slice from a DataFrame\n",
            "\n",
            "See the caveats in the documentation: http://pandas.pydata.org/pandas-docs/stable/user_guide/indexing.html#returning-a-view-versus-a-copy\n",
            "  errors=errors,\n"
          ],
          "name": "stderr"
        }
      ]
    },
    {
      "cell_type": "code",
      "metadata": {
        "id": "n_g12zYSB9CM",
        "colab_type": "code",
        "colab": {}
      },
      "source": [
        "new_score_1 = accuracy_score(y_test, preds_3)"
      ],
      "execution_count": 0,
      "outputs": []
    },
    {
      "cell_type": "code",
      "metadata": {
        "id": "5dsnCuHvvYuZ",
        "colab_type": "code",
        "outputId": "cc2a63a2-4f82-4d01-9293-1a7354298aaa",
        "colab": {
          "base_uri": "https://localhost:8080/",
          "height": 34
        }
      },
      "source": [
        "new_score_1"
      ],
      "execution_count": 0,
      "outputs": [
        {
          "output_type": "execute_result",
          "data": {
            "text/plain": [
              "0.5675"
            ]
          },
          "metadata": {
            "tags": []
          },
          "execution_count": 87
        }
      ]
    },
    {
      "cell_type": "code",
      "metadata": {
        "id": "sIYJ3zB1vdSE",
        "colab_type": "code",
        "outputId": "f28ef608-600f-4d2d-a3de-f27206920bda",
        "colab": {
          "base_uri": "https://localhost:8080/",
          "height": 34
        }
      },
      "source": [
        "m.oob_score_"
      ],
      "execution_count": 0,
      "outputs": [
        {
          "output_type": "execute_result",
          "data": {
            "text/plain": [
              "0.5456617647058823"
            ]
          },
          "metadata": {
            "tags": []
          },
          "execution_count": 68
        }
      ]
    },
    {
      "cell_type": "markdown",
      "metadata": {
        "id": "_6anbb2Gvw_L",
        "colab_type": "text"
      },
      "source": [
        "Removing VAR19 doesn't affect the model score. So it is safe to remove it."
      ]
    },
    {
      "cell_type": "code",
      "metadata": {
        "id": "0-v3jPyCvicK",
        "colab_type": "code",
        "outputId": "f1f408cf-6e11-45cc-e5e8-22de73ca7319",
        "colab": {
          "base_uri": "https://localhost:8080/",
          "height": 102
        }
      },
      "source": [
        "X_train.drop('VAR16', axis=1, inplace=True)\n",
        "X_test.drop('VAR16', axis=1, inplace=True)\n",
        "\n",
        "m.fit(X_train, y_train)\n",
        "preds_4 = m.predict(X_test)\n",
        "new_score_1 = accuracy_score(y_test, preds_4)"
      ],
      "execution_count": 0,
      "outputs": [
        {
          "output_type": "stream",
          "text": [
            "/usr/local/lib/python3.6/dist-packages/pandas/core/frame.py:4117: SettingWithCopyWarning: \n",
            "A value is trying to be set on a copy of a slice from a DataFrame\n",
            "\n",
            "See the caveats in the documentation: http://pandas.pydata.org/pandas-docs/stable/user_guide/indexing.html#returning-a-view-versus-a-copy\n",
            "  errors=errors,\n"
          ],
          "name": "stderr"
        }
      ]
    },
    {
      "cell_type": "code",
      "metadata": {
        "id": "X2HRDYaSCJBQ",
        "colab_type": "code",
        "outputId": "dab4caa5-12e6-46cc-ed3b-dfd1e64aee5a",
        "colab": {
          "base_uri": "https://localhost:8080/",
          "height": 34
        }
      },
      "source": [
        "new_score_1"
      ],
      "execution_count": 0,
      "outputs": [
        {
          "output_type": "execute_result",
          "data": {
            "text/plain": [
              "0.5683823529411764"
            ]
          },
          "metadata": {
            "tags": []
          },
          "execution_count": 89
        }
      ]
    }
  ]
}